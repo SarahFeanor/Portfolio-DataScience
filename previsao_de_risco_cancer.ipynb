{
  "nbformat": 4,
  "nbformat_minor": 0,
  "metadata": {
    "colab": {
      "provenance": [],
      "authorship_tag": "ABX9TyNJJT5JvecaJ2wijxkSu610",
      "include_colab_link": true
    },
    "kernelspec": {
      "name": "python3",
      "display_name": "Python 3"
    },
    "language_info": {
      "name": "python"
    },
    "widgets": {
      "application/vnd.jupyter.widget-state+json": {
        "56c9d18d3c8d492db34cb2981f1a49ed": {
          "model_module": "@jupyter-widgets/controls",
          "model_name": "HBoxModel",
          "model_module_version": "1.5.0",
          "state": {
            "_dom_classes": [],
            "_model_module": "@jupyter-widgets/controls",
            "_model_module_version": "1.5.0",
            "_model_name": "HBoxModel",
            "_view_count": null,
            "_view_module": "@jupyter-widgets/controls",
            "_view_module_version": "1.5.0",
            "_view_name": "HBoxView",
            "box_style": "",
            "children": [
              "IPY_MODEL_2f883de093524d68b456fd630c1f0ac1",
              "IPY_MODEL_8d4baacab5d1456a8f364378d716702f",
              "IPY_MODEL_3c3d428ea99f43feafce06cdb53d976d"
            ],
            "layout": "IPY_MODEL_2cb2cb6cc77c47c7923c65d7b0031043"
          }
        },
        "2f883de093524d68b456fd630c1f0ac1": {
          "model_module": "@jupyter-widgets/controls",
          "model_name": "HTMLModel",
          "model_module_version": "1.5.0",
          "state": {
            "_dom_classes": [],
            "_model_module": "@jupyter-widgets/controls",
            "_model_module_version": "1.5.0",
            "_model_name": "HTMLModel",
            "_view_count": null,
            "_view_module": "@jupyter-widgets/controls",
            "_view_module_version": "1.5.0",
            "_view_name": "HTMLView",
            "description": "",
            "description_tooltip": null,
            "layout": "IPY_MODEL_a9b7561d35d14be3ba665be88b81d412",
            "placeholder": "​",
            "style": "IPY_MODEL_bd926a34692c45b6a66920d3ca1cfb88",
            "value": "Processing: 100%"
          }
        },
        "8d4baacab5d1456a8f364378d716702f": {
          "model_module": "@jupyter-widgets/controls",
          "model_name": "FloatProgressModel",
          "model_module_version": "1.5.0",
          "state": {
            "_dom_classes": [],
            "_model_module": "@jupyter-widgets/controls",
            "_model_module_version": "1.5.0",
            "_model_name": "FloatProgressModel",
            "_view_count": null,
            "_view_module": "@jupyter-widgets/controls",
            "_view_module_version": "1.5.0",
            "_view_name": "ProgressView",
            "bar_style": "",
            "description": "",
            "description_tooltip": null,
            "layout": "IPY_MODEL_c34ce1d0a4ff42f4b806cef59d8f50c3",
            "max": 69,
            "min": 0,
            "orientation": "horizontal",
            "style": "IPY_MODEL_b8938507958f441b94bebf1c19170eb7",
            "value": 69
          }
        },
        "3c3d428ea99f43feafce06cdb53d976d": {
          "model_module": "@jupyter-widgets/controls",
          "model_name": "HTMLModel",
          "model_module_version": "1.5.0",
          "state": {
            "_dom_classes": [],
            "_model_module": "@jupyter-widgets/controls",
            "_model_module_version": "1.5.0",
            "_model_name": "HTMLModel",
            "_view_count": null,
            "_view_module": "@jupyter-widgets/controls",
            "_view_module_version": "1.5.0",
            "_view_name": "HTMLView",
            "description": "",
            "description_tooltip": null,
            "layout": "IPY_MODEL_ae87a4828a00414a8007f02566e811eb",
            "placeholder": "​",
            "style": "IPY_MODEL_dd5c0d15898e455cb399687fa7a74003",
            "value": " 69/69 [04:54&lt;00:00,  4.96s/it]"
          }
        },
        "2cb2cb6cc77c47c7923c65d7b0031043": {
          "model_module": "@jupyter-widgets/base",
          "model_name": "LayoutModel",
          "model_module_version": "1.2.0",
          "state": {
            "_model_module": "@jupyter-widgets/base",
            "_model_module_version": "1.2.0",
            "_model_name": "LayoutModel",
            "_view_count": null,
            "_view_module": "@jupyter-widgets/base",
            "_view_module_version": "1.2.0",
            "_view_name": "LayoutView",
            "align_content": null,
            "align_items": null,
            "align_self": null,
            "border": null,
            "bottom": null,
            "display": null,
            "flex": null,
            "flex_flow": null,
            "grid_area": null,
            "grid_auto_columns": null,
            "grid_auto_flow": null,
            "grid_auto_rows": null,
            "grid_column": null,
            "grid_gap": null,
            "grid_row": null,
            "grid_template_areas": null,
            "grid_template_columns": null,
            "grid_template_rows": null,
            "height": null,
            "justify_content": null,
            "justify_items": null,
            "left": null,
            "margin": null,
            "max_height": null,
            "max_width": null,
            "min_height": null,
            "min_width": null,
            "object_fit": null,
            "object_position": null,
            "order": null,
            "overflow": null,
            "overflow_x": null,
            "overflow_y": null,
            "padding": null,
            "right": null,
            "top": null,
            "visibility": "hidden",
            "width": null
          }
        },
        "a9b7561d35d14be3ba665be88b81d412": {
          "model_module": "@jupyter-widgets/base",
          "model_name": "LayoutModel",
          "model_module_version": "1.2.0",
          "state": {
            "_model_module": "@jupyter-widgets/base",
            "_model_module_version": "1.2.0",
            "_model_name": "LayoutModel",
            "_view_count": null,
            "_view_module": "@jupyter-widgets/base",
            "_view_module_version": "1.2.0",
            "_view_name": "LayoutView",
            "align_content": null,
            "align_items": null,
            "align_self": null,
            "border": null,
            "bottom": null,
            "display": null,
            "flex": null,
            "flex_flow": null,
            "grid_area": null,
            "grid_auto_columns": null,
            "grid_auto_flow": null,
            "grid_auto_rows": null,
            "grid_column": null,
            "grid_gap": null,
            "grid_row": null,
            "grid_template_areas": null,
            "grid_template_columns": null,
            "grid_template_rows": null,
            "height": null,
            "justify_content": null,
            "justify_items": null,
            "left": null,
            "margin": null,
            "max_height": null,
            "max_width": null,
            "min_height": null,
            "min_width": null,
            "object_fit": null,
            "object_position": null,
            "order": null,
            "overflow": null,
            "overflow_x": null,
            "overflow_y": null,
            "padding": null,
            "right": null,
            "top": null,
            "visibility": null,
            "width": null
          }
        },
        "bd926a34692c45b6a66920d3ca1cfb88": {
          "model_module": "@jupyter-widgets/controls",
          "model_name": "DescriptionStyleModel",
          "model_module_version": "1.5.0",
          "state": {
            "_model_module": "@jupyter-widgets/controls",
            "_model_module_version": "1.5.0",
            "_model_name": "DescriptionStyleModel",
            "_view_count": null,
            "_view_module": "@jupyter-widgets/base",
            "_view_module_version": "1.2.0",
            "_view_name": "StyleView",
            "description_width": ""
          }
        },
        "c34ce1d0a4ff42f4b806cef59d8f50c3": {
          "model_module": "@jupyter-widgets/base",
          "model_name": "LayoutModel",
          "model_module_version": "1.2.0",
          "state": {
            "_model_module": "@jupyter-widgets/base",
            "_model_module_version": "1.2.0",
            "_model_name": "LayoutModel",
            "_view_count": null,
            "_view_module": "@jupyter-widgets/base",
            "_view_module_version": "1.2.0",
            "_view_name": "LayoutView",
            "align_content": null,
            "align_items": null,
            "align_self": null,
            "border": null,
            "bottom": null,
            "display": null,
            "flex": null,
            "flex_flow": null,
            "grid_area": null,
            "grid_auto_columns": null,
            "grid_auto_flow": null,
            "grid_auto_rows": null,
            "grid_column": null,
            "grid_gap": null,
            "grid_row": null,
            "grid_template_areas": null,
            "grid_template_columns": null,
            "grid_template_rows": null,
            "height": null,
            "justify_content": null,
            "justify_items": null,
            "left": null,
            "margin": null,
            "max_height": null,
            "max_width": null,
            "min_height": null,
            "min_width": null,
            "object_fit": null,
            "object_position": null,
            "order": null,
            "overflow": null,
            "overflow_x": null,
            "overflow_y": null,
            "padding": null,
            "right": null,
            "top": null,
            "visibility": null,
            "width": null
          }
        },
        "b8938507958f441b94bebf1c19170eb7": {
          "model_module": "@jupyter-widgets/controls",
          "model_name": "ProgressStyleModel",
          "model_module_version": "1.5.0",
          "state": {
            "_model_module": "@jupyter-widgets/controls",
            "_model_module_version": "1.5.0",
            "_model_name": "ProgressStyleModel",
            "_view_count": null,
            "_view_module": "@jupyter-widgets/base",
            "_view_module_version": "1.2.0",
            "_view_name": "StyleView",
            "bar_color": null,
            "description_width": ""
          }
        },
        "ae87a4828a00414a8007f02566e811eb": {
          "model_module": "@jupyter-widgets/base",
          "model_name": "LayoutModel",
          "model_module_version": "1.2.0",
          "state": {
            "_model_module": "@jupyter-widgets/base",
            "_model_module_version": "1.2.0",
            "_model_name": "LayoutModel",
            "_view_count": null,
            "_view_module": "@jupyter-widgets/base",
            "_view_module_version": "1.2.0",
            "_view_name": "LayoutView",
            "align_content": null,
            "align_items": null,
            "align_self": null,
            "border": null,
            "bottom": null,
            "display": null,
            "flex": null,
            "flex_flow": null,
            "grid_area": null,
            "grid_auto_columns": null,
            "grid_auto_flow": null,
            "grid_auto_rows": null,
            "grid_column": null,
            "grid_gap": null,
            "grid_row": null,
            "grid_template_areas": null,
            "grid_template_columns": null,
            "grid_template_rows": null,
            "height": null,
            "justify_content": null,
            "justify_items": null,
            "left": null,
            "margin": null,
            "max_height": null,
            "max_width": null,
            "min_height": null,
            "min_width": null,
            "object_fit": null,
            "object_position": null,
            "order": null,
            "overflow": null,
            "overflow_x": null,
            "overflow_y": null,
            "padding": null,
            "right": null,
            "top": null,
            "visibility": null,
            "width": null
          }
        },
        "dd5c0d15898e455cb399687fa7a74003": {
          "model_module": "@jupyter-widgets/controls",
          "model_name": "DescriptionStyleModel",
          "model_module_version": "1.5.0",
          "state": {
            "_model_module": "@jupyter-widgets/controls",
            "_model_module_version": "1.5.0",
            "_model_name": "DescriptionStyleModel",
            "_view_count": null,
            "_view_module": "@jupyter-widgets/base",
            "_view_module_version": "1.2.0",
            "_view_name": "StyleView",
            "description_width": ""
          }
        },
        "b2374359fed3403688ae042964751f79": {
          "model_module": "@jupyter-widgets/controls",
          "model_name": "HBoxModel",
          "model_module_version": "1.5.0",
          "state": {
            "_dom_classes": [],
            "_model_module": "@jupyter-widgets/controls",
            "_model_module_version": "1.5.0",
            "_model_name": "HBoxModel",
            "_view_count": null,
            "_view_module": "@jupyter-widgets/controls",
            "_view_module_version": "1.5.0",
            "_view_name": "HBoxView",
            "box_style": "",
            "children": [
              "IPY_MODEL_eeda762865444983a90c7393a38a8137",
              "IPY_MODEL_6386bf7d59194f9089030b296268ef6e",
              "IPY_MODEL_1236f26126cf45fb8e4b7d74023f192b"
            ],
            "layout": "IPY_MODEL_9c7b783795984fe5891c7c912e13bee7"
          }
        },
        "eeda762865444983a90c7393a38a8137": {
          "model_module": "@jupyter-widgets/controls",
          "model_name": "HTMLModel",
          "model_module_version": "1.5.0",
          "state": {
            "_dom_classes": [],
            "_model_module": "@jupyter-widgets/controls",
            "_model_module_version": "1.5.0",
            "_model_name": "HTMLModel",
            "_view_count": null,
            "_view_module": "@jupyter-widgets/controls",
            "_view_module_version": "1.5.0",
            "_view_name": "HTMLView",
            "description": "",
            "description_tooltip": null,
            "layout": "IPY_MODEL_5ddae0f4ffef494884f576cdb06a6701",
            "placeholder": "​",
            "style": "IPY_MODEL_e21783ff62994331ac82f348463ff3e7",
            "value": "Processing: 100%"
          }
        },
        "6386bf7d59194f9089030b296268ef6e": {
          "model_module": "@jupyter-widgets/controls",
          "model_name": "FloatProgressModel",
          "model_module_version": "1.5.0",
          "state": {
            "_dom_classes": [],
            "_model_module": "@jupyter-widgets/controls",
            "_model_module_version": "1.5.0",
            "_model_name": "FloatProgressModel",
            "_view_count": null,
            "_view_module": "@jupyter-widgets/controls",
            "_view_module_version": "1.5.0",
            "_view_name": "ProgressView",
            "bar_style": "",
            "description": "",
            "description_tooltip": null,
            "layout": "IPY_MODEL_89a2299e704b45b9a5f54254ce4628c4",
            "max": 4,
            "min": 0,
            "orientation": "horizontal",
            "style": "IPY_MODEL_aa156e42d58b4bab9c3aa7ddec88a8ee",
            "value": 4
          }
        },
        "1236f26126cf45fb8e4b7d74023f192b": {
          "model_module": "@jupyter-widgets/controls",
          "model_name": "HTMLModel",
          "model_module_version": "1.5.0",
          "state": {
            "_dom_classes": [],
            "_model_module": "@jupyter-widgets/controls",
            "_model_module_version": "1.5.0",
            "_model_name": "HTMLModel",
            "_view_count": null,
            "_view_module": "@jupyter-widgets/controls",
            "_view_module_version": "1.5.0",
            "_view_name": "HTMLView",
            "description": "",
            "description_tooltip": null,
            "layout": "IPY_MODEL_f301db3a880447f298366ab9e6e64e81",
            "placeholder": "​",
            "style": "IPY_MODEL_808c3c2f45f14ab6ad053d008f40cf58",
            "value": " 4/4 [01:04&lt;00:00, 15.51s/it]"
          }
        },
        "9c7b783795984fe5891c7c912e13bee7": {
          "model_module": "@jupyter-widgets/base",
          "model_name": "LayoutModel",
          "model_module_version": "1.2.0",
          "state": {
            "_model_module": "@jupyter-widgets/base",
            "_model_module_version": "1.2.0",
            "_model_name": "LayoutModel",
            "_view_count": null,
            "_view_module": "@jupyter-widgets/base",
            "_view_module_version": "1.2.0",
            "_view_name": "LayoutView",
            "align_content": null,
            "align_items": null,
            "align_self": null,
            "border": null,
            "bottom": null,
            "display": null,
            "flex": null,
            "flex_flow": null,
            "grid_area": null,
            "grid_auto_columns": null,
            "grid_auto_flow": null,
            "grid_auto_rows": null,
            "grid_column": null,
            "grid_gap": null,
            "grid_row": null,
            "grid_template_areas": null,
            "grid_template_columns": null,
            "grid_template_rows": null,
            "height": null,
            "justify_content": null,
            "justify_items": null,
            "left": null,
            "margin": null,
            "max_height": null,
            "max_width": null,
            "min_height": null,
            "min_width": null,
            "object_fit": null,
            "object_position": null,
            "order": null,
            "overflow": null,
            "overflow_x": null,
            "overflow_y": null,
            "padding": null,
            "right": null,
            "top": null,
            "visibility": "hidden",
            "width": null
          }
        },
        "5ddae0f4ffef494884f576cdb06a6701": {
          "model_module": "@jupyter-widgets/base",
          "model_name": "LayoutModel",
          "model_module_version": "1.2.0",
          "state": {
            "_model_module": "@jupyter-widgets/base",
            "_model_module_version": "1.2.0",
            "_model_name": "LayoutModel",
            "_view_count": null,
            "_view_module": "@jupyter-widgets/base",
            "_view_module_version": "1.2.0",
            "_view_name": "LayoutView",
            "align_content": null,
            "align_items": null,
            "align_self": null,
            "border": null,
            "bottom": null,
            "display": null,
            "flex": null,
            "flex_flow": null,
            "grid_area": null,
            "grid_auto_columns": null,
            "grid_auto_flow": null,
            "grid_auto_rows": null,
            "grid_column": null,
            "grid_gap": null,
            "grid_row": null,
            "grid_template_areas": null,
            "grid_template_columns": null,
            "grid_template_rows": null,
            "height": null,
            "justify_content": null,
            "justify_items": null,
            "left": null,
            "margin": null,
            "max_height": null,
            "max_width": null,
            "min_height": null,
            "min_width": null,
            "object_fit": null,
            "object_position": null,
            "order": null,
            "overflow": null,
            "overflow_x": null,
            "overflow_y": null,
            "padding": null,
            "right": null,
            "top": null,
            "visibility": null,
            "width": null
          }
        },
        "e21783ff62994331ac82f348463ff3e7": {
          "model_module": "@jupyter-widgets/controls",
          "model_name": "DescriptionStyleModel",
          "model_module_version": "1.5.0",
          "state": {
            "_model_module": "@jupyter-widgets/controls",
            "_model_module_version": "1.5.0",
            "_model_name": "DescriptionStyleModel",
            "_view_count": null,
            "_view_module": "@jupyter-widgets/base",
            "_view_module_version": "1.2.0",
            "_view_name": "StyleView",
            "description_width": ""
          }
        },
        "89a2299e704b45b9a5f54254ce4628c4": {
          "model_module": "@jupyter-widgets/base",
          "model_name": "LayoutModel",
          "model_module_version": "1.2.0",
          "state": {
            "_model_module": "@jupyter-widgets/base",
            "_model_module_version": "1.2.0",
            "_model_name": "LayoutModel",
            "_view_count": null,
            "_view_module": "@jupyter-widgets/base",
            "_view_module_version": "1.2.0",
            "_view_name": "LayoutView",
            "align_content": null,
            "align_items": null,
            "align_self": null,
            "border": null,
            "bottom": null,
            "display": null,
            "flex": null,
            "flex_flow": null,
            "grid_area": null,
            "grid_auto_columns": null,
            "grid_auto_flow": null,
            "grid_auto_rows": null,
            "grid_column": null,
            "grid_gap": null,
            "grid_row": null,
            "grid_template_areas": null,
            "grid_template_columns": null,
            "grid_template_rows": null,
            "height": null,
            "justify_content": null,
            "justify_items": null,
            "left": null,
            "margin": null,
            "max_height": null,
            "max_width": null,
            "min_height": null,
            "min_width": null,
            "object_fit": null,
            "object_position": null,
            "order": null,
            "overflow": null,
            "overflow_x": null,
            "overflow_y": null,
            "padding": null,
            "right": null,
            "top": null,
            "visibility": null,
            "width": null
          }
        },
        "aa156e42d58b4bab9c3aa7ddec88a8ee": {
          "model_module": "@jupyter-widgets/controls",
          "model_name": "ProgressStyleModel",
          "model_module_version": "1.5.0",
          "state": {
            "_model_module": "@jupyter-widgets/controls",
            "_model_module_version": "1.5.0",
            "_model_name": "ProgressStyleModel",
            "_view_count": null,
            "_view_module": "@jupyter-widgets/base",
            "_view_module_version": "1.2.0",
            "_view_name": "StyleView",
            "bar_color": null,
            "description_width": ""
          }
        },
        "f301db3a880447f298366ab9e6e64e81": {
          "model_module": "@jupyter-widgets/base",
          "model_name": "LayoutModel",
          "model_module_version": "1.2.0",
          "state": {
            "_model_module": "@jupyter-widgets/base",
            "_model_module_version": "1.2.0",
            "_model_name": "LayoutModel",
            "_view_count": null,
            "_view_module": "@jupyter-widgets/base",
            "_view_module_version": "1.2.0",
            "_view_name": "LayoutView",
            "align_content": null,
            "align_items": null,
            "align_self": null,
            "border": null,
            "bottom": null,
            "display": null,
            "flex": null,
            "flex_flow": null,
            "grid_area": null,
            "grid_auto_columns": null,
            "grid_auto_flow": null,
            "grid_auto_rows": null,
            "grid_column": null,
            "grid_gap": null,
            "grid_row": null,
            "grid_template_areas": null,
            "grid_template_columns": null,
            "grid_template_rows": null,
            "height": null,
            "justify_content": null,
            "justify_items": null,
            "left": null,
            "margin": null,
            "max_height": null,
            "max_width": null,
            "min_height": null,
            "min_width": null,
            "object_fit": null,
            "object_position": null,
            "order": null,
            "overflow": null,
            "overflow_x": null,
            "overflow_y": null,
            "padding": null,
            "right": null,
            "top": null,
            "visibility": null,
            "width": null
          }
        },
        "808c3c2f45f14ab6ad053d008f40cf58": {
          "model_module": "@jupyter-widgets/controls",
          "model_name": "DescriptionStyleModel",
          "model_module_version": "1.5.0",
          "state": {
            "_model_module": "@jupyter-widgets/controls",
            "_model_module_version": "1.5.0",
            "_model_name": "DescriptionStyleModel",
            "_view_count": null,
            "_view_module": "@jupyter-widgets/base",
            "_view_module_version": "1.2.0",
            "_view_name": "StyleView",
            "description_width": ""
          }
        },
        "688cd25ae08d4ceeb4c0dd68c7251a36": {
          "model_module": "@jupyter-widgets/controls",
          "model_name": "HBoxModel",
          "model_module_version": "1.5.0",
          "state": {
            "_dom_classes": [],
            "_model_module": "@jupyter-widgets/controls",
            "_model_module_version": "1.5.0",
            "_model_name": "HBoxModel",
            "_view_count": null,
            "_view_module": "@jupyter-widgets/controls",
            "_view_module_version": "1.5.0",
            "_view_name": "HBoxView",
            "box_style": "",
            "children": [
              "IPY_MODEL_59466f5c23ec4b43897ecf951f1494f2",
              "IPY_MODEL_197a2d2e590d4449aa947be249891980",
              "IPY_MODEL_864714978d734277a77fb24a28ddc412"
            ],
            "layout": "IPY_MODEL_bf984f22bee14923a4669337808071f3"
          }
        },
        "59466f5c23ec4b43897ecf951f1494f2": {
          "model_module": "@jupyter-widgets/controls",
          "model_name": "HTMLModel",
          "model_module_version": "1.5.0",
          "state": {
            "_dom_classes": [],
            "_model_module": "@jupyter-widgets/controls",
            "_model_module_version": "1.5.0",
            "_model_name": "HTMLModel",
            "_view_count": null,
            "_view_module": "@jupyter-widgets/controls",
            "_view_module_version": "1.5.0",
            "_view_name": "HTMLView",
            "description": "",
            "description_tooltip": null,
            "layout": "IPY_MODEL_dc9efd7e659e4bfaab65bfa124da7de2",
            "placeholder": "​",
            "style": "IPY_MODEL_af40ca2737a046dfb3d7bb1fd59a9d2d",
            "value": "Processing: 100%"
          }
        },
        "197a2d2e590d4449aa947be249891980": {
          "model_module": "@jupyter-widgets/controls",
          "model_name": "FloatProgressModel",
          "model_module_version": "1.5.0",
          "state": {
            "_dom_classes": [],
            "_model_module": "@jupyter-widgets/controls",
            "_model_module_version": "1.5.0",
            "_model_name": "FloatProgressModel",
            "_view_count": null,
            "_view_module": "@jupyter-widgets/controls",
            "_view_module_version": "1.5.0",
            "_view_name": "ProgressView",
            "bar_style": "",
            "description": "",
            "description_tooltip": null,
            "layout": "IPY_MODEL_bfc006fd26cc46d2bc32ef4c8bce2c0c",
            "max": 7,
            "min": 0,
            "orientation": "horizontal",
            "style": "IPY_MODEL_297d6c73101545798eb78209df552e94",
            "value": 7
          }
        },
        "864714978d734277a77fb24a28ddc412": {
          "model_module": "@jupyter-widgets/controls",
          "model_name": "HTMLModel",
          "model_module_version": "1.5.0",
          "state": {
            "_dom_classes": [],
            "_model_module": "@jupyter-widgets/controls",
            "_model_module_version": "1.5.0",
            "_model_name": "HTMLModel",
            "_view_count": null,
            "_view_module": "@jupyter-widgets/controls",
            "_view_module_version": "1.5.0",
            "_view_name": "HTMLView",
            "description": "",
            "description_tooltip": null,
            "layout": "IPY_MODEL_6520bc7fd30a4128af7066e2608f2b5f",
            "placeholder": "​",
            "style": "IPY_MODEL_389e54892d91474da45c882e3cba8298",
            "value": " 7/7 [03:13&lt;00:00, 21.33s/it]"
          }
        },
        "bf984f22bee14923a4669337808071f3": {
          "model_module": "@jupyter-widgets/base",
          "model_name": "LayoutModel",
          "model_module_version": "1.2.0",
          "state": {
            "_model_module": "@jupyter-widgets/base",
            "_model_module_version": "1.2.0",
            "_model_name": "LayoutModel",
            "_view_count": null,
            "_view_module": "@jupyter-widgets/base",
            "_view_module_version": "1.2.0",
            "_view_name": "LayoutView",
            "align_content": null,
            "align_items": null,
            "align_self": null,
            "border": null,
            "bottom": null,
            "display": null,
            "flex": null,
            "flex_flow": null,
            "grid_area": null,
            "grid_auto_columns": null,
            "grid_auto_flow": null,
            "grid_auto_rows": null,
            "grid_column": null,
            "grid_gap": null,
            "grid_row": null,
            "grid_template_areas": null,
            "grid_template_columns": null,
            "grid_template_rows": null,
            "height": null,
            "justify_content": null,
            "justify_items": null,
            "left": null,
            "margin": null,
            "max_height": null,
            "max_width": null,
            "min_height": null,
            "min_width": null,
            "object_fit": null,
            "object_position": null,
            "order": null,
            "overflow": null,
            "overflow_x": null,
            "overflow_y": null,
            "padding": null,
            "right": null,
            "top": null,
            "visibility": "hidden",
            "width": null
          }
        },
        "dc9efd7e659e4bfaab65bfa124da7de2": {
          "model_module": "@jupyter-widgets/base",
          "model_name": "LayoutModel",
          "model_module_version": "1.2.0",
          "state": {
            "_model_module": "@jupyter-widgets/base",
            "_model_module_version": "1.2.0",
            "_model_name": "LayoutModel",
            "_view_count": null,
            "_view_module": "@jupyter-widgets/base",
            "_view_module_version": "1.2.0",
            "_view_name": "LayoutView",
            "align_content": null,
            "align_items": null,
            "align_self": null,
            "border": null,
            "bottom": null,
            "display": null,
            "flex": null,
            "flex_flow": null,
            "grid_area": null,
            "grid_auto_columns": null,
            "grid_auto_flow": null,
            "grid_auto_rows": null,
            "grid_column": null,
            "grid_gap": null,
            "grid_row": null,
            "grid_template_areas": null,
            "grid_template_columns": null,
            "grid_template_rows": null,
            "height": null,
            "justify_content": null,
            "justify_items": null,
            "left": null,
            "margin": null,
            "max_height": null,
            "max_width": null,
            "min_height": null,
            "min_width": null,
            "object_fit": null,
            "object_position": null,
            "order": null,
            "overflow": null,
            "overflow_x": null,
            "overflow_y": null,
            "padding": null,
            "right": null,
            "top": null,
            "visibility": null,
            "width": null
          }
        },
        "af40ca2737a046dfb3d7bb1fd59a9d2d": {
          "model_module": "@jupyter-widgets/controls",
          "model_name": "DescriptionStyleModel",
          "model_module_version": "1.5.0",
          "state": {
            "_model_module": "@jupyter-widgets/controls",
            "_model_module_version": "1.5.0",
            "_model_name": "DescriptionStyleModel",
            "_view_count": null,
            "_view_module": "@jupyter-widgets/base",
            "_view_module_version": "1.2.0",
            "_view_name": "StyleView",
            "description_width": ""
          }
        },
        "bfc006fd26cc46d2bc32ef4c8bce2c0c": {
          "model_module": "@jupyter-widgets/base",
          "model_name": "LayoutModel",
          "model_module_version": "1.2.0",
          "state": {
            "_model_module": "@jupyter-widgets/base",
            "_model_module_version": "1.2.0",
            "_model_name": "LayoutModel",
            "_view_count": null,
            "_view_module": "@jupyter-widgets/base",
            "_view_module_version": "1.2.0",
            "_view_name": "LayoutView",
            "align_content": null,
            "align_items": null,
            "align_self": null,
            "border": null,
            "bottom": null,
            "display": null,
            "flex": null,
            "flex_flow": null,
            "grid_area": null,
            "grid_auto_columns": null,
            "grid_auto_flow": null,
            "grid_auto_rows": null,
            "grid_column": null,
            "grid_gap": null,
            "grid_row": null,
            "grid_template_areas": null,
            "grid_template_columns": null,
            "grid_template_rows": null,
            "height": null,
            "justify_content": null,
            "justify_items": null,
            "left": null,
            "margin": null,
            "max_height": null,
            "max_width": null,
            "min_height": null,
            "min_width": null,
            "object_fit": null,
            "object_position": null,
            "order": null,
            "overflow": null,
            "overflow_x": null,
            "overflow_y": null,
            "padding": null,
            "right": null,
            "top": null,
            "visibility": null,
            "width": null
          }
        },
        "297d6c73101545798eb78209df552e94": {
          "model_module": "@jupyter-widgets/controls",
          "model_name": "ProgressStyleModel",
          "model_module_version": "1.5.0",
          "state": {
            "_model_module": "@jupyter-widgets/controls",
            "_model_module_version": "1.5.0",
            "_model_name": "ProgressStyleModel",
            "_view_count": null,
            "_view_module": "@jupyter-widgets/base",
            "_view_module_version": "1.2.0",
            "_view_name": "StyleView",
            "bar_color": null,
            "description_width": ""
          }
        },
        "6520bc7fd30a4128af7066e2608f2b5f": {
          "model_module": "@jupyter-widgets/base",
          "model_name": "LayoutModel",
          "model_module_version": "1.2.0",
          "state": {
            "_model_module": "@jupyter-widgets/base",
            "_model_module_version": "1.2.0",
            "_model_name": "LayoutModel",
            "_view_count": null,
            "_view_module": "@jupyter-widgets/base",
            "_view_module_version": "1.2.0",
            "_view_name": "LayoutView",
            "align_content": null,
            "align_items": null,
            "align_self": null,
            "border": null,
            "bottom": null,
            "display": null,
            "flex": null,
            "flex_flow": null,
            "grid_area": null,
            "grid_auto_columns": null,
            "grid_auto_flow": null,
            "grid_auto_rows": null,
            "grid_column": null,
            "grid_gap": null,
            "grid_row": null,
            "grid_template_areas": null,
            "grid_template_columns": null,
            "grid_template_rows": null,
            "height": null,
            "justify_content": null,
            "justify_items": null,
            "left": null,
            "margin": null,
            "max_height": null,
            "max_width": null,
            "min_height": null,
            "min_width": null,
            "object_fit": null,
            "object_position": null,
            "order": null,
            "overflow": null,
            "overflow_x": null,
            "overflow_y": null,
            "padding": null,
            "right": null,
            "top": null,
            "visibility": null,
            "width": null
          }
        },
        "389e54892d91474da45c882e3cba8298": {
          "model_module": "@jupyter-widgets/controls",
          "model_name": "DescriptionStyleModel",
          "model_module_version": "1.5.0",
          "state": {
            "_model_module": "@jupyter-widgets/controls",
            "_model_module_version": "1.5.0",
            "_model_name": "DescriptionStyleModel",
            "_view_count": null,
            "_view_module": "@jupyter-widgets/base",
            "_view_module_version": "1.2.0",
            "_view_name": "StyleView",
            "description_width": ""
          }
        }
      }
    }
  },
  "cells": [
    {
      "cell_type": "markdown",
      "metadata": {
        "id": "view-in-github",
        "colab_type": "text"
      },
      "source": [
        "<a href=\"https://colab.research.google.com/github/SarahFeanor/Portfolio-DataScience/blob/main/previsao_de_risco_cancer.ipynb\" target=\"_parent\"><img src=\"https://colab.research.google.com/assets/colab-badge.svg\" alt=\"Open In Colab\"/></a>"
      ]
    },
    {
      "cell_type": "markdown",
      "source": [
        "<sub> 🔗[GitHub](https://github.com/SarahFeanor) | [LinkedIn](https://www.linkedin.com/in/sarahfrezende/) | [Portfólio](https://github.com/sarahfeanor/Portfolio-DataScience) | [Medium](https://medium.com/@sarahfrezende)  </sub>"
      ],
      "metadata": {
        "id": "z0FAU5FRN3de"
      }
    },
    {
      "cell_type": "markdown",
      "source": [
        "📂 Projeto | Data Science | By Sarah Faria Rezende\n",
        "\n",
        "---"
      ],
      "metadata": {
        "id": "Aslxt3VIN35i"
      }
    },
    {
      "cell_type": "markdown",
      "source": [
        "# **Previsão de Risco de Câncer Cervical aplicando Auto Machine Learning (PyCaret)**\n",
        "\n",
        "O câncer cervical, também conhecido como câncer do colo do útero, é uma condição maligna que afeta mulheres e é causada pelo vírus do papiloma humano (HPV). Fatores como relações sexuais sem proteção, múltiplos parceiros sexuais, início precoce das relações sexuais e infecção pelo HIV aumentam o risco de contrair HPV e desenvolver câncer cervical. Outros fatores, como histórico familiar de câncer cervical, tabagismo e doenças sexualmente transmissíveis, também influenciam. Embora seja comum entre as mulheres, o câncer cervical é considerado um tipo de câncer raro, com menos de 150 mil casos por ano no Brasil.\n",
        "\n",
        "A detecção precoce é crucial para o tratamento eficaz do câncer cervical. No entanto, a detecção requer exames médicos e, quanto mais cedo o câncer for detectado, maiores serão as chances de cura. Diante disso, o uso de técnicas avançadas, como o Machine Learning, pode ser benéfico para prever riscos e auxiliar nos diagnósticos.\n",
        "\n"
      ],
      "metadata": {
        "id": "_UsT1aPfN4Pt"
      }
    },
    {
      "cell_type": "markdown",
      "source": [
        "![CancerCervical-bannerinterno.webp](data:image/webp;base64,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)"
      ],
      "metadata": {
        "id": "sz6uJjIvOyFP"
      }
    },
    {
      "cell_type": "markdown",
      "source": [
        "# **Base de Dados**\n",
        "\n",
        "Os dados utilizados nesse projeto podem ser obtidos [aqui](https://archive.ics.uci.edu/ml/datasets/Cervical+cancer+%28Risk+Factors%29). A base de dados contém 858 linhas e 36 colunas.\n",
        "\n",
        "Essa base de dados apresenta uma lista de fatores de risco associados ao câncer cervical, que levam a exames de biópsia. A previsão de risco de câncer cervical pode ser um passo importante na identificação precoce e no tratamento adequado.\n",
        "\n",
        "Cerca de 11.000 novos casos de câncer cervical invasivo são diagnosticados anualmente nos Estados Unidos. A taxa de novos casos tem diminuído ao longo dos anos, mas o câncer cervical ainda é responsável pela morte de cerca de 4.000 mulheres nos EUA e 300.000 mulheres em todo o mundo a cada ano. Embora seja o câncer mais evitável, o teste de Papanicolau contribuiu para a queda nas taxas de mortalidade.\n",
        "\n",
        "### **Fatores de Risco Relacionados ao Câncer Cervical**\n",
        "\n",
        "\n",
        "* **Histórico Familiar**: Mulheres que têm um parente de primeiro grau (como mãe ou irmã) com histórico de câncer cervical têm maior risco.\n",
        "\n",
        "* **Uso de Contraceptivos Orais**: O uso prolongado de pílulas anticoncepcionais por mais de 5 a 10 anos aumenta o risco de infecção por HPV e, consequentemente, o risco de câncer cervical.\n",
        "\n",
        "* **Idade**: A maioria dos diagnósticos de câncer cervical ocorre em mulheres de 35 a 54 anos. Mulheres entre 20 e 30 anos têm cerca de 15% de probabilidade de desenvolver a doença. O câncer cervical é raro em mulheres com menos de 20 anos, mas mulheres jovens que são infectadas com diferentes tipos de HPV têm maior risco no futuro.\n",
        "\n",
        "* **Atividade Sexual**: O HPV é o principal fator de risco para o câncer cervical. Ter múltiplos parceiros sexuais e iniciar atividade sexual em idade precoce aumenta o risco. O vírus HPV é transmitido por meio de relações sexuais com uma pessoa infectada.\n",
        "\n",
        "* **Número de Filhos**: Estudos indicam que ter muitos filhos aumenta o risco de desenvolver câncer cervical, especialmente se a mulher for infectada com HPV.\n",
        "\n",
        "* **Tabagismo**: Fumar está associado a um maior risco de alterações pré-cancerosas no colo do útero e de progressão para câncer cervical invasivo, especialmente em mulheres infectadas com HPV.\n",
        "\n",
        "* **Imunossupressão**: Mulheres com sistema imunológico enfraquecido, como aquelas com HIV/AIDS, são mais suscetíveis a adquirir HPV e desenvolver câncer cervical.\n",
        "\n",
        "* **Fatores socieconômicos e étnicos**: Embora a taxa de câncer cervical tenha diminuído entre caucasianas e afro-americanas, esse tipo de câncer permanece mais prevalente entre as afro-americanas, cujas taxas de mortalidade são duas vezes maiores. Mulheres hispano-americanas também possuem mais de duas vezes o risco de desenvolver câncer cervical invasivo em comparação às mulheres brancas, devido a fatores como acesso limitado a serviços de rastreamento.\n"
      ],
      "metadata": {
        "id": "kuU3qy5jOyTG"
      }
    },
    {
      "cell_type": "markdown",
      "source": [
        "# **Objetivo**\n",
        "\n",
        "Utilizar a biblioteca de Auto Machine Learning Pycaret para desenvolver um modelo que possa prever o risco de câncer cervical com base em fatores de risco e características dos pacientes.\n",
        "\n",
        "## **Instalação da Biblioteca PyCaret**\n"
      ],
      "metadata": {
        "id": "tSUDEiRMO40e"
      }
    },
    {
      "cell_type": "code",
      "source": [
        "pip install pycaret\n"
      ],
      "metadata": {
        "id": "Q_FOJ7uBPMr-",
        "colab": {
          "base_uri": "https://localhost:8080/"
        },
        "outputId": "9802d59e-8386-4254-accb-4fe1fcc7534b"
      },
      "execution_count": 3,
      "outputs": [
        {
          "output_type": "stream",
          "name": "stdout",
          "text": [
            "Collecting pycaret\n",
            "  Downloading pycaret-3.0.4-py3-none-any.whl (484 kB)\n",
            "\u001b[2K     \u001b[90m━━━━━━━━━━━━━━━━━━━━━━━━━━━━━━━━━━━━━━━\u001b[0m \u001b[32m484.4/484.4 kB\u001b[0m \u001b[31m5.3 MB/s\u001b[0m eta \u001b[36m0:00:00\u001b[0m\n",
            "\u001b[?25hRequirement already satisfied: ipython>=5.5.0 in /usr/local/lib/python3.10/dist-packages (from pycaret) (7.34.0)\n",
            "Requirement already satisfied: ipywidgets>=7.6.5 in /usr/local/lib/python3.10/dist-packages (from pycaret) (7.7.1)\n",
            "Requirement already satisfied: tqdm>=4.62.0 in /usr/local/lib/python3.10/dist-packages (from pycaret) (4.66.1)\n",
            "Requirement already satisfied: numpy<1.24,>=1.21 in /usr/local/lib/python3.10/dist-packages (from pycaret) (1.23.5)\n",
            "Requirement already satisfied: pandas<2.0.0,>=1.3.0 in /usr/local/lib/python3.10/dist-packages (from pycaret) (1.5.3)\n",
            "Requirement already satisfied: jinja2>=1.2 in /usr/local/lib/python3.10/dist-packages (from pycaret) (3.1.2)\n",
            "Requirement already satisfied: scipy<2.0.0 in /usr/local/lib/python3.10/dist-packages (from pycaret) (1.10.1)\n",
            "Requirement already satisfied: joblib>=1.2.0 in /usr/local/lib/python3.10/dist-packages (from pycaret) (1.3.2)\n",
            "Requirement already satisfied: scikit-learn<1.3.0,>=1.0 in /usr/local/lib/python3.10/dist-packages (from pycaret) (1.2.2)\n",
            "Collecting pyod>=1.0.8 (from pycaret)\n",
            "  Downloading pyod-1.1.0.tar.gz (153 kB)\n",
            "\u001b[2K     \u001b[90m━━━━━━━━━━━━━━━━━━━━━━━━━━━━━━━━━━━━━━━\u001b[0m \u001b[32m153.4/153.4 kB\u001b[0m \u001b[31m7.9 MB/s\u001b[0m eta \u001b[36m0:00:00\u001b[0m\n",
            "\u001b[?25h  Preparing metadata (setup.py) ... \u001b[?25l\u001b[?25hdone\n",
            "Requirement already satisfied: imbalanced-learn>=0.8.1 in /usr/local/lib/python3.10/dist-packages (from pycaret) (0.10.1)\n",
            "Collecting category-encoders>=2.4.0 (from pycaret)\n",
            "  Downloading category_encoders-2.6.2-py2.py3-none-any.whl (81 kB)\n",
            "\u001b[2K     \u001b[90m━━━━━━━━━━━━━━━━━━━━━━━━━━━━━━━━━━━━━━━━\u001b[0m \u001b[32m81.8/81.8 kB\u001b[0m \u001b[31m12.4 MB/s\u001b[0m eta \u001b[36m0:00:00\u001b[0m\n",
            "\u001b[?25hRequirement already satisfied: lightgbm>=3.0.0 in /usr/local/lib/python3.10/dist-packages (from pycaret) (4.0.0)\n",
            "Requirement already satisfied: numba>=0.55.0 in /usr/local/lib/python3.10/dist-packages (from pycaret) (0.56.4)\n",
            "Requirement already satisfied: requests>=2.27.1 in /usr/local/lib/python3.10/dist-packages (from pycaret) (2.31.0)\n",
            "Requirement already satisfied: psutil>=5.9.0 in /usr/local/lib/python3.10/dist-packages (from pycaret) (5.9.5)\n",
            "Requirement already satisfied: markupsafe>=2.0.1 in /usr/local/lib/python3.10/dist-packages (from pycaret) (2.1.3)\n",
            "Requirement already satisfied: importlib-metadata>=4.12.0 in /usr/local/lib/python3.10/dist-packages (from pycaret) (6.8.0)\n",
            "Requirement already satisfied: nbformat>=4.2.0 in /usr/local/lib/python3.10/dist-packages (from pycaret) (5.9.2)\n",
            "Requirement already satisfied: cloudpickle in /usr/local/lib/python3.10/dist-packages (from pycaret) (2.2.1)\n",
            "Collecting deprecation>=2.1.0 (from pycaret)\n",
            "  Downloading deprecation-2.1.0-py2.py3-none-any.whl (11 kB)\n",
            "Collecting xxhash (from pycaret)\n",
            "  Downloading xxhash-3.3.0-cp310-cp310-manylinux_2_17_x86_64.manylinux2014_x86_64.whl (194 kB)\n",
            "\u001b[2K     \u001b[90m━━━━━━━━━━━━━━━━━━━━━━━━━━━━━━━━━━━━━━━\u001b[0m \u001b[32m194.1/194.1 kB\u001b[0m \u001b[31m8.5 MB/s\u001b[0m eta \u001b[36m0:00:00\u001b[0m\n",
            "\u001b[?25hRequirement already satisfied: matplotlib>=3.3.0 in /usr/local/lib/python3.10/dist-packages (from pycaret) (3.7.1)\n",
            "Collecting scikit-plot>=0.3.7 (from pycaret)\n",
            "  Downloading scikit_plot-0.3.7-py3-none-any.whl (33 kB)\n",
            "Requirement already satisfied: yellowbrick>=1.4 in /usr/local/lib/python3.10/dist-packages (from pycaret) (1.5)\n",
            "Requirement already satisfied: plotly>=5.0.0 in /usr/local/lib/python3.10/dist-packages (from pycaret) (5.15.0)\n",
            "Collecting kaleido>=0.2.1 (from pycaret)\n",
            "  Downloading kaleido-0.2.1-py2.py3-none-manylinux1_x86_64.whl (79.9 MB)\n",
            "\u001b[2K     \u001b[90m━━━━━━━━━━━━━━━━━━━━━━━━━━━━━━━━━━━━━━━━\u001b[0m \u001b[32m79.9/79.9 MB\u001b[0m \u001b[31m12.5 MB/s\u001b[0m eta \u001b[36m0:00:00\u001b[0m\n",
            "\u001b[?25hCollecting schemdraw==0.15 (from pycaret)\n",
            "  Downloading schemdraw-0.15-py3-none-any.whl (106 kB)\n",
            "\u001b[2K     \u001b[90m━━━━━━━━━━━━━━━━━━━━━━━━━━━━━━━━━━━━━━\u001b[0m \u001b[32m106.8/106.8 kB\u001b[0m \u001b[31m14.8 MB/s\u001b[0m eta \u001b[36m0:00:00\u001b[0m\n",
            "\u001b[?25hCollecting plotly-resampler>=0.8.3.1 (from pycaret)\n",
            "  Downloading plotly_resampler-0.9.1-py3-none-any.whl (73 kB)\n",
            "\u001b[2K     \u001b[90m━━━━━━━━━━━━━━━━━━━━━━━━━━━━━━━━━━━━━━━━\u001b[0m \u001b[32m73.4/73.4 kB\u001b[0m \u001b[31m9.1 MB/s\u001b[0m eta \u001b[36m0:00:00\u001b[0m\n",
            "\u001b[?25hRequirement already satisfied: statsmodels>=0.12.1 in /usr/local/lib/python3.10/dist-packages (from pycaret) (0.14.0)\n",
            "Collecting sktime!=0.17.1,!=0.17.2,!=0.18.0,>=0.16.1 (from pycaret)\n",
            "  Downloading sktime-0.22.0-py3-none-any.whl (17.5 MB)\n",
            "\u001b[2K     \u001b[90m━━━━━━━━━━━━━━━━━━━━━━━━━━━━━━━━━━━━━━━━\u001b[0m \u001b[32m17.5/17.5 MB\u001b[0m \u001b[31m51.0 MB/s\u001b[0m eta \u001b[36m0:00:00\u001b[0m\n",
            "\u001b[?25hCollecting tbats>=1.1.3 (from pycaret)\n",
            "  Downloading tbats-1.1.3-py3-none-any.whl (44 kB)\n",
            "\u001b[2K     \u001b[90m━━━━━━━━━━━━━━━━━━━━━━━━━━━━━━━━━━━━━━━━\u001b[0m \u001b[32m44.0/44.0 kB\u001b[0m \u001b[31m5.5 MB/s\u001b[0m eta \u001b[36m0:00:00\u001b[0m\n",
            "\u001b[?25hCollecting pmdarima!=1.8.1,<3.0.0,>=1.8.0 (from pycaret)\n",
            "  Downloading pmdarima-2.0.3-cp310-cp310-manylinux_2_17_x86_64.manylinux2014_x86_64.manylinux_2_28_x86_64.whl (1.8 MB)\n",
            "\u001b[2K     \u001b[90m━━━━━━━━━━━━━━━━━━━━━━━━━━━━━━━━━━━━━━━━\u001b[0m \u001b[32m1.8/1.8 MB\u001b[0m \u001b[31m79.2 MB/s\u001b[0m eta \u001b[36m0:00:00\u001b[0m\n",
            "\u001b[?25hCollecting wurlitzer (from pycaret)\n",
            "  Downloading wurlitzer-3.0.3-py3-none-any.whl (7.3 kB)\n",
            "Requirement already satisfied: patsy>=0.5.1 in /usr/local/lib/python3.10/dist-packages (from category-encoders>=2.4.0->pycaret) (0.5.3)\n",
            "Requirement already satisfied: packaging in /usr/local/lib/python3.10/dist-packages (from deprecation>=2.1.0->pycaret) (23.1)\n",
            "Requirement already satisfied: threadpoolctl>=2.0.0 in /usr/local/lib/python3.10/dist-packages (from imbalanced-learn>=0.8.1->pycaret) (3.2.0)\n",
            "Requirement already satisfied: zipp>=0.5 in /usr/local/lib/python3.10/dist-packages (from importlib-metadata>=4.12.0->pycaret) (3.16.2)\n",
            "Requirement already satisfied: setuptools>=18.5 in /usr/local/lib/python3.10/dist-packages (from ipython>=5.5.0->pycaret) (67.7.2)\n",
            "Collecting jedi>=0.16 (from ipython>=5.5.0->pycaret)\n",
            "  Downloading jedi-0.19.0-py2.py3-none-any.whl (1.6 MB)\n",
            "\u001b[2K     \u001b[90m━━━━━━━━━━━━━━━━━━━━━━━━━━━━━━━━━━━━━━━━\u001b[0m \u001b[32m1.6/1.6 MB\u001b[0m \u001b[31m85.7 MB/s\u001b[0m eta \u001b[36m0:00:00\u001b[0m\n",
            "\u001b[?25hRequirement already satisfied: decorator in /usr/local/lib/python3.10/dist-packages (from ipython>=5.5.0->pycaret) (4.4.2)\n",
            "Requirement already satisfied: pickleshare in /usr/local/lib/python3.10/dist-packages (from ipython>=5.5.0->pycaret) (0.7.5)\n",
            "Requirement already satisfied: traitlets>=4.2 in /usr/local/lib/python3.10/dist-packages (from ipython>=5.5.0->pycaret) (5.7.1)\n",
            "Requirement already satisfied: prompt-toolkit!=3.0.0,!=3.0.1,<3.1.0,>=2.0.0 in /usr/local/lib/python3.10/dist-packages (from ipython>=5.5.0->pycaret) (3.0.39)\n",
            "Requirement already satisfied: pygments in /usr/local/lib/python3.10/dist-packages (from ipython>=5.5.0->pycaret) (2.16.1)\n",
            "Requirement already satisfied: backcall in /usr/local/lib/python3.10/dist-packages (from ipython>=5.5.0->pycaret) (0.2.0)\n",
            "Requirement already satisfied: matplotlib-inline in /usr/local/lib/python3.10/dist-packages (from ipython>=5.5.0->pycaret) (0.1.6)\n",
            "Requirement already satisfied: pexpect>4.3 in /usr/local/lib/python3.10/dist-packages (from ipython>=5.5.0->pycaret) (4.8.0)\n",
            "Requirement already satisfied: ipykernel>=4.5.1 in /usr/local/lib/python3.10/dist-packages (from ipywidgets>=7.6.5->pycaret) (5.5.6)\n",
            "Requirement already satisfied: ipython-genutils~=0.2.0 in /usr/local/lib/python3.10/dist-packages (from ipywidgets>=7.6.5->pycaret) (0.2.0)\n",
            "Requirement already satisfied: widgetsnbextension~=3.6.0 in /usr/local/lib/python3.10/dist-packages (from ipywidgets>=7.6.5->pycaret) (3.6.5)\n",
            "Requirement already satisfied: jupyterlab-widgets>=1.0.0 in /usr/local/lib/python3.10/dist-packages (from ipywidgets>=7.6.5->pycaret) (3.0.8)\n",
            "Requirement already satisfied: contourpy>=1.0.1 in /usr/local/lib/python3.10/dist-packages (from matplotlib>=3.3.0->pycaret) (1.1.0)\n",
            "Requirement already satisfied: cycler>=0.10 in /usr/local/lib/python3.10/dist-packages (from matplotlib>=3.3.0->pycaret) (0.11.0)\n",
            "Requirement already satisfied: fonttools>=4.22.0 in /usr/local/lib/python3.10/dist-packages (from matplotlib>=3.3.0->pycaret) (4.42.0)\n",
            "Requirement already satisfied: kiwisolver>=1.0.1 in /usr/local/lib/python3.10/dist-packages (from matplotlib>=3.3.0->pycaret) (1.4.4)\n",
            "Requirement already satisfied: pillow>=6.2.0 in /usr/local/lib/python3.10/dist-packages (from matplotlib>=3.3.0->pycaret) (9.4.0)\n",
            "Requirement already satisfied: pyparsing>=2.3.1 in /usr/local/lib/python3.10/dist-packages (from matplotlib>=3.3.0->pycaret) (3.1.1)\n",
            "Requirement already satisfied: python-dateutil>=2.7 in /usr/local/lib/python3.10/dist-packages (from matplotlib>=3.3.0->pycaret) (2.8.2)\n",
            "Requirement already satisfied: fastjsonschema in /usr/local/lib/python3.10/dist-packages (from nbformat>=4.2.0->pycaret) (2.18.0)\n",
            "Requirement already satisfied: jsonschema>=2.6 in /usr/local/lib/python3.10/dist-packages (from nbformat>=4.2.0->pycaret) (4.19.0)\n",
            "Requirement already satisfied: jupyter-core in /usr/local/lib/python3.10/dist-packages (from nbformat>=4.2.0->pycaret) (5.3.1)\n",
            "Requirement already satisfied: llvmlite<0.40,>=0.39.0dev0 in /usr/local/lib/python3.10/dist-packages (from numba>=0.55.0->pycaret) (0.39.1)\n",
            "Requirement already satisfied: pytz>=2020.1 in /usr/local/lib/python3.10/dist-packages (from pandas<2.0.0,>=1.3.0->pycaret) (2023.3)\n",
            "Requirement already satisfied: tenacity>=6.2.0 in /usr/local/lib/python3.10/dist-packages (from plotly>=5.0.0->pycaret) (8.2.3)\n",
            "Collecting dash<3.0.0,>=2.11.0 (from plotly-resampler>=0.8.3.1->pycaret)\n",
            "  Downloading dash-2.12.1-py3-none-any.whl (10.4 MB)\n",
            "\u001b[2K     \u001b[90m━━━━━━━━━━━━━━━━━━━━━━━━━━━━━━━━━━━━━━━━\u001b[0m \u001b[32m10.4/10.4 MB\u001b[0m \u001b[31m33.8 MB/s\u001b[0m eta \u001b[36m0:00:00\u001b[0m\n",
            "\u001b[?25hCollecting orjson<4.0.0,>=3.8.0 (from plotly-resampler>=0.8.3.1->pycaret)\n",
            "  Downloading orjson-3.9.5-cp310-cp310-manylinux_2_17_x86_64.manylinux2014_x86_64.whl (139 kB)\n",
            "\u001b[2K     \u001b[90m━━━━━━━━━━━━━━━━━━━━━━━━━━━━━━━━━━━━━━\u001b[0m \u001b[32m139.9/139.9 kB\u001b[0m \u001b[31m18.5 MB/s\u001b[0m eta \u001b[36m0:00:00\u001b[0m\n",
            "\u001b[?25hCollecting trace-updater>=0.0.8 (from plotly-resampler>=0.8.3.1->pycaret)\n",
            "  Downloading trace_updater-0.0.9.1-py3-none-any.whl (185 kB)\n",
            "\u001b[2K     \u001b[90m━━━━━━━━━━━━━━━━━━━━━━━━━━━━━━━━━━━━━━\u001b[0m \u001b[32m185.2/185.2 kB\u001b[0m \u001b[31m23.9 MB/s\u001b[0m eta \u001b[36m0:00:00\u001b[0m\n",
            "\u001b[?25hCollecting tsdownsample==0.1.2 (from plotly-resampler>=0.8.3.1->pycaret)\n",
            "  Downloading tsdownsample-0.1.2-cp310-cp310-manylinux_2_17_x86_64.manylinux2014_x86_64.whl (2.3 MB)\n",
            "\u001b[2K     \u001b[90m━━━━━━━━━━━━━━━━━━━━━━━━━━━━━━━━━━━━━━━━\u001b[0m \u001b[32m2.3/2.3 MB\u001b[0m \u001b[31m60.0 MB/s\u001b[0m eta \u001b[36m0:00:00\u001b[0m\n",
            "\u001b[?25hRequirement already satisfied: Cython!=0.29.18,!=0.29.31,>=0.29 in /usr/local/lib/python3.10/dist-packages (from pmdarima!=1.8.1,<3.0.0,>=1.8.0->pycaret) (0.29.36)\n",
            "Requirement already satisfied: urllib3 in /usr/local/lib/python3.10/dist-packages (from pmdarima!=1.8.1,<3.0.0,>=1.8.0->pycaret) (2.0.4)\n",
            "Requirement already satisfied: six in /usr/local/lib/python3.10/dist-packages (from pyod>=1.0.8->pycaret) (1.16.0)\n",
            "Requirement already satisfied: charset-normalizer<4,>=2 in /usr/local/lib/python3.10/dist-packages (from requests>=2.27.1->pycaret) (3.2.0)\n",
            "Requirement already satisfied: idna<4,>=2.5 in /usr/local/lib/python3.10/dist-packages (from requests>=2.27.1->pycaret) (3.4)\n",
            "Requirement already satisfied: certifi>=2017.4.17 in /usr/local/lib/python3.10/dist-packages (from requests>=2.27.1->pycaret) (2023.7.22)\n",
            "Collecting scikit-base<0.6.0 (from sktime!=0.17.1,!=0.17.2,!=0.18.0,>=0.16.1->pycaret)\n",
            "  Downloading scikit_base-0.5.1-py3-none-any.whl (118 kB)\n",
            "\u001b[2K     \u001b[90m━━━━━━━━━━━━━━━━━━━━━━━━━━━━━━━━━━━━━━\u001b[0m \u001b[32m118.7/118.7 kB\u001b[0m \u001b[31m13.4 MB/s\u001b[0m eta \u001b[36m0:00:00\u001b[0m\n",
            "\u001b[?25hRequirement already satisfied: Flask<2.3.0,>=1.0.4 in /usr/local/lib/python3.10/dist-packages (from dash<3.0.0,>=2.11.0->plotly-resampler>=0.8.3.1->pycaret) (2.2.5)\n",
            "Collecting Werkzeug<2.3.0 (from dash<3.0.0,>=2.11.0->plotly-resampler>=0.8.3.1->pycaret)\n",
            "  Downloading Werkzeug-2.2.3-py3-none-any.whl (233 kB)\n",
            "\u001b[2K     \u001b[90m━━━━━━━━━━━━━━━━━━━━━━━━━━━━━━━━━━━━━━\u001b[0m \u001b[32m233.6/233.6 kB\u001b[0m \u001b[31m28.2 MB/s\u001b[0m eta \u001b[36m0:00:00\u001b[0m\n",
            "\u001b[?25hCollecting dash-html-components==2.0.0 (from dash<3.0.0,>=2.11.0->plotly-resampler>=0.8.3.1->pycaret)\n",
            "  Downloading dash_html_components-2.0.0-py3-none-any.whl (4.1 kB)\n",
            "Collecting dash-core-components==2.0.0 (from dash<3.0.0,>=2.11.0->plotly-resampler>=0.8.3.1->pycaret)\n",
            "  Downloading dash_core_components-2.0.0-py3-none-any.whl (3.8 kB)\n",
            "Collecting dash-table==5.0.0 (from dash<3.0.0,>=2.11.0->plotly-resampler>=0.8.3.1->pycaret)\n",
            "  Downloading dash_table-5.0.0-py3-none-any.whl (3.9 kB)\n",
            "Requirement already satisfied: typing-extensions>=4.1.1 in /usr/local/lib/python3.10/dist-packages (from dash<3.0.0,>=2.11.0->plotly-resampler>=0.8.3.1->pycaret) (4.7.1)\n",
            "Collecting retrying (from dash<3.0.0,>=2.11.0->plotly-resampler>=0.8.3.1->pycaret)\n",
            "  Downloading retrying-1.3.4-py3-none-any.whl (11 kB)\n",
            "Collecting ansi2html (from dash<3.0.0,>=2.11.0->plotly-resampler>=0.8.3.1->pycaret)\n",
            "  Downloading ansi2html-1.8.0-py3-none-any.whl (16 kB)\n",
            "Requirement already satisfied: nest-asyncio in /usr/local/lib/python3.10/dist-packages (from dash<3.0.0,>=2.11.0->plotly-resampler>=0.8.3.1->pycaret) (1.5.7)\n",
            "Requirement already satisfied: jupyter-client in /usr/local/lib/python3.10/dist-packages (from ipykernel>=4.5.1->ipywidgets>=7.6.5->pycaret) (6.1.12)\n",
            "Requirement already satisfied: tornado>=4.2 in /usr/local/lib/python3.10/dist-packages (from ipykernel>=4.5.1->ipywidgets>=7.6.5->pycaret) (6.3.2)\n",
            "Requirement already satisfied: parso<0.9.0,>=0.8.3 in /usr/local/lib/python3.10/dist-packages (from jedi>=0.16->ipython>=5.5.0->pycaret) (0.8.3)\n",
            "Requirement already satisfied: attrs>=22.2.0 in /usr/local/lib/python3.10/dist-packages (from jsonschema>=2.6->nbformat>=4.2.0->pycaret) (23.1.0)\n",
            "Requirement already satisfied: jsonschema-specifications>=2023.03.6 in /usr/local/lib/python3.10/dist-packages (from jsonschema>=2.6->nbformat>=4.2.0->pycaret) (2023.7.1)\n",
            "Requirement already satisfied: referencing>=0.28.4 in /usr/local/lib/python3.10/dist-packages (from jsonschema>=2.6->nbformat>=4.2.0->pycaret) (0.30.2)\n",
            "Requirement already satisfied: rpds-py>=0.7.1 in /usr/local/lib/python3.10/dist-packages (from jsonschema>=2.6->nbformat>=4.2.0->pycaret) (0.9.2)\n",
            "Requirement already satisfied: ptyprocess>=0.5 in /usr/local/lib/python3.10/dist-packages (from pexpect>4.3->ipython>=5.5.0->pycaret) (0.7.0)\n",
            "Requirement already satisfied: wcwidth in /usr/local/lib/python3.10/dist-packages (from prompt-toolkit!=3.0.0,!=3.0.1,<3.1.0,>=2.0.0->ipython>=5.5.0->pycaret) (0.2.6)\n",
            "Requirement already satisfied: notebook>=4.4.1 in /usr/local/lib/python3.10/dist-packages (from widgetsnbextension~=3.6.0->ipywidgets>=7.6.5->pycaret) (6.5.5)\n",
            "Requirement already satisfied: platformdirs>=2.5 in /usr/local/lib/python3.10/dist-packages (from jupyter-core->nbformat>=4.2.0->pycaret) (3.10.0)\n",
            "Requirement already satisfied: itsdangerous>=2.0 in /usr/local/lib/python3.10/dist-packages (from Flask<2.3.0,>=1.0.4->dash<3.0.0,>=2.11.0->plotly-resampler>=0.8.3.1->pycaret) (2.1.2)\n",
            "Requirement already satisfied: click>=8.0 in /usr/local/lib/python3.10/dist-packages (from Flask<2.3.0,>=1.0.4->dash<3.0.0,>=2.11.0->plotly-resampler>=0.8.3.1->pycaret) (8.1.7)\n",
            "Requirement already satisfied: pyzmq<25,>=17 in /usr/local/lib/python3.10/dist-packages (from notebook>=4.4.1->widgetsnbextension~=3.6.0->ipywidgets>=7.6.5->pycaret) (23.2.1)\n",
            "Requirement already satisfied: argon2-cffi in /usr/local/lib/python3.10/dist-packages (from notebook>=4.4.1->widgetsnbextension~=3.6.0->ipywidgets>=7.6.5->pycaret) (23.1.0)\n",
            "Requirement already satisfied: nbconvert>=5 in /usr/local/lib/python3.10/dist-packages (from notebook>=4.4.1->widgetsnbextension~=3.6.0->ipywidgets>=7.6.5->pycaret) (6.5.4)\n",
            "Requirement already satisfied: Send2Trash>=1.8.0 in /usr/local/lib/python3.10/dist-packages (from notebook>=4.4.1->widgetsnbextension~=3.6.0->ipywidgets>=7.6.5->pycaret) (1.8.2)\n",
            "Requirement already satisfied: terminado>=0.8.3 in /usr/local/lib/python3.10/dist-packages (from notebook>=4.4.1->widgetsnbextension~=3.6.0->ipywidgets>=7.6.5->pycaret) (0.17.1)\n",
            "Requirement already satisfied: prometheus-client in /usr/local/lib/python3.10/dist-packages (from notebook>=4.4.1->widgetsnbextension~=3.6.0->ipywidgets>=7.6.5->pycaret) (0.17.1)\n",
            "Requirement already satisfied: nbclassic>=0.4.7 in /usr/local/lib/python3.10/dist-packages (from notebook>=4.4.1->widgetsnbextension~=3.6.0->ipywidgets>=7.6.5->pycaret) (1.0.0)\n",
            "Requirement already satisfied: jupyter-server>=1.8 in /usr/local/lib/python3.10/dist-packages (from nbclassic>=0.4.7->notebook>=4.4.1->widgetsnbextension~=3.6.0->ipywidgets>=7.6.5->pycaret) (1.24.0)\n",
            "Requirement already satisfied: notebook-shim>=0.2.3 in /usr/local/lib/python3.10/dist-packages (from nbclassic>=0.4.7->notebook>=4.4.1->widgetsnbextension~=3.6.0->ipywidgets>=7.6.5->pycaret) (0.2.3)\n",
            "Requirement already satisfied: lxml in /usr/local/lib/python3.10/dist-packages (from nbconvert>=5->notebook>=4.4.1->widgetsnbextension~=3.6.0->ipywidgets>=7.6.5->pycaret) (4.9.3)\n",
            "Requirement already satisfied: beautifulsoup4 in /usr/local/lib/python3.10/dist-packages (from nbconvert>=5->notebook>=4.4.1->widgetsnbextension~=3.6.0->ipywidgets>=7.6.5->pycaret) (4.11.2)\n",
            "Requirement already satisfied: bleach in /usr/local/lib/python3.10/dist-packages (from nbconvert>=5->notebook>=4.4.1->widgetsnbextension~=3.6.0->ipywidgets>=7.6.5->pycaret) (6.0.0)\n",
            "Requirement already satisfied: defusedxml in /usr/local/lib/python3.10/dist-packages (from nbconvert>=5->notebook>=4.4.1->widgetsnbextension~=3.6.0->ipywidgets>=7.6.5->pycaret) (0.7.1)\n",
            "Requirement already satisfied: entrypoints>=0.2.2 in /usr/local/lib/python3.10/dist-packages (from nbconvert>=5->notebook>=4.4.1->widgetsnbextension~=3.6.0->ipywidgets>=7.6.5->pycaret) (0.4)\n",
            "Requirement already satisfied: jupyterlab-pygments in /usr/local/lib/python3.10/dist-packages (from nbconvert>=5->notebook>=4.4.1->widgetsnbextension~=3.6.0->ipywidgets>=7.6.5->pycaret) (0.2.2)\n",
            "Requirement already satisfied: mistune<2,>=0.8.1 in /usr/local/lib/python3.10/dist-packages (from nbconvert>=5->notebook>=4.4.1->widgetsnbextension~=3.6.0->ipywidgets>=7.6.5->pycaret) (0.8.4)\n",
            "Requirement already satisfied: nbclient>=0.5.0 in /usr/local/lib/python3.10/dist-packages (from nbconvert>=5->notebook>=4.4.1->widgetsnbextension~=3.6.0->ipywidgets>=7.6.5->pycaret) (0.8.0)\n",
            "Requirement already satisfied: pandocfilters>=1.4.1 in /usr/local/lib/python3.10/dist-packages (from nbconvert>=5->notebook>=4.4.1->widgetsnbextension~=3.6.0->ipywidgets>=7.6.5->pycaret) (1.5.0)\n",
            "Requirement already satisfied: tinycss2 in /usr/local/lib/python3.10/dist-packages (from nbconvert>=5->notebook>=4.4.1->widgetsnbextension~=3.6.0->ipywidgets>=7.6.5->pycaret) (1.2.1)\n",
            "Requirement already satisfied: argon2-cffi-bindings in /usr/local/lib/python3.10/dist-packages (from argon2-cffi->notebook>=4.4.1->widgetsnbextension~=3.6.0->ipywidgets>=7.6.5->pycaret) (21.2.0)\n",
            "Requirement already satisfied: anyio<4,>=3.1.0 in /usr/local/lib/python3.10/dist-packages (from jupyter-server>=1.8->nbclassic>=0.4.7->notebook>=4.4.1->widgetsnbextension~=3.6.0->ipywidgets>=7.6.5->pycaret) (3.7.1)\n",
            "Requirement already satisfied: websocket-client in /usr/local/lib/python3.10/dist-packages (from jupyter-server>=1.8->nbclassic>=0.4.7->notebook>=4.4.1->widgetsnbextension~=3.6.0->ipywidgets>=7.6.5->pycaret) (1.6.1)\n",
            "Requirement already satisfied: cffi>=1.0.1 in /usr/local/lib/python3.10/dist-packages (from argon2-cffi-bindings->argon2-cffi->notebook>=4.4.1->widgetsnbextension~=3.6.0->ipywidgets>=7.6.5->pycaret) (1.15.1)\n",
            "Requirement already satisfied: soupsieve>1.2 in /usr/local/lib/python3.10/dist-packages (from beautifulsoup4->nbconvert>=5->notebook>=4.4.1->widgetsnbextension~=3.6.0->ipywidgets>=7.6.5->pycaret) (2.4.1)\n",
            "Requirement already satisfied: webencodings in /usr/local/lib/python3.10/dist-packages (from bleach->nbconvert>=5->notebook>=4.4.1->widgetsnbextension~=3.6.0->ipywidgets>=7.6.5->pycaret) (0.5.1)\n",
            "Requirement already satisfied: sniffio>=1.1 in /usr/local/lib/python3.10/dist-packages (from anyio<4,>=3.1.0->jupyter-server>=1.8->nbclassic>=0.4.7->notebook>=4.4.1->widgetsnbextension~=3.6.0->ipywidgets>=7.6.5->pycaret) (1.3.0)\n",
            "Requirement already satisfied: exceptiongroup in /usr/local/lib/python3.10/dist-packages (from anyio<4,>=3.1.0->jupyter-server>=1.8->nbclassic>=0.4.7->notebook>=4.4.1->widgetsnbextension~=3.6.0->ipywidgets>=7.6.5->pycaret) (1.1.3)\n",
            "Requirement already satisfied: pycparser in /usr/local/lib/python3.10/dist-packages (from cffi>=1.0.1->argon2-cffi-bindings->argon2-cffi->notebook>=4.4.1->widgetsnbextension~=3.6.0->ipywidgets>=7.6.5->pycaret) (2.21)\n",
            "Building wheels for collected packages: pyod\n",
            "  Building wheel for pyod (setup.py) ... \u001b[?25l\u001b[?25hdone\n",
            "  Created wheel for pyod: filename=pyod-1.1.0-py3-none-any.whl size=185329 sha256=6f5bd9b687edd47accb596f715b44916fa5fb8a4d35c6d057676c78009794419\n",
            "  Stored in directory: /root/.cache/pip/wheels/36/8e/e2/e932956b10b843eb6be9eefa70b5c1bee7b561be14c423b136\n",
            "Successfully built pyod\n",
            "Installing collected packages: trace-updater, kaleido, dash-table, dash-html-components, dash-core-components, xxhash, wurlitzer, Werkzeug, tsdownsample, scikit-base, schemdraw, retrying, orjson, jedi, deprecation, ansi2html, sktime, scikit-plot, pyod, dash, pmdarima, plotly-resampler, category-encoders, tbats, pycaret\n",
            "  Attempting uninstall: Werkzeug\n",
            "    Found existing installation: Werkzeug 2.3.7\n",
            "    Uninstalling Werkzeug-2.3.7:\n",
            "      Successfully uninstalled Werkzeug-2.3.7\n",
            "Successfully installed Werkzeug-2.2.3 ansi2html-1.8.0 category-encoders-2.6.2 dash-2.12.1 dash-core-components-2.0.0 dash-html-components-2.0.0 dash-table-5.0.0 deprecation-2.1.0 jedi-0.19.0 kaleido-0.2.1 orjson-3.9.5 plotly-resampler-0.9.1 pmdarima-2.0.3 pycaret-3.0.4 pyod-1.1.0 retrying-1.3.4 schemdraw-0.15 scikit-base-0.5.1 scikit-plot-0.3.7 sktime-0.22.0 tbats-1.1.3 trace-updater-0.0.9.1 tsdownsample-0.1.2 wurlitzer-3.0.3 xxhash-3.3.0\n"
          ]
        }
      ]
    },
    {
      "cell_type": "code",
      "source": [
        "pip install catboost\n"
      ],
      "metadata": {
        "colab": {
          "base_uri": "https://localhost:8080/"
        },
        "id": "mKOzW9gUamu3",
        "outputId": "904214c3-f3c9-4bb4-a105-61ff94bb8215"
      },
      "execution_count": 4,
      "outputs": [
        {
          "output_type": "stream",
          "name": "stdout",
          "text": [
            "Collecting catboost\n",
            "  Downloading catboost-1.2-cp310-cp310-manylinux2014_x86_64.whl (98.6 MB)\n",
            "\u001b[2K     \u001b[90m━━━━━━━━━━━━━━━━━━━━━━━━━━━━━━━━━━━━━━━━\u001b[0m \u001b[32m98.6/98.6 MB\u001b[0m \u001b[31m8.8 MB/s\u001b[0m eta \u001b[36m0:00:00\u001b[0m\n",
            "\u001b[?25hRequirement already satisfied: graphviz in /usr/local/lib/python3.10/dist-packages (from catboost) (0.20.1)\n",
            "Requirement already satisfied: matplotlib in /usr/local/lib/python3.10/dist-packages (from catboost) (3.7.1)\n",
            "Requirement already satisfied: numpy>=1.16.0 in /usr/local/lib/python3.10/dist-packages (from catboost) (1.23.5)\n",
            "Requirement already satisfied: pandas>=0.24 in /usr/local/lib/python3.10/dist-packages (from catboost) (1.5.3)\n",
            "Requirement already satisfied: scipy in /usr/local/lib/python3.10/dist-packages (from catboost) (1.10.1)\n",
            "Requirement already satisfied: plotly in /usr/local/lib/python3.10/dist-packages (from catboost) (5.15.0)\n",
            "Requirement already satisfied: six in /usr/local/lib/python3.10/dist-packages (from catboost) (1.16.0)\n",
            "Requirement already satisfied: python-dateutil>=2.8.1 in /usr/local/lib/python3.10/dist-packages (from pandas>=0.24->catboost) (2.8.2)\n",
            "Requirement already satisfied: pytz>=2020.1 in /usr/local/lib/python3.10/dist-packages (from pandas>=0.24->catboost) (2023.3)\n",
            "Requirement already satisfied: contourpy>=1.0.1 in /usr/local/lib/python3.10/dist-packages (from matplotlib->catboost) (1.1.0)\n",
            "Requirement already satisfied: cycler>=0.10 in /usr/local/lib/python3.10/dist-packages (from matplotlib->catboost) (0.11.0)\n",
            "Requirement already satisfied: fonttools>=4.22.0 in /usr/local/lib/python3.10/dist-packages (from matplotlib->catboost) (4.42.0)\n",
            "Requirement already satisfied: kiwisolver>=1.0.1 in /usr/local/lib/python3.10/dist-packages (from matplotlib->catboost) (1.4.4)\n",
            "Requirement already satisfied: packaging>=20.0 in /usr/local/lib/python3.10/dist-packages (from matplotlib->catboost) (23.1)\n",
            "Requirement already satisfied: pillow>=6.2.0 in /usr/local/lib/python3.10/dist-packages (from matplotlib->catboost) (9.4.0)\n",
            "Requirement already satisfied: pyparsing>=2.3.1 in /usr/local/lib/python3.10/dist-packages (from matplotlib->catboost) (3.1.1)\n",
            "Requirement already satisfied: tenacity>=6.2.0 in /usr/local/lib/python3.10/dist-packages (from plotly->catboost) (8.2.3)\n",
            "Installing collected packages: catboost\n",
            "Successfully installed catboost-1.2\n"
          ]
        }
      ]
    },
    {
      "cell_type": "markdown",
      "source": [
        "# **Importando Dados e Bibliotecas Necessárias**"
      ],
      "metadata": {
        "id": "MrdU2ZcBRcs2"
      }
    },
    {
      "cell_type": "code",
      "source": [
        "# Importando bibliotecas necessárias\n",
        "import pandas as pd\n",
        "import numpy as np\n",
        "import matplotlib.pyplot as plt\n",
        "import seaborn as sns\n",
        "import imblearn\n",
        "from pycaret.classification import *\n",
        "from pycaret.classification import get_config"
      ],
      "metadata": {
        "id": "qZHR13s8Rl0X"
      },
      "execution_count": 12,
      "outputs": []
    },
    {
      "cell_type": "code",
      "source": [
        "# Importando Dados\n",
        "cervical = pd.read_csv('/content/kag_risk_factors_cervical_cancer.csv')\n"
      ],
      "metadata": {
        "id": "bwioG_C5Rr01"
      },
      "execution_count": 14,
      "outputs": []
    },
    {
      "cell_type": "markdown",
      "source": [
        "#**Análise dos Dados: Visão Inicial**\n",
        "\n",
        "Esta etapa tem por objetivo permitir um entendimento de como os dados estão estruturados.\n",
        "\n",
        "## **Dicionário de Variaveis**\n",
        "\n",
        "- `Age`: Idade da paciente.\n",
        "- `Number of sexual partners`: Número de parceiros sexuais da paciente.\n",
        "- `First sexual intercourse`: Idade da primeira relação sexual da paciente.\n",
        "- `Num of pregnancies`: Número de gestações da paciente.\n",
        "- `Smokes`: Indica se a paciente fuma (1 para sim, 0 para não).\n",
        "- `Smokes (years)`: Número de anos que a paciente fumou.\n",
        "- `Smokes (packs/year)`: Quantidade de maços de cigarro fumados por ano pela paciente.\n",
        "- `Hormonal Contraceptives`: Indica se a paciente usa contraceptivos hormonais (1 para sim, 0 para não).\n",
        "- `Hormonal Contraceptives (years)`: Número de anos que a paciente usou contraceptivos hormonais.\n",
        "- `IUD`: Indica se a paciente usa dispositivo intrauterino (1 para sim, 0 para não).\n",
        "- `IUD (years)`: Número de anos que a paciente usou dispositivo intrauterino.\n",
        "- `STDs`: Indica se a paciente já teve doenças sexualmente transmissíveis (1 para sim, 0 para não).\n",
        "- `STDs (number)`: Número de doenças sexualmente transmissíveis que a paciente já teve.\n",
        "- `STDs:condylomatosis`: Indica se a paciente já teve condilomatose genital (1 para sim, 0 para não).\n",
        "- `STDs:cervical condylomatosis`: Indica se a paciente já teve condilomatose cervical (1 para sim, 0 para não).\n",
        "- `STDs:vaginal condylomatosis`: Indica se a paciente já teve condilomatose vaginal (1 para sim, 0 para não).\n",
        "- `STDs:vulvo-perineal condylomatosis`: Indica se a paciente já teve condilomatose vulvo-perineal (1 para sim, 0 para não).\n",
        "- `STDs:syphilis`: Indica se a paciente já teve sífilis (1 para sim, 0 para não).\n",
        "- `STDs:pelvic inflammatory disease`: Indica se a paciente já teve doença inflamatória pélvica (1 para sim, 0 para não).\n",
        "- `STDs:genital herpes`: Indica se a paciente já teve herpes genital (1 para sim, 0 para não).\n",
        "- `STDs:molluscum contagiosum`: Indica se a paciente já teve molusco contagioso (1 para sim, 0 para não).\n",
        "- `STDs:AIDS`: Indica se a paciente já teve AIDS (1 para sim, 0 para não).\n",
        "- `STDs:HIV`: Indica se a paciente já teve HIV (1 para sim, 0 para não).\n",
        "- `STDs:Hepatitis B`: Indica se a paciente já teve hepatite B (1 para sim, 0 para não).\n",
        "- `STDs:HPV`: Indica se a paciente já teve HPV (1 para sim, 0 para não).\n",
        "- `STDs: Number of diagnosis`: Número de diagnósticos de doenças sexualmente transmissíveis.\n",
        "- `STDs: Time since first diagnosis`: Tempo desde o primeiro diagnóstico de doença sexualmente transmissível.\n",
        "- `STDs: Time since last diagnosis`: Tempo desde o último diagnóstico de doença sexualmente transmissível.\n",
        "- `Dx:Cancer`: Indica se a paciente foi diagnosticada com câncer (1 para sim, 0 para não).\n",
        "- `Dx:CIN`: Indica se a paciente foi diagnosticada com neoplasia intraepitelial cervical (1 para sim, 0 para não).\n",
        "- `Dx:HPV`: Indica se a paciente foi diagnosticada com HPV (1 para sim, 0 para não).\n",
        "- `Dx`: Indicação geral de diagnóstico (1 para sim, 0 para não).\n",
        "- `Hinselmann`: Indica se o teste de Hinselmann foi positivo (1 para sim, 0 para não).\n",
        "- `Schiller`: Indica se o teste de Schiller foi positivo (1 para sim, 0 para não).\n",
        "- `Citology`: Indica se a citologia do colo do útero foi positiva (1 para sim, 0 para não).\n",
        "- `Biopsy`: Indica se a biópsia foi realizada (1 para sim, 0 para não).\n",
        "\n"
      ],
      "metadata": {
        "id": "Rs4eRoRqOGOm"
      }
    },
    {
      "cell_type": "markdown",
      "source": [
        "# **Análise Exploratória dos Dados**\n",
        "\n",
        "Para iniciar nossa exploração dos dados, daremos uma olhada na:\n",
        "* Contexto geral das variáveis\n",
        "* Porcentagem de itens nulos\n",
        "\n",
        "Isso nos permitirá obter uma visão inicial da estrutura e das informações presentes. O conjunto de dados contém informações vitais sobre os fatores que contribuem para o risco de câncer cervical, um tema de grande relevância na área médica.\n",
        "\n",
        "Agora, vamos examinar as primeiras e as ultimas entradas para entender as colunas disponíveis e começar a identificar padrões ou características que possam ser cruciais para nossa análise."
      ],
      "metadata": {
        "id": "asPmcj2qM9yZ"
      }
    },
    {
      "cell_type": "code",
      "source": [
        "# Primeiras linhas\n",
        "cervical.head()"
      ],
      "metadata": {
        "colab": {
          "base_uri": "https://localhost:8080/",
          "height": 325
        },
        "id": "8j1IEXCgNQ1n",
        "outputId": "0c090639-c5df-4e5c-c406-4ba19738b0d7"
      },
      "execution_count": 15,
      "outputs": [
        {
          "output_type": "execute_result",
          "data": {
            "text/plain": [
              "   Age Number of sexual partners First sexual intercourse Num of pregnancies  \\\n",
              "0   18                       4.0                     15.0                1.0   \n",
              "1   15                       1.0                     14.0                1.0   \n",
              "2   34                       1.0                        ?                1.0   \n",
              "3   52                       5.0                     16.0                4.0   \n",
              "4   46                       3.0                     21.0                4.0   \n",
              "\n",
              "  Smokes Smokes (years) Smokes (packs/year) Hormonal Contraceptives  \\\n",
              "0    0.0            0.0                 0.0                     0.0   \n",
              "1    0.0            0.0                 0.0                     0.0   \n",
              "2    0.0            0.0                 0.0                     0.0   \n",
              "3    1.0           37.0                37.0                     1.0   \n",
              "4    0.0            0.0                 0.0                     1.0   \n",
              "\n",
              "  Hormonal Contraceptives (years)  IUD  ... STDs: Time since first diagnosis  \\\n",
              "0                             0.0  0.0  ...                                ?   \n",
              "1                             0.0  0.0  ...                                ?   \n",
              "2                             0.0  0.0  ...                                ?   \n",
              "3                             3.0  0.0  ...                                ?   \n",
              "4                            15.0  0.0  ...                                ?   \n",
              "\n",
              "  STDs: Time since last diagnosis Dx:Cancer Dx:CIN Dx:HPV Dx Hinselmann  \\\n",
              "0                               ?         0      0      0  0          0   \n",
              "1                               ?         0      0      0  0          0   \n",
              "2                               ?         0      0      0  0          0   \n",
              "3                               ?         1      0      1  0          0   \n",
              "4                               ?         0      0      0  0          0   \n",
              "\n",
              "  Schiller Citology Biopsy  \n",
              "0        0        0      0  \n",
              "1        0        0      0  \n",
              "2        0        0      0  \n",
              "3        0        0      0  \n",
              "4        0        0      0  \n",
              "\n",
              "[5 rows x 36 columns]"
            ],
            "text/html": [
              "\n",
              "  <div id=\"df-a0fa3bff-66f0-47fd-845c-22933db57e0c\" class=\"colab-df-container\">\n",
              "    <div>\n",
              "<style scoped>\n",
              "    .dataframe tbody tr th:only-of-type {\n",
              "        vertical-align: middle;\n",
              "    }\n",
              "\n",
              "    .dataframe tbody tr th {\n",
              "        vertical-align: top;\n",
              "    }\n",
              "\n",
              "    .dataframe thead th {\n",
              "        text-align: right;\n",
              "    }\n",
              "</style>\n",
              "<table border=\"1\" class=\"dataframe\">\n",
              "  <thead>\n",
              "    <tr style=\"text-align: right;\">\n",
              "      <th></th>\n",
              "      <th>Age</th>\n",
              "      <th>Number of sexual partners</th>\n",
              "      <th>First sexual intercourse</th>\n",
              "      <th>Num of pregnancies</th>\n",
              "      <th>Smokes</th>\n",
              "      <th>Smokes (years)</th>\n",
              "      <th>Smokes (packs/year)</th>\n",
              "      <th>Hormonal Contraceptives</th>\n",
              "      <th>Hormonal Contraceptives (years)</th>\n",
              "      <th>IUD</th>\n",
              "      <th>...</th>\n",
              "      <th>STDs: Time since first diagnosis</th>\n",
              "      <th>STDs: Time since last diagnosis</th>\n",
              "      <th>Dx:Cancer</th>\n",
              "      <th>Dx:CIN</th>\n",
              "      <th>Dx:HPV</th>\n",
              "      <th>Dx</th>\n",
              "      <th>Hinselmann</th>\n",
              "      <th>Schiller</th>\n",
              "      <th>Citology</th>\n",
              "      <th>Biopsy</th>\n",
              "    </tr>\n",
              "  </thead>\n",
              "  <tbody>\n",
              "    <tr>\n",
              "      <th>0</th>\n",
              "      <td>18</td>\n",
              "      <td>4.0</td>\n",
              "      <td>15.0</td>\n",
              "      <td>1.0</td>\n",
              "      <td>0.0</td>\n",
              "      <td>0.0</td>\n",
              "      <td>0.0</td>\n",
              "      <td>0.0</td>\n",
              "      <td>0.0</td>\n",
              "      <td>0.0</td>\n",
              "      <td>...</td>\n",
              "      <td>?</td>\n",
              "      <td>?</td>\n",
              "      <td>0</td>\n",
              "      <td>0</td>\n",
              "      <td>0</td>\n",
              "      <td>0</td>\n",
              "      <td>0</td>\n",
              "      <td>0</td>\n",
              "      <td>0</td>\n",
              "      <td>0</td>\n",
              "    </tr>\n",
              "    <tr>\n",
              "      <th>1</th>\n",
              "      <td>15</td>\n",
              "      <td>1.0</td>\n",
              "      <td>14.0</td>\n",
              "      <td>1.0</td>\n",
              "      <td>0.0</td>\n",
              "      <td>0.0</td>\n",
              "      <td>0.0</td>\n",
              "      <td>0.0</td>\n",
              "      <td>0.0</td>\n",
              "      <td>0.0</td>\n",
              "      <td>...</td>\n",
              "      <td>?</td>\n",
              "      <td>?</td>\n",
              "      <td>0</td>\n",
              "      <td>0</td>\n",
              "      <td>0</td>\n",
              "      <td>0</td>\n",
              "      <td>0</td>\n",
              "      <td>0</td>\n",
              "      <td>0</td>\n",
              "      <td>0</td>\n",
              "    </tr>\n",
              "    <tr>\n",
              "      <th>2</th>\n",
              "      <td>34</td>\n",
              "      <td>1.0</td>\n",
              "      <td>?</td>\n",
              "      <td>1.0</td>\n",
              "      <td>0.0</td>\n",
              "      <td>0.0</td>\n",
              "      <td>0.0</td>\n",
              "      <td>0.0</td>\n",
              "      <td>0.0</td>\n",
              "      <td>0.0</td>\n",
              "      <td>...</td>\n",
              "      <td>?</td>\n",
              "      <td>?</td>\n",
              "      <td>0</td>\n",
              "      <td>0</td>\n",
              "      <td>0</td>\n",
              "      <td>0</td>\n",
              "      <td>0</td>\n",
              "      <td>0</td>\n",
              "      <td>0</td>\n",
              "      <td>0</td>\n",
              "    </tr>\n",
              "    <tr>\n",
              "      <th>3</th>\n",
              "      <td>52</td>\n",
              "      <td>5.0</td>\n",
              "      <td>16.0</td>\n",
              "      <td>4.0</td>\n",
              "      <td>1.0</td>\n",
              "      <td>37.0</td>\n",
              "      <td>37.0</td>\n",
              "      <td>1.0</td>\n",
              "      <td>3.0</td>\n",
              "      <td>0.0</td>\n",
              "      <td>...</td>\n",
              "      <td>?</td>\n",
              "      <td>?</td>\n",
              "      <td>1</td>\n",
              "      <td>0</td>\n",
              "      <td>1</td>\n",
              "      <td>0</td>\n",
              "      <td>0</td>\n",
              "      <td>0</td>\n",
              "      <td>0</td>\n",
              "      <td>0</td>\n",
              "    </tr>\n",
              "    <tr>\n",
              "      <th>4</th>\n",
              "      <td>46</td>\n",
              "      <td>3.0</td>\n",
              "      <td>21.0</td>\n",
              "      <td>4.0</td>\n",
              "      <td>0.0</td>\n",
              "      <td>0.0</td>\n",
              "      <td>0.0</td>\n",
              "      <td>1.0</td>\n",
              "      <td>15.0</td>\n",
              "      <td>0.0</td>\n",
              "      <td>...</td>\n",
              "      <td>?</td>\n",
              "      <td>?</td>\n",
              "      <td>0</td>\n",
              "      <td>0</td>\n",
              "      <td>0</td>\n",
              "      <td>0</td>\n",
              "      <td>0</td>\n",
              "      <td>0</td>\n",
              "      <td>0</td>\n",
              "      <td>0</td>\n",
              "    </tr>\n",
              "  </tbody>\n",
              "</table>\n",
              "<p>5 rows × 36 columns</p>\n",
              "</div>\n",
              "    <div class=\"colab-df-buttons\">\n",
              "\n",
              "  <div class=\"colab-df-container\">\n",
              "    <button class=\"colab-df-convert\" onclick=\"convertToInteractive('df-a0fa3bff-66f0-47fd-845c-22933db57e0c')\"\n",
              "            title=\"Convert this dataframe to an interactive table.\"\n",
              "            style=\"display:none;\">\n",
              "\n",
              "  <svg xmlns=\"http://www.w3.org/2000/svg\" height=\"24px\" viewBox=\"0 -960 960 960\">\n",
              "    <path d=\"M120-120v-720h720v720H120Zm60-500h600v-160H180v160Zm220 220h160v-160H400v160Zm0 220h160v-160H400v160ZM180-400h160v-160H180v160Zm440 0h160v-160H620v160ZM180-180h160v-160H180v160Zm440 0h160v-160H620v160Z\"/>\n",
              "  </svg>\n",
              "    </button>\n",
              "\n",
              "  <style>\n",
              "    .colab-df-container {\n",
              "      display:flex;\n",
              "      gap: 12px;\n",
              "    }\n",
              "\n",
              "    .colab-df-convert {\n",
              "      background-color: #E8F0FE;\n",
              "      border: none;\n",
              "      border-radius: 50%;\n",
              "      cursor: pointer;\n",
              "      display: none;\n",
              "      fill: #1967D2;\n",
              "      height: 32px;\n",
              "      padding: 0 0 0 0;\n",
              "      width: 32px;\n",
              "    }\n",
              "\n",
              "    .colab-df-convert:hover {\n",
              "      background-color: #E2EBFA;\n",
              "      box-shadow: 0px 1px 2px rgba(60, 64, 67, 0.3), 0px 1px 3px 1px rgba(60, 64, 67, 0.15);\n",
              "      fill: #174EA6;\n",
              "    }\n",
              "\n",
              "    .colab-df-buttons div {\n",
              "      margin-bottom: 4px;\n",
              "    }\n",
              "\n",
              "    [theme=dark] .colab-df-convert {\n",
              "      background-color: #3B4455;\n",
              "      fill: #D2E3FC;\n",
              "    }\n",
              "\n",
              "    [theme=dark] .colab-df-convert:hover {\n",
              "      background-color: #434B5C;\n",
              "      box-shadow: 0px 1px 3px 1px rgba(0, 0, 0, 0.15);\n",
              "      filter: drop-shadow(0px 1px 2px rgba(0, 0, 0, 0.3));\n",
              "      fill: #FFFFFF;\n",
              "    }\n",
              "  </style>\n",
              "\n",
              "    <script>\n",
              "      const buttonEl =\n",
              "        document.querySelector('#df-a0fa3bff-66f0-47fd-845c-22933db57e0c button.colab-df-convert');\n",
              "      buttonEl.style.display =\n",
              "        google.colab.kernel.accessAllowed ? 'block' : 'none';\n",
              "\n",
              "      async function convertToInteractive(key) {\n",
              "        const element = document.querySelector('#df-a0fa3bff-66f0-47fd-845c-22933db57e0c');\n",
              "        const dataTable =\n",
              "          await google.colab.kernel.invokeFunction('convertToInteractive',\n",
              "                                                    [key], {});\n",
              "        if (!dataTable) return;\n",
              "\n",
              "        const docLinkHtml = 'Like what you see? Visit the ' +\n",
              "          '<a target=\"_blank\" href=https://colab.research.google.com/notebooks/data_table.ipynb>data table notebook</a>'\n",
              "          + ' to learn more about interactive tables.';\n",
              "        element.innerHTML = '';\n",
              "        dataTable['output_type'] = 'display_data';\n",
              "        await google.colab.output.renderOutput(dataTable, element);\n",
              "        const docLink = document.createElement('div');\n",
              "        docLink.innerHTML = docLinkHtml;\n",
              "        element.appendChild(docLink);\n",
              "      }\n",
              "    </script>\n",
              "  </div>\n",
              "\n",
              "\n",
              "<div id=\"df-1c5ab8cb-0fc6-4841-b4e2-2931899c4b15\">\n",
              "  <button class=\"colab-df-quickchart\" onclick=\"quickchart('df-1c5ab8cb-0fc6-4841-b4e2-2931899c4b15')\"\n",
              "            title=\"Suggest charts.\"\n",
              "            style=\"display:none;\">\n",
              "\n",
              "<svg xmlns=\"http://www.w3.org/2000/svg\" height=\"24px\"viewBox=\"0 0 24 24\"\n",
              "     width=\"24px\">\n",
              "    <g>\n",
              "        <path d=\"M19 3H5c-1.1 0-2 .9-2 2v14c0 1.1.9 2 2 2h14c1.1 0 2-.9 2-2V5c0-1.1-.9-2-2-2zM9 17H7v-7h2v7zm4 0h-2V7h2v10zm4 0h-2v-4h2v4z\"/>\n",
              "    </g>\n",
              "</svg>\n",
              "  </button>\n",
              "\n",
              "<style>\n",
              "  .colab-df-quickchart {\n",
              "    background-color: #E8F0FE;\n",
              "    border: none;\n",
              "    border-radius: 50%;\n",
              "    cursor: pointer;\n",
              "    display: none;\n",
              "    fill: #1967D2;\n",
              "    height: 32px;\n",
              "    padding: 0 0 0 0;\n",
              "    width: 32px;\n",
              "  }\n",
              "\n",
              "  .colab-df-quickchart:hover {\n",
              "    background-color: #E2EBFA;\n",
              "    box-shadow: 0px 1px 2px rgba(60, 64, 67, 0.3), 0px 1px 3px 1px rgba(60, 64, 67, 0.15);\n",
              "    fill: #174EA6;\n",
              "  }\n",
              "\n",
              "  [theme=dark] .colab-df-quickchart {\n",
              "    background-color: #3B4455;\n",
              "    fill: #D2E3FC;\n",
              "  }\n",
              "\n",
              "  [theme=dark] .colab-df-quickchart:hover {\n",
              "    background-color: #434B5C;\n",
              "    box-shadow: 0px 1px 3px 1px rgba(0, 0, 0, 0.15);\n",
              "    filter: drop-shadow(0px 1px 2px rgba(0, 0, 0, 0.3));\n",
              "    fill: #FFFFFF;\n",
              "  }\n",
              "</style>\n",
              "\n",
              "  <script>\n",
              "    async function quickchart(key) {\n",
              "      const charts = await google.colab.kernel.invokeFunction(\n",
              "          'suggestCharts', [key], {});\n",
              "    }\n",
              "    (() => {\n",
              "      let quickchartButtonEl =\n",
              "        document.querySelector('#df-1c5ab8cb-0fc6-4841-b4e2-2931899c4b15 button');\n",
              "      quickchartButtonEl.style.display =\n",
              "        google.colab.kernel.accessAllowed ? 'block' : 'none';\n",
              "    })();\n",
              "  </script>\n",
              "</div>\n",
              "    </div>\n",
              "  </div>\n"
            ]
          },
          "metadata": {},
          "execution_count": 15
        }
      ]
    },
    {
      "cell_type": "code",
      "source": [
        "# Ultimas linhas\n",
        "cervical.tail()"
      ],
      "metadata": {
        "colab": {
          "base_uri": "https://localhost:8080/",
          "height": 325
        },
        "id": "SLWNYlUyPkiO",
        "outputId": "fef6b010-2681-471d-b0b2-5c7c5bb2450a"
      },
      "execution_count": 16,
      "outputs": [
        {
          "output_type": "execute_result",
          "data": {
            "text/plain": [
              "     Age Number of sexual partners First sexual intercourse  \\\n",
              "853   34                       3.0                     18.0   \n",
              "854   32                       2.0                     19.0   \n",
              "855   25                       2.0                     17.0   \n",
              "856   33                       2.0                     24.0   \n",
              "857   29                       2.0                     20.0   \n",
              "\n",
              "    Num of pregnancies Smokes Smokes (years) Smokes (packs/year)  \\\n",
              "853                0.0    0.0            0.0                 0.0   \n",
              "854                1.0    0.0            0.0                 0.0   \n",
              "855                0.0    0.0            0.0                 0.0   \n",
              "856                2.0    0.0            0.0                 0.0   \n",
              "857                1.0    0.0            0.0                 0.0   \n",
              "\n",
              "    Hormonal Contraceptives Hormonal Contraceptives (years)  IUD  ...  \\\n",
              "853                     0.0                             0.0  0.0  ...   \n",
              "854                     1.0                             8.0  0.0  ...   \n",
              "855                     1.0                            0.08  0.0  ...   \n",
              "856                     1.0                            0.08  0.0  ...   \n",
              "857                     1.0                             0.5  0.0  ...   \n",
              "\n",
              "    STDs: Time since first diagnosis STDs: Time since last diagnosis  \\\n",
              "853                                ?                               ?   \n",
              "854                                ?                               ?   \n",
              "855                                ?                               ?   \n",
              "856                                ?                               ?   \n",
              "857                                ?                               ?   \n",
              "\n",
              "    Dx:Cancer Dx:CIN Dx:HPV Dx Hinselmann Schiller Citology Biopsy  \n",
              "853         0      0      0  0          0        0        0      0  \n",
              "854         0      0      0  0          0        0        0      0  \n",
              "855         0      0      0  0          0        0        1      0  \n",
              "856         0      0      0  0          0        0        0      0  \n",
              "857         0      0      0  0          0        0        0      0  \n",
              "\n",
              "[5 rows x 36 columns]"
            ],
            "text/html": [
              "\n",
              "  <div id=\"df-59b83cfa-ea29-46a3-a0ab-9e6f4fb0f976\" class=\"colab-df-container\">\n",
              "    <div>\n",
              "<style scoped>\n",
              "    .dataframe tbody tr th:only-of-type {\n",
              "        vertical-align: middle;\n",
              "    }\n",
              "\n",
              "    .dataframe tbody tr th {\n",
              "        vertical-align: top;\n",
              "    }\n",
              "\n",
              "    .dataframe thead th {\n",
              "        text-align: right;\n",
              "    }\n",
              "</style>\n",
              "<table border=\"1\" class=\"dataframe\">\n",
              "  <thead>\n",
              "    <tr style=\"text-align: right;\">\n",
              "      <th></th>\n",
              "      <th>Age</th>\n",
              "      <th>Number of sexual partners</th>\n",
              "      <th>First sexual intercourse</th>\n",
              "      <th>Num of pregnancies</th>\n",
              "      <th>Smokes</th>\n",
              "      <th>Smokes (years)</th>\n",
              "      <th>Smokes (packs/year)</th>\n",
              "      <th>Hormonal Contraceptives</th>\n",
              "      <th>Hormonal Contraceptives (years)</th>\n",
              "      <th>IUD</th>\n",
              "      <th>...</th>\n",
              "      <th>STDs: Time since first diagnosis</th>\n",
              "      <th>STDs: Time since last diagnosis</th>\n",
              "      <th>Dx:Cancer</th>\n",
              "      <th>Dx:CIN</th>\n",
              "      <th>Dx:HPV</th>\n",
              "      <th>Dx</th>\n",
              "      <th>Hinselmann</th>\n",
              "      <th>Schiller</th>\n",
              "      <th>Citology</th>\n",
              "      <th>Biopsy</th>\n",
              "    </tr>\n",
              "  </thead>\n",
              "  <tbody>\n",
              "    <tr>\n",
              "      <th>853</th>\n",
              "      <td>34</td>\n",
              "      <td>3.0</td>\n",
              "      <td>18.0</td>\n",
              "      <td>0.0</td>\n",
              "      <td>0.0</td>\n",
              "      <td>0.0</td>\n",
              "      <td>0.0</td>\n",
              "      <td>0.0</td>\n",
              "      <td>0.0</td>\n",
              "      <td>0.0</td>\n",
              "      <td>...</td>\n",
              "      <td>?</td>\n",
              "      <td>?</td>\n",
              "      <td>0</td>\n",
              "      <td>0</td>\n",
              "      <td>0</td>\n",
              "      <td>0</td>\n",
              "      <td>0</td>\n",
              "      <td>0</td>\n",
              "      <td>0</td>\n",
              "      <td>0</td>\n",
              "    </tr>\n",
              "    <tr>\n",
              "      <th>854</th>\n",
              "      <td>32</td>\n",
              "      <td>2.0</td>\n",
              "      <td>19.0</td>\n",
              "      <td>1.0</td>\n",
              "      <td>0.0</td>\n",
              "      <td>0.0</td>\n",
              "      <td>0.0</td>\n",
              "      <td>1.0</td>\n",
              "      <td>8.0</td>\n",
              "      <td>0.0</td>\n",
              "      <td>...</td>\n",
              "      <td>?</td>\n",
              "      <td>?</td>\n",
              "      <td>0</td>\n",
              "      <td>0</td>\n",
              "      <td>0</td>\n",
              "      <td>0</td>\n",
              "      <td>0</td>\n",
              "      <td>0</td>\n",
              "      <td>0</td>\n",
              "      <td>0</td>\n",
              "    </tr>\n",
              "    <tr>\n",
              "      <th>855</th>\n",
              "      <td>25</td>\n",
              "      <td>2.0</td>\n",
              "      <td>17.0</td>\n",
              "      <td>0.0</td>\n",
              "      <td>0.0</td>\n",
              "      <td>0.0</td>\n",
              "      <td>0.0</td>\n",
              "      <td>1.0</td>\n",
              "      <td>0.08</td>\n",
              "      <td>0.0</td>\n",
              "      <td>...</td>\n",
              "      <td>?</td>\n",
              "      <td>?</td>\n",
              "      <td>0</td>\n",
              "      <td>0</td>\n",
              "      <td>0</td>\n",
              "      <td>0</td>\n",
              "      <td>0</td>\n",
              "      <td>0</td>\n",
              "      <td>1</td>\n",
              "      <td>0</td>\n",
              "    </tr>\n",
              "    <tr>\n",
              "      <th>856</th>\n",
              "      <td>33</td>\n",
              "      <td>2.0</td>\n",
              "      <td>24.0</td>\n",
              "      <td>2.0</td>\n",
              "      <td>0.0</td>\n",
              "      <td>0.0</td>\n",
              "      <td>0.0</td>\n",
              "      <td>1.0</td>\n",
              "      <td>0.08</td>\n",
              "      <td>0.0</td>\n",
              "      <td>...</td>\n",
              "      <td>?</td>\n",
              "      <td>?</td>\n",
              "      <td>0</td>\n",
              "      <td>0</td>\n",
              "      <td>0</td>\n",
              "      <td>0</td>\n",
              "      <td>0</td>\n",
              "      <td>0</td>\n",
              "      <td>0</td>\n",
              "      <td>0</td>\n",
              "    </tr>\n",
              "    <tr>\n",
              "      <th>857</th>\n",
              "      <td>29</td>\n",
              "      <td>2.0</td>\n",
              "      <td>20.0</td>\n",
              "      <td>1.0</td>\n",
              "      <td>0.0</td>\n",
              "      <td>0.0</td>\n",
              "      <td>0.0</td>\n",
              "      <td>1.0</td>\n",
              "      <td>0.5</td>\n",
              "      <td>0.0</td>\n",
              "      <td>...</td>\n",
              "      <td>?</td>\n",
              "      <td>?</td>\n",
              "      <td>0</td>\n",
              "      <td>0</td>\n",
              "      <td>0</td>\n",
              "      <td>0</td>\n",
              "      <td>0</td>\n",
              "      <td>0</td>\n",
              "      <td>0</td>\n",
              "      <td>0</td>\n",
              "    </tr>\n",
              "  </tbody>\n",
              "</table>\n",
              "<p>5 rows × 36 columns</p>\n",
              "</div>\n",
              "    <div class=\"colab-df-buttons\">\n",
              "\n",
              "  <div class=\"colab-df-container\">\n",
              "    <button class=\"colab-df-convert\" onclick=\"convertToInteractive('df-59b83cfa-ea29-46a3-a0ab-9e6f4fb0f976')\"\n",
              "            title=\"Convert this dataframe to an interactive table.\"\n",
              "            style=\"display:none;\">\n",
              "\n",
              "  <svg xmlns=\"http://www.w3.org/2000/svg\" height=\"24px\" viewBox=\"0 -960 960 960\">\n",
              "    <path d=\"M120-120v-720h720v720H120Zm60-500h600v-160H180v160Zm220 220h160v-160H400v160Zm0 220h160v-160H400v160ZM180-400h160v-160H180v160Zm440 0h160v-160H620v160ZM180-180h160v-160H180v160Zm440 0h160v-160H620v160Z\"/>\n",
              "  </svg>\n",
              "    </button>\n",
              "\n",
              "  <style>\n",
              "    .colab-df-container {\n",
              "      display:flex;\n",
              "      gap: 12px;\n",
              "    }\n",
              "\n",
              "    .colab-df-convert {\n",
              "      background-color: #E8F0FE;\n",
              "      border: none;\n",
              "      border-radius: 50%;\n",
              "      cursor: pointer;\n",
              "      display: none;\n",
              "      fill: #1967D2;\n",
              "      height: 32px;\n",
              "      padding: 0 0 0 0;\n",
              "      width: 32px;\n",
              "    }\n",
              "\n",
              "    .colab-df-convert:hover {\n",
              "      background-color: #E2EBFA;\n",
              "      box-shadow: 0px 1px 2px rgba(60, 64, 67, 0.3), 0px 1px 3px 1px rgba(60, 64, 67, 0.15);\n",
              "      fill: #174EA6;\n",
              "    }\n",
              "\n",
              "    .colab-df-buttons div {\n",
              "      margin-bottom: 4px;\n",
              "    }\n",
              "\n",
              "    [theme=dark] .colab-df-convert {\n",
              "      background-color: #3B4455;\n",
              "      fill: #D2E3FC;\n",
              "    }\n",
              "\n",
              "    [theme=dark] .colab-df-convert:hover {\n",
              "      background-color: #434B5C;\n",
              "      box-shadow: 0px 1px 3px 1px rgba(0, 0, 0, 0.15);\n",
              "      filter: drop-shadow(0px 1px 2px rgba(0, 0, 0, 0.3));\n",
              "      fill: #FFFFFF;\n",
              "    }\n",
              "  </style>\n",
              "\n",
              "    <script>\n",
              "      const buttonEl =\n",
              "        document.querySelector('#df-59b83cfa-ea29-46a3-a0ab-9e6f4fb0f976 button.colab-df-convert');\n",
              "      buttonEl.style.display =\n",
              "        google.colab.kernel.accessAllowed ? 'block' : 'none';\n",
              "\n",
              "      async function convertToInteractive(key) {\n",
              "        const element = document.querySelector('#df-59b83cfa-ea29-46a3-a0ab-9e6f4fb0f976');\n",
              "        const dataTable =\n",
              "          await google.colab.kernel.invokeFunction('convertToInteractive',\n",
              "                                                    [key], {});\n",
              "        if (!dataTable) return;\n",
              "\n",
              "        const docLinkHtml = 'Like what you see? Visit the ' +\n",
              "          '<a target=\"_blank\" href=https://colab.research.google.com/notebooks/data_table.ipynb>data table notebook</a>'\n",
              "          + ' to learn more about interactive tables.';\n",
              "        element.innerHTML = '';\n",
              "        dataTable['output_type'] = 'display_data';\n",
              "        await google.colab.output.renderOutput(dataTable, element);\n",
              "        const docLink = document.createElement('div');\n",
              "        docLink.innerHTML = docLinkHtml;\n",
              "        element.appendChild(docLink);\n",
              "      }\n",
              "    </script>\n",
              "  </div>\n",
              "\n",
              "\n",
              "<div id=\"df-ffe11eaa-1fc8-48d2-8d74-0366fd02fe88\">\n",
              "  <button class=\"colab-df-quickchart\" onclick=\"quickchart('df-ffe11eaa-1fc8-48d2-8d74-0366fd02fe88')\"\n",
              "            title=\"Suggest charts.\"\n",
              "            style=\"display:none;\">\n",
              "\n",
              "<svg xmlns=\"http://www.w3.org/2000/svg\" height=\"24px\"viewBox=\"0 0 24 24\"\n",
              "     width=\"24px\">\n",
              "    <g>\n",
              "        <path d=\"M19 3H5c-1.1 0-2 .9-2 2v14c0 1.1.9 2 2 2h14c1.1 0 2-.9 2-2V5c0-1.1-.9-2-2-2zM9 17H7v-7h2v7zm4 0h-2V7h2v10zm4 0h-2v-4h2v4z\"/>\n",
              "    </g>\n",
              "</svg>\n",
              "  </button>\n",
              "\n",
              "<style>\n",
              "  .colab-df-quickchart {\n",
              "    background-color: #E8F0FE;\n",
              "    border: none;\n",
              "    border-radius: 50%;\n",
              "    cursor: pointer;\n",
              "    display: none;\n",
              "    fill: #1967D2;\n",
              "    height: 32px;\n",
              "    padding: 0 0 0 0;\n",
              "    width: 32px;\n",
              "  }\n",
              "\n",
              "  .colab-df-quickchart:hover {\n",
              "    background-color: #E2EBFA;\n",
              "    box-shadow: 0px 1px 2px rgba(60, 64, 67, 0.3), 0px 1px 3px 1px rgba(60, 64, 67, 0.15);\n",
              "    fill: #174EA6;\n",
              "  }\n",
              "\n",
              "  [theme=dark] .colab-df-quickchart {\n",
              "    background-color: #3B4455;\n",
              "    fill: #D2E3FC;\n",
              "  }\n",
              "\n",
              "  [theme=dark] .colab-df-quickchart:hover {\n",
              "    background-color: #434B5C;\n",
              "    box-shadow: 0px 1px 3px 1px rgba(0, 0, 0, 0.15);\n",
              "    filter: drop-shadow(0px 1px 2px rgba(0, 0, 0, 0.3));\n",
              "    fill: #FFFFFF;\n",
              "  }\n",
              "</style>\n",
              "\n",
              "  <script>\n",
              "    async function quickchart(key) {\n",
              "      const charts = await google.colab.kernel.invokeFunction(\n",
              "          'suggestCharts', [key], {});\n",
              "    }\n",
              "    (() => {\n",
              "      let quickchartButtonEl =\n",
              "        document.querySelector('#df-ffe11eaa-1fc8-48d2-8d74-0366fd02fe88 button');\n",
              "      quickchartButtonEl.style.display =\n",
              "        google.colab.kernel.accessAllowed ? 'block' : 'none';\n",
              "    })();\n",
              "  </script>\n",
              "</div>\n",
              "    </div>\n",
              "  </div>\n"
            ]
          },
          "metadata": {},
          "execution_count": 16
        }
      ]
    },
    {
      "cell_type": "code",
      "source": [
        "# verifica o tamanho do dataset\n",
        "print(\"Entradas:\", cervical.shape[0])\n",
        "print(\"Variáveis:\", cervical.shape[1])"
      ],
      "metadata": {
        "colab": {
          "base_uri": "https://localhost:8080/"
        },
        "id": "sfm47D6kQ22M",
        "outputId": "43024f9f-a01a-445c-eb3c-0a121a43e8d2"
      },
      "execution_count": 17,
      "outputs": [
        {
          "output_type": "stream",
          "name": "stdout",
          "text": [
            "Entradas: 858\n",
            "Variáveis: 36\n"
          ]
        }
      ]
    },
    {
      "cell_type": "code",
      "source": [
        "# Porcentagem de item nulo\n",
        "round(cervical.isnull().sum()/cervical.shape[0] * 100, 2).sort_values(ascending = False)"
      ],
      "metadata": {
        "colab": {
          "base_uri": "https://localhost:8080/"
        },
        "id": "flPjs9kiRMcz",
        "outputId": "0e666877-faf3-4477-c58c-266f074c1c1c"
      },
      "execution_count": 18,
      "outputs": [
        {
          "output_type": "execute_result",
          "data": {
            "text/plain": [
              "Age                                   0.0\n",
              "Number of sexual partners             0.0\n",
              "STDs:molluscum contagiosum            0.0\n",
              "STDs:AIDS                             0.0\n",
              "STDs:HIV                              0.0\n",
              "STDs:Hepatitis B                      0.0\n",
              "STDs:HPV                              0.0\n",
              "STDs: Number of diagnosis             0.0\n",
              "STDs: Time since first diagnosis      0.0\n",
              "STDs: Time since last diagnosis       0.0\n",
              "Dx:Cancer                             0.0\n",
              "Dx:CIN                                0.0\n",
              "Dx:HPV                                0.0\n",
              "Dx                                    0.0\n",
              "Hinselmann                            0.0\n",
              "Schiller                              0.0\n",
              "Citology                              0.0\n",
              "STDs:genital herpes                   0.0\n",
              "STDs:pelvic inflammatory disease      0.0\n",
              "STDs:syphilis                         0.0\n",
              "Hormonal Contraceptives (years)       0.0\n",
              "First sexual intercourse              0.0\n",
              "Num of pregnancies                    0.0\n",
              "Smokes                                0.0\n",
              "Smokes (years)                        0.0\n",
              "Smokes (packs/year)                   0.0\n",
              "Hormonal Contraceptives               0.0\n",
              "IUD                                   0.0\n",
              "STDs:vulvo-perineal condylomatosis    0.0\n",
              "IUD (years)                           0.0\n",
              "STDs                                  0.0\n",
              "STDs (number)                         0.0\n",
              "STDs:condylomatosis                   0.0\n",
              "STDs:cervical condylomatosis          0.0\n",
              "STDs:vaginal condylomatosis           0.0\n",
              "Biopsy                                0.0\n",
              "dtype: float64"
            ]
          },
          "metadata": {},
          "execution_count": 18
        }
      ]
    },
    {
      "cell_type": "markdown",
      "source": [
        "Podemos ver que todas as variáveis apresentam 0% de valores ausentes, o que significa que todos os registros têm valores preenchidos para essas variáveis. Isso é uma boa notícia, pois não há necessidade de lidar com valores nulos nesse conjunto de dados específico. Isso também sugere que o conjunto de dados está completo e pronto para ser utilizado na análise exploratória e na construção de modelos."
      ],
      "metadata": {
        "id": "wu2WQOwXSX7s"
      }
    },
    {
      "cell_type": "code",
      "source": [
        "# Extrair o tipo das variáveis\n",
        "cervical.dtypes"
      ],
      "metadata": {
        "colab": {
          "base_uri": "https://localhost:8080/"
        },
        "id": "mYT8h1jrRX6X",
        "outputId": "5da5d054-9073-4a68-fdaa-5c53d8636337"
      },
      "execution_count": 19,
      "outputs": [
        {
          "output_type": "execute_result",
          "data": {
            "text/plain": [
              "Age                                    int64\n",
              "Number of sexual partners             object\n",
              "First sexual intercourse              object\n",
              "Num of pregnancies                    object\n",
              "Smokes                                object\n",
              "Smokes (years)                        object\n",
              "Smokes (packs/year)                   object\n",
              "Hormonal Contraceptives               object\n",
              "Hormonal Contraceptives (years)       object\n",
              "IUD                                   object\n",
              "IUD (years)                           object\n",
              "STDs                                  object\n",
              "STDs (number)                         object\n",
              "STDs:condylomatosis                   object\n",
              "STDs:cervical condylomatosis          object\n",
              "STDs:vaginal condylomatosis           object\n",
              "STDs:vulvo-perineal condylomatosis    object\n",
              "STDs:syphilis                         object\n",
              "STDs:pelvic inflammatory disease      object\n",
              "STDs:genital herpes                   object\n",
              "STDs:molluscum contagiosum            object\n",
              "STDs:AIDS                             object\n",
              "STDs:HIV                              object\n",
              "STDs:Hepatitis B                      object\n",
              "STDs:HPV                              object\n",
              "STDs: Number of diagnosis              int64\n",
              "STDs: Time since first diagnosis      object\n",
              "STDs: Time since last diagnosis       object\n",
              "Dx:Cancer                              int64\n",
              "Dx:CIN                                 int64\n",
              "Dx:HPV                                 int64\n",
              "Dx                                     int64\n",
              "Hinselmann                             int64\n",
              "Schiller                               int64\n",
              "Citology                               int64\n",
              "Biopsy                                 int64\n",
              "dtype: object"
            ]
          },
          "metadata": {},
          "execution_count": 19
        }
      ]
    },
    {
      "cell_type": "markdown",
      "source": [
        "A análise revela que muitas variáveis estão codificadas como \"object\", possivelmente indicando dados categóricos ou textuais. Para análises e modelagem, é crucial convertê-las em tipos numéricos. Além disso, colunas como \"First sexual intercourse\", \"Num of pregnancies\", \"Smokes (years)\", \"Hormonal Contraceptives (years)\", entre outras, também codificadas como objetos, podem representar valores numéricos e precisam ser convertidas. Similarmente, \"Number of sexual partners\" e \"STDs: Number of diagnosis\" devem ser transformadas em inteiros para representar quantidades corretamente. Realizar essas conversões é essencial para uma análise precisa e a construção de modelos adequados."
      ],
      "metadata": {
        "id": "oEku1GAKS_e-"
      }
    },
    {
      "cell_type": "code",
      "source": [
        "# Tabela estatística da base de dados.\n",
        "cervical.describe()"
      ],
      "metadata": {
        "colab": {
          "base_uri": "https://localhost:8080/",
          "height": 300
        },
        "id": "IVB3TJEkRoso",
        "outputId": "389dca0d-36c1-47b2-efcf-7d73798359bb"
      },
      "execution_count": 20,
      "outputs": [
        {
          "output_type": "execute_result",
          "data": {
            "text/plain": [
              "              Age  STDs: Number of diagnosis   Dx:Cancer      Dx:CIN  \\\n",
              "count  858.000000                 858.000000  858.000000  858.000000   \n",
              "mean    26.820513                   0.087413    0.020979    0.010490   \n",
              "std      8.497948                   0.302545    0.143398    0.101939   \n",
              "min     13.000000                   0.000000    0.000000    0.000000   \n",
              "25%     20.000000                   0.000000    0.000000    0.000000   \n",
              "50%     25.000000                   0.000000    0.000000    0.000000   \n",
              "75%     32.000000                   0.000000    0.000000    0.000000   \n",
              "max     84.000000                   3.000000    1.000000    1.000000   \n",
              "\n",
              "           Dx:HPV          Dx  Hinselmann    Schiller    Citology      Biopsy  \n",
              "count  858.000000  858.000000  858.000000  858.000000  858.000000  858.000000  \n",
              "mean     0.020979    0.027972    0.040793    0.086247    0.051282    0.064103  \n",
              "std      0.143398    0.164989    0.197925    0.280892    0.220701    0.245078  \n",
              "min      0.000000    0.000000    0.000000    0.000000    0.000000    0.000000  \n",
              "25%      0.000000    0.000000    0.000000    0.000000    0.000000    0.000000  \n",
              "50%      0.000000    0.000000    0.000000    0.000000    0.000000    0.000000  \n",
              "75%      0.000000    0.000000    0.000000    0.000000    0.000000    0.000000  \n",
              "max      1.000000    1.000000    1.000000    1.000000    1.000000    1.000000  "
            ],
            "text/html": [
              "\n",
              "  <div id=\"df-d6d51170-6c96-47f9-a1f4-d335a944f6b5\" class=\"colab-df-container\">\n",
              "    <div>\n",
              "<style scoped>\n",
              "    .dataframe tbody tr th:only-of-type {\n",
              "        vertical-align: middle;\n",
              "    }\n",
              "\n",
              "    .dataframe tbody tr th {\n",
              "        vertical-align: top;\n",
              "    }\n",
              "\n",
              "    .dataframe thead th {\n",
              "        text-align: right;\n",
              "    }\n",
              "</style>\n",
              "<table border=\"1\" class=\"dataframe\">\n",
              "  <thead>\n",
              "    <tr style=\"text-align: right;\">\n",
              "      <th></th>\n",
              "      <th>Age</th>\n",
              "      <th>STDs: Number of diagnosis</th>\n",
              "      <th>Dx:Cancer</th>\n",
              "      <th>Dx:CIN</th>\n",
              "      <th>Dx:HPV</th>\n",
              "      <th>Dx</th>\n",
              "      <th>Hinselmann</th>\n",
              "      <th>Schiller</th>\n",
              "      <th>Citology</th>\n",
              "      <th>Biopsy</th>\n",
              "    </tr>\n",
              "  </thead>\n",
              "  <tbody>\n",
              "    <tr>\n",
              "      <th>count</th>\n",
              "      <td>858.000000</td>\n",
              "      <td>858.000000</td>\n",
              "      <td>858.000000</td>\n",
              "      <td>858.000000</td>\n",
              "      <td>858.000000</td>\n",
              "      <td>858.000000</td>\n",
              "      <td>858.000000</td>\n",
              "      <td>858.000000</td>\n",
              "      <td>858.000000</td>\n",
              "      <td>858.000000</td>\n",
              "    </tr>\n",
              "    <tr>\n",
              "      <th>mean</th>\n",
              "      <td>26.820513</td>\n",
              "      <td>0.087413</td>\n",
              "      <td>0.020979</td>\n",
              "      <td>0.010490</td>\n",
              "      <td>0.020979</td>\n",
              "      <td>0.027972</td>\n",
              "      <td>0.040793</td>\n",
              "      <td>0.086247</td>\n",
              "      <td>0.051282</td>\n",
              "      <td>0.064103</td>\n",
              "    </tr>\n",
              "    <tr>\n",
              "      <th>std</th>\n",
              "      <td>8.497948</td>\n",
              "      <td>0.302545</td>\n",
              "      <td>0.143398</td>\n",
              "      <td>0.101939</td>\n",
              "      <td>0.143398</td>\n",
              "      <td>0.164989</td>\n",
              "      <td>0.197925</td>\n",
              "      <td>0.280892</td>\n",
              "      <td>0.220701</td>\n",
              "      <td>0.245078</td>\n",
              "    </tr>\n",
              "    <tr>\n",
              "      <th>min</th>\n",
              "      <td>13.000000</td>\n",
              "      <td>0.000000</td>\n",
              "      <td>0.000000</td>\n",
              "      <td>0.000000</td>\n",
              "      <td>0.000000</td>\n",
              "      <td>0.000000</td>\n",
              "      <td>0.000000</td>\n",
              "      <td>0.000000</td>\n",
              "      <td>0.000000</td>\n",
              "      <td>0.000000</td>\n",
              "    </tr>\n",
              "    <tr>\n",
              "      <th>25%</th>\n",
              "      <td>20.000000</td>\n",
              "      <td>0.000000</td>\n",
              "      <td>0.000000</td>\n",
              "      <td>0.000000</td>\n",
              "      <td>0.000000</td>\n",
              "      <td>0.000000</td>\n",
              "      <td>0.000000</td>\n",
              "      <td>0.000000</td>\n",
              "      <td>0.000000</td>\n",
              "      <td>0.000000</td>\n",
              "    </tr>\n",
              "    <tr>\n",
              "      <th>50%</th>\n",
              "      <td>25.000000</td>\n",
              "      <td>0.000000</td>\n",
              "      <td>0.000000</td>\n",
              "      <td>0.000000</td>\n",
              "      <td>0.000000</td>\n",
              "      <td>0.000000</td>\n",
              "      <td>0.000000</td>\n",
              "      <td>0.000000</td>\n",
              "      <td>0.000000</td>\n",
              "      <td>0.000000</td>\n",
              "    </tr>\n",
              "    <tr>\n",
              "      <th>75%</th>\n",
              "      <td>32.000000</td>\n",
              "      <td>0.000000</td>\n",
              "      <td>0.000000</td>\n",
              "      <td>0.000000</td>\n",
              "      <td>0.000000</td>\n",
              "      <td>0.000000</td>\n",
              "      <td>0.000000</td>\n",
              "      <td>0.000000</td>\n",
              "      <td>0.000000</td>\n",
              "      <td>0.000000</td>\n",
              "    </tr>\n",
              "    <tr>\n",
              "      <th>max</th>\n",
              "      <td>84.000000</td>\n",
              "      <td>3.000000</td>\n",
              "      <td>1.000000</td>\n",
              "      <td>1.000000</td>\n",
              "      <td>1.000000</td>\n",
              "      <td>1.000000</td>\n",
              "      <td>1.000000</td>\n",
              "      <td>1.000000</td>\n",
              "      <td>1.000000</td>\n",
              "      <td>1.000000</td>\n",
              "    </tr>\n",
              "  </tbody>\n",
              "</table>\n",
              "</div>\n",
              "    <div class=\"colab-df-buttons\">\n",
              "\n",
              "  <div class=\"colab-df-container\">\n",
              "    <button class=\"colab-df-convert\" onclick=\"convertToInteractive('df-d6d51170-6c96-47f9-a1f4-d335a944f6b5')\"\n",
              "            title=\"Convert this dataframe to an interactive table.\"\n",
              "            style=\"display:none;\">\n",
              "\n",
              "  <svg xmlns=\"http://www.w3.org/2000/svg\" height=\"24px\" viewBox=\"0 -960 960 960\">\n",
              "    <path d=\"M120-120v-720h720v720H120Zm60-500h600v-160H180v160Zm220 220h160v-160H400v160Zm0 220h160v-160H400v160ZM180-400h160v-160H180v160Zm440 0h160v-160H620v160ZM180-180h160v-160H180v160Zm440 0h160v-160H620v160Z\"/>\n",
              "  </svg>\n",
              "    </button>\n",
              "\n",
              "  <style>\n",
              "    .colab-df-container {\n",
              "      display:flex;\n",
              "      gap: 12px;\n",
              "    }\n",
              "\n",
              "    .colab-df-convert {\n",
              "      background-color: #E8F0FE;\n",
              "      border: none;\n",
              "      border-radius: 50%;\n",
              "      cursor: pointer;\n",
              "      display: none;\n",
              "      fill: #1967D2;\n",
              "      height: 32px;\n",
              "      padding: 0 0 0 0;\n",
              "      width: 32px;\n",
              "    }\n",
              "\n",
              "    .colab-df-convert:hover {\n",
              "      background-color: #E2EBFA;\n",
              "      box-shadow: 0px 1px 2px rgba(60, 64, 67, 0.3), 0px 1px 3px 1px rgba(60, 64, 67, 0.15);\n",
              "      fill: #174EA6;\n",
              "    }\n",
              "\n",
              "    .colab-df-buttons div {\n",
              "      margin-bottom: 4px;\n",
              "    }\n",
              "\n",
              "    [theme=dark] .colab-df-convert {\n",
              "      background-color: #3B4455;\n",
              "      fill: #D2E3FC;\n",
              "    }\n",
              "\n",
              "    [theme=dark] .colab-df-convert:hover {\n",
              "      background-color: #434B5C;\n",
              "      box-shadow: 0px 1px 3px 1px rgba(0, 0, 0, 0.15);\n",
              "      filter: drop-shadow(0px 1px 2px rgba(0, 0, 0, 0.3));\n",
              "      fill: #FFFFFF;\n",
              "    }\n",
              "  </style>\n",
              "\n",
              "    <script>\n",
              "      const buttonEl =\n",
              "        document.querySelector('#df-d6d51170-6c96-47f9-a1f4-d335a944f6b5 button.colab-df-convert');\n",
              "      buttonEl.style.display =\n",
              "        google.colab.kernel.accessAllowed ? 'block' : 'none';\n",
              "\n",
              "      async function convertToInteractive(key) {\n",
              "        const element = document.querySelector('#df-d6d51170-6c96-47f9-a1f4-d335a944f6b5');\n",
              "        const dataTable =\n",
              "          await google.colab.kernel.invokeFunction('convertToInteractive',\n",
              "                                                    [key], {});\n",
              "        if (!dataTable) return;\n",
              "\n",
              "        const docLinkHtml = 'Like what you see? Visit the ' +\n",
              "          '<a target=\"_blank\" href=https://colab.research.google.com/notebooks/data_table.ipynb>data table notebook</a>'\n",
              "          + ' to learn more about interactive tables.';\n",
              "        element.innerHTML = '';\n",
              "        dataTable['output_type'] = 'display_data';\n",
              "        await google.colab.output.renderOutput(dataTable, element);\n",
              "        const docLink = document.createElement('div');\n",
              "        docLink.innerHTML = docLinkHtml;\n",
              "        element.appendChild(docLink);\n",
              "      }\n",
              "    </script>\n",
              "  </div>\n",
              "\n",
              "\n",
              "<div id=\"df-7d31a0d3-fc5e-411e-b807-061c9e4626e7\">\n",
              "  <button class=\"colab-df-quickchart\" onclick=\"quickchart('df-7d31a0d3-fc5e-411e-b807-061c9e4626e7')\"\n",
              "            title=\"Suggest charts.\"\n",
              "            style=\"display:none;\">\n",
              "\n",
              "<svg xmlns=\"http://www.w3.org/2000/svg\" height=\"24px\"viewBox=\"0 0 24 24\"\n",
              "     width=\"24px\">\n",
              "    <g>\n",
              "        <path d=\"M19 3H5c-1.1 0-2 .9-2 2v14c0 1.1.9 2 2 2h14c1.1 0 2-.9 2-2V5c0-1.1-.9-2-2-2zM9 17H7v-7h2v7zm4 0h-2V7h2v10zm4 0h-2v-4h2v4z\"/>\n",
              "    </g>\n",
              "</svg>\n",
              "  </button>\n",
              "\n",
              "<style>\n",
              "  .colab-df-quickchart {\n",
              "    background-color: #E8F0FE;\n",
              "    border: none;\n",
              "    border-radius: 50%;\n",
              "    cursor: pointer;\n",
              "    display: none;\n",
              "    fill: #1967D2;\n",
              "    height: 32px;\n",
              "    padding: 0 0 0 0;\n",
              "    width: 32px;\n",
              "  }\n",
              "\n",
              "  .colab-df-quickchart:hover {\n",
              "    background-color: #E2EBFA;\n",
              "    box-shadow: 0px 1px 2px rgba(60, 64, 67, 0.3), 0px 1px 3px 1px rgba(60, 64, 67, 0.15);\n",
              "    fill: #174EA6;\n",
              "  }\n",
              "\n",
              "  [theme=dark] .colab-df-quickchart {\n",
              "    background-color: #3B4455;\n",
              "    fill: #D2E3FC;\n",
              "  }\n",
              "\n",
              "  [theme=dark] .colab-df-quickchart:hover {\n",
              "    background-color: #434B5C;\n",
              "    box-shadow: 0px 1px 3px 1px rgba(0, 0, 0, 0.15);\n",
              "    filter: drop-shadow(0px 1px 2px rgba(0, 0, 0, 0.3));\n",
              "    fill: #FFFFFF;\n",
              "  }\n",
              "</style>\n",
              "\n",
              "  <script>\n",
              "    async function quickchart(key) {\n",
              "      const charts = await google.colab.kernel.invokeFunction(\n",
              "          'suggestCharts', [key], {});\n",
              "    }\n",
              "    (() => {\n",
              "      let quickchartButtonEl =\n",
              "        document.querySelector('#df-7d31a0d3-fc5e-411e-b807-061c9e4626e7 button');\n",
              "      quickchartButtonEl.style.display =\n",
              "        google.colab.kernel.accessAllowed ? 'block' : 'none';\n",
              "    })();\n",
              "  </script>\n",
              "</div>\n",
              "    </div>\n",
              "  </div>\n"
            ]
          },
          "metadata": {},
          "execution_count": 20
        }
      ]
    },
    {
      "cell_type": "markdown",
      "source": [
        "Vamos analisar a distribuição dos valores da variável alvo.\n",
        "\n",
        "Observa-se um desbalanceamento nos dados."
      ],
      "metadata": {
        "id": "MvHqoYCoRx6b"
      }
    },
    {
      "cell_type": "code",
      "source": [
        "cervical['Biopsy'].value_counts()\n"
      ],
      "metadata": {
        "colab": {
          "base_uri": "https://localhost:8080/"
        },
        "id": "kBFT6ospR4sc",
        "outputId": "0c994ed9-d04e-4022-c042-0f1d2cdf75dc"
      },
      "execution_count": 21,
      "outputs": [
        {
          "output_type": "execute_result",
          "data": {
            "text/plain": [
              "0    803\n",
              "1     55\n",
              "Name: Biopsy, dtype: int64"
            ]
          },
          "metadata": {},
          "execution_count": 21
        }
      ]
    },
    {
      "cell_type": "markdown",
      "source": [
        "## Preparação para Validação\n",
        "\n",
        "Antes de prosseguirmos com a utilização da biblioteca, é fundamental reservarmos uma porção dos dados para fins de validação do modelo posteriormente."
      ],
      "metadata": {
        "id": "4UpQr2pgTHam"
      }
    },
    {
      "cell_type": "code",
      "source": [
        "data=cervical.sample(frac=0.9, random_state=42)\n",
        "data_unseen=cervical.drop(data.index)"
      ],
      "metadata": {
        "id": "RTp-EPuDTF0_"
      },
      "execution_count": 22,
      "outputs": []
    },
    {
      "cell_type": "code",
      "source": [
        "# Reindexando as bases de dados.\n",
        "\n",
        "data.reset_index(drop=True, inplace=True)\n",
        "data_unseen.reset_index(drop=True, inplace=True)"
      ],
      "metadata": {
        "id": "u4Y5OlDXTcpI"
      },
      "execution_count": 23,
      "outputs": []
    },
    {
      "cell_type": "markdown",
      "source": [
        "## **Utilizando a Biblioteca PyCaret**\n",
        "Iniciaremos aplicando o \"`setup`\" dos dados, em que a variável alvo será \"`Biopsy`\", e incorporaremos o parâmetro \"`fix_imbalance = True`\".\n",
        "Esse parâmetro possibilitará o reequilíbrio dos dados usando o método **SMOTE**, que gerará amostras sintéticas no conjunto de treinamento para otimizar o modelo.\n",
        "\n",
        "A tabela subsequente detalha todo o processo de pré-processamento efetuado."
      ],
      "metadata": {
        "id": "MLLfIMBlTnYr"
      }
    },
    {
      "cell_type": "code",
      "source": [
        "# Configuração do ambiente PyCaret\n",
        "class1 = setup(data=data,\n",
        "               target='Biopsy',\n",
        "               session_id=123,\n",
        "               fix_imbalance=True,\n",
        "               fix_imbalance_method=imblearn.over_sampling.SMOTE())\n"
      ],
      "metadata": {
        "colab": {
          "base_uri": "https://localhost:8080/",
          "height": 833
        },
        "id": "P8ktaAF3UVuO",
        "outputId": "9b8b46bf-5034-45d7-e22a-c141453bae01"
      },
      "execution_count": 24,
      "outputs": [
        {
          "output_type": "display_data",
          "data": {
            "text/plain": [
              "<pandas.io.formats.style.Styler at 0x7c1f479f5f90>"
            ],
            "text/html": [
              "<style type=\"text/css\">\n",
              "#T_1011c_row10_col1, #T_1011c_row16_col1 {\n",
              "  background-color: lightgreen;\n",
              "}\n",
              "</style>\n",
              "<table id=\"T_1011c\" class=\"dataframe\">\n",
              "  <thead>\n",
              "    <tr>\n",
              "      <th class=\"blank level0\" >&nbsp;</th>\n",
              "      <th id=\"T_1011c_level0_col0\" class=\"col_heading level0 col0\" >Description</th>\n",
              "      <th id=\"T_1011c_level0_col1\" class=\"col_heading level0 col1\" >Value</th>\n",
              "    </tr>\n",
              "  </thead>\n",
              "  <tbody>\n",
              "    <tr>\n",
              "      <th id=\"T_1011c_level0_row0\" class=\"row_heading level0 row0\" >0</th>\n",
              "      <td id=\"T_1011c_row0_col0\" class=\"data row0 col0\" >Session id</td>\n",
              "      <td id=\"T_1011c_row0_col1\" class=\"data row0 col1\" >123</td>\n",
              "    </tr>\n",
              "    <tr>\n",
              "      <th id=\"T_1011c_level0_row1\" class=\"row_heading level0 row1\" >1</th>\n",
              "      <td id=\"T_1011c_row1_col0\" class=\"data row1 col0\" >Target</td>\n",
              "      <td id=\"T_1011c_row1_col1\" class=\"data row1 col1\" >Biopsy</td>\n",
              "    </tr>\n",
              "    <tr>\n",
              "      <th id=\"T_1011c_level0_row2\" class=\"row_heading level0 row2\" >2</th>\n",
              "      <td id=\"T_1011c_row2_col0\" class=\"data row2 col0\" >Target type</td>\n",
              "      <td id=\"T_1011c_row2_col1\" class=\"data row2 col1\" >Binary</td>\n",
              "    </tr>\n",
              "    <tr>\n",
              "      <th id=\"T_1011c_level0_row3\" class=\"row_heading level0 row3\" >3</th>\n",
              "      <td id=\"T_1011c_row3_col0\" class=\"data row3 col0\" >Original data shape</td>\n",
              "      <td id=\"T_1011c_row3_col1\" class=\"data row3 col1\" >(772, 36)</td>\n",
              "    </tr>\n",
              "    <tr>\n",
              "      <th id=\"T_1011c_level0_row4\" class=\"row_heading level0 row4\" >4</th>\n",
              "      <td id=\"T_1011c_row4_col0\" class=\"data row4 col0\" >Transformed data shape</td>\n",
              "      <td id=\"T_1011c_row4_col1\" class=\"data row4 col1\" >(1242, 156)</td>\n",
              "    </tr>\n",
              "    <tr>\n",
              "      <th id=\"T_1011c_level0_row5\" class=\"row_heading level0 row5\" >5</th>\n",
              "      <td id=\"T_1011c_row5_col0\" class=\"data row5 col0\" >Transformed train set shape</td>\n",
              "      <td id=\"T_1011c_row5_col1\" class=\"data row5 col1\" >(1010, 156)</td>\n",
              "    </tr>\n",
              "    <tr>\n",
              "      <th id=\"T_1011c_level0_row6\" class=\"row_heading level0 row6\" >6</th>\n",
              "      <td id=\"T_1011c_row6_col0\" class=\"data row6 col0\" >Transformed test set shape</td>\n",
              "      <td id=\"T_1011c_row6_col1\" class=\"data row6 col1\" >(232, 156)</td>\n",
              "    </tr>\n",
              "    <tr>\n",
              "      <th id=\"T_1011c_level0_row7\" class=\"row_heading level0 row7\" >7</th>\n",
              "      <td id=\"T_1011c_row7_col0\" class=\"data row7 col0\" >Ordinal features</td>\n",
              "      <td id=\"T_1011c_row7_col1\" class=\"data row7 col1\" >4</td>\n",
              "    </tr>\n",
              "    <tr>\n",
              "      <th id=\"T_1011c_level0_row8\" class=\"row_heading level0 row8\" >8</th>\n",
              "      <td id=\"T_1011c_row8_col0\" class=\"data row8 col0\" >Numeric features</td>\n",
              "      <td id=\"T_1011c_row8_col1\" class=\"data row8 col1\" >9</td>\n",
              "    </tr>\n",
              "    <tr>\n",
              "      <th id=\"T_1011c_level0_row9\" class=\"row_heading level0 row9\" >9</th>\n",
              "      <td id=\"T_1011c_row9_col0\" class=\"data row9 col0\" >Categorical features</td>\n",
              "      <td id=\"T_1011c_row9_col1\" class=\"data row9 col1\" >26</td>\n",
              "    </tr>\n",
              "    <tr>\n",
              "      <th id=\"T_1011c_level0_row10\" class=\"row_heading level0 row10\" >10</th>\n",
              "      <td id=\"T_1011c_row10_col0\" class=\"data row10 col0\" >Preprocess</td>\n",
              "      <td id=\"T_1011c_row10_col1\" class=\"data row10 col1\" >True</td>\n",
              "    </tr>\n",
              "    <tr>\n",
              "      <th id=\"T_1011c_level0_row11\" class=\"row_heading level0 row11\" >11</th>\n",
              "      <td id=\"T_1011c_row11_col0\" class=\"data row11 col0\" >Imputation type</td>\n",
              "      <td id=\"T_1011c_row11_col1\" class=\"data row11 col1\" >simple</td>\n",
              "    </tr>\n",
              "    <tr>\n",
              "      <th id=\"T_1011c_level0_row12\" class=\"row_heading level0 row12\" >12</th>\n",
              "      <td id=\"T_1011c_row12_col0\" class=\"data row12 col0\" >Numeric imputation</td>\n",
              "      <td id=\"T_1011c_row12_col1\" class=\"data row12 col1\" >mean</td>\n",
              "    </tr>\n",
              "    <tr>\n",
              "      <th id=\"T_1011c_level0_row13\" class=\"row_heading level0 row13\" >13</th>\n",
              "      <td id=\"T_1011c_row13_col0\" class=\"data row13 col0\" >Categorical imputation</td>\n",
              "      <td id=\"T_1011c_row13_col1\" class=\"data row13 col1\" >mode</td>\n",
              "    </tr>\n",
              "    <tr>\n",
              "      <th id=\"T_1011c_level0_row14\" class=\"row_heading level0 row14\" >14</th>\n",
              "      <td id=\"T_1011c_row14_col0\" class=\"data row14 col0\" >Maximum one-hot encoding</td>\n",
              "      <td id=\"T_1011c_row14_col1\" class=\"data row14 col1\" >25</td>\n",
              "    </tr>\n",
              "    <tr>\n",
              "      <th id=\"T_1011c_level0_row15\" class=\"row_heading level0 row15\" >15</th>\n",
              "      <td id=\"T_1011c_row15_col0\" class=\"data row15 col0\" >Encoding method</td>\n",
              "      <td id=\"T_1011c_row15_col1\" class=\"data row15 col1\" >None</td>\n",
              "    </tr>\n",
              "    <tr>\n",
              "      <th id=\"T_1011c_level0_row16\" class=\"row_heading level0 row16\" >16</th>\n",
              "      <td id=\"T_1011c_row16_col0\" class=\"data row16 col0\" >Fix imbalance</td>\n",
              "      <td id=\"T_1011c_row16_col1\" class=\"data row16 col1\" >True</td>\n",
              "    </tr>\n",
              "    <tr>\n",
              "      <th id=\"T_1011c_level0_row17\" class=\"row_heading level0 row17\" >17</th>\n",
              "      <td id=\"T_1011c_row17_col0\" class=\"data row17 col0\" >Fix imbalance method</td>\n",
              "      <td id=\"T_1011c_row17_col1\" class=\"data row17 col1\" >SMOTE(k_neighbors=5, n_jobs=None, random_state=None, sampling_strategy='auto')</td>\n",
              "    </tr>\n",
              "    <tr>\n",
              "      <th id=\"T_1011c_level0_row18\" class=\"row_heading level0 row18\" >18</th>\n",
              "      <td id=\"T_1011c_row18_col0\" class=\"data row18 col0\" >Fold Generator</td>\n",
              "      <td id=\"T_1011c_row18_col1\" class=\"data row18 col1\" >StratifiedKFold</td>\n",
              "    </tr>\n",
              "    <tr>\n",
              "      <th id=\"T_1011c_level0_row19\" class=\"row_heading level0 row19\" >19</th>\n",
              "      <td id=\"T_1011c_row19_col0\" class=\"data row19 col0\" >Fold Number</td>\n",
              "      <td id=\"T_1011c_row19_col1\" class=\"data row19 col1\" >10</td>\n",
              "    </tr>\n",
              "    <tr>\n",
              "      <th id=\"T_1011c_level0_row20\" class=\"row_heading level0 row20\" >20</th>\n",
              "      <td id=\"T_1011c_row20_col0\" class=\"data row20 col0\" >CPU Jobs</td>\n",
              "      <td id=\"T_1011c_row20_col1\" class=\"data row20 col1\" >-1</td>\n",
              "    </tr>\n",
              "    <tr>\n",
              "      <th id=\"T_1011c_level0_row21\" class=\"row_heading level0 row21\" >21</th>\n",
              "      <td id=\"T_1011c_row21_col0\" class=\"data row21 col0\" >Use GPU</td>\n",
              "      <td id=\"T_1011c_row21_col1\" class=\"data row21 col1\" >False</td>\n",
              "    </tr>\n",
              "    <tr>\n",
              "      <th id=\"T_1011c_level0_row22\" class=\"row_heading level0 row22\" >22</th>\n",
              "      <td id=\"T_1011c_row22_col0\" class=\"data row22 col0\" >Log Experiment</td>\n",
              "      <td id=\"T_1011c_row22_col1\" class=\"data row22 col1\" >False</td>\n",
              "    </tr>\n",
              "    <tr>\n",
              "      <th id=\"T_1011c_level0_row23\" class=\"row_heading level0 row23\" >23</th>\n",
              "      <td id=\"T_1011c_row23_col0\" class=\"data row23 col0\" >Experiment Name</td>\n",
              "      <td id=\"T_1011c_row23_col1\" class=\"data row23 col1\" >clf-default-name</td>\n",
              "    </tr>\n",
              "    <tr>\n",
              "      <th id=\"T_1011c_level0_row24\" class=\"row_heading level0 row24\" >24</th>\n",
              "      <td id=\"T_1011c_row24_col0\" class=\"data row24 col0\" >USI</td>\n",
              "      <td id=\"T_1011c_row24_col1\" class=\"data row24 col1\" >ffa5</td>\n",
              "    </tr>\n",
              "  </tbody>\n",
              "</table>\n"
            ]
          },
          "metadata": {}
        }
      ]
    },
    {
      "cell_type": "markdown",
      "source": [
        "Abaixo o processamento do setup.\n",
        "\n"
      ],
      "metadata": {
        "id": "PVqpT-KrWHRG"
      }
    },
    {
      "cell_type": "code",
      "source": [
        "class1"
      ],
      "metadata": {
        "colab": {
          "base_uri": "https://localhost:8080/"
        },
        "id": "RfwiVZn8WMb4",
        "outputId": "4be83346-5f81-49f4-c13c-f933032b73d5"
      },
      "execution_count": 25,
      "outputs": [
        {
          "output_type": "execute_result",
          "data": {
            "text/plain": [
              "<pycaret.classification.oop.ClassificationExperiment at 0x7c1f713f05b0>"
            ]
          },
          "metadata": {},
          "execution_count": 25
        }
      ]
    },
    {
      "cell_type": "markdown",
      "source": [
        "## **Treinamento dos Modelos**\n",
        "\n",
        "Agora, avançaremos para o treinamento dos diversos modelos e a avaliação de suas métricas de desempenho.\n",
        "\n",
        "Com base na métrica de acurácia, identificamos que o modelo de classificação Ada Boost Classifier obteve o desempenho mais alto. Ele demonstrou a maior precisão em relação aos outros modelos. No entanto, ao considerar todas as métricas, incluindo a AUC, recall e f1-score, notamos que o modelo CatBoost Classifier alcançou a mesma acurácia, porém apresentou uma AUC superior e melhores resultados em termos de recall e f1-score.\n",
        "\n",
        "Levando isso em consideração, foi decidido adotar o modelo CatBoost Classifier como a escolha para este projeto."
      ],
      "metadata": {
        "id": "oIpQd2u6X7K-"
      }
    },
    {
      "cell_type": "code",
      "source": [
        "best=compare_models()"
      ],
      "metadata": {
        "colab": {
          "base_uri": "https://localhost:8080/",
          "height": 551,
          "referenced_widgets": [
            "56c9d18d3c8d492db34cb2981f1a49ed",
            "2f883de093524d68b456fd630c1f0ac1",
            "8d4baacab5d1456a8f364378d716702f",
            "3c3d428ea99f43feafce06cdb53d976d",
            "2cb2cb6cc77c47c7923c65d7b0031043",
            "a9b7561d35d14be3ba665be88b81d412",
            "bd926a34692c45b6a66920d3ca1cfb88",
            "c34ce1d0a4ff42f4b806cef59d8f50c3",
            "b8938507958f441b94bebf1c19170eb7",
            "ae87a4828a00414a8007f02566e811eb",
            "dd5c0d15898e455cb399687fa7a74003"
          ]
        },
        "id": "AwVD4RIdZTil",
        "outputId": "1d118d73-205c-4b69-b85b-5edddb79d363"
      },
      "execution_count": 26,
      "outputs": [
        {
          "output_type": "display_data",
          "data": {
            "text/plain": [
              "<IPython.core.display.HTML object>"
            ],
            "text/html": []
          },
          "metadata": {}
        },
        {
          "output_type": "display_data",
          "data": {
            "text/plain": [
              "<pandas.io.formats.style.Styler at 0x7c1f713f1f60>"
            ],
            "text/html": [
              "<style type=\"text/css\">\n",
              "#T_ad27e th {\n",
              "  text-align: left;\n",
              "}\n",
              "#T_ad27e_row0_col0, #T_ad27e_row0_col2, #T_ad27e_row0_col4, #T_ad27e_row1_col0, #T_ad27e_row1_col2, #T_ad27e_row1_col3, #T_ad27e_row1_col4, #T_ad27e_row1_col5, #T_ad27e_row1_col6, #T_ad27e_row1_col7, #T_ad27e_row2_col0, #T_ad27e_row2_col2, #T_ad27e_row2_col3, #T_ad27e_row2_col4, #T_ad27e_row2_col5, #T_ad27e_row2_col6, #T_ad27e_row2_col7, #T_ad27e_row3_col0, #T_ad27e_row3_col1, #T_ad27e_row3_col2, #T_ad27e_row3_col3, #T_ad27e_row3_col4, #T_ad27e_row3_col5, #T_ad27e_row3_col6, #T_ad27e_row3_col7, #T_ad27e_row4_col0, #T_ad27e_row4_col1, #T_ad27e_row4_col2, #T_ad27e_row4_col3, #T_ad27e_row4_col4, #T_ad27e_row4_col5, #T_ad27e_row4_col6, #T_ad27e_row4_col7, #T_ad27e_row5_col0, #T_ad27e_row5_col1, #T_ad27e_row5_col2, #T_ad27e_row5_col3, #T_ad27e_row5_col5, #T_ad27e_row5_col6, #T_ad27e_row5_col7, #T_ad27e_row6_col0, #T_ad27e_row6_col1, #T_ad27e_row6_col3, #T_ad27e_row6_col4, #T_ad27e_row6_col5, #T_ad27e_row6_col6, #T_ad27e_row6_col7, #T_ad27e_row7_col0, #T_ad27e_row7_col1, #T_ad27e_row7_col2, #T_ad27e_row7_col3, #T_ad27e_row7_col4, #T_ad27e_row7_col5, #T_ad27e_row7_col6, #T_ad27e_row7_col7, #T_ad27e_row8_col0, #T_ad27e_row8_col1, #T_ad27e_row8_col2, #T_ad27e_row8_col3, #T_ad27e_row8_col4, #T_ad27e_row8_col5, #T_ad27e_row8_col6, #T_ad27e_row8_col7, #T_ad27e_row9_col0, #T_ad27e_row9_col1, #T_ad27e_row9_col2, #T_ad27e_row9_col3, #T_ad27e_row9_col4, #T_ad27e_row9_col5, #T_ad27e_row9_col6, #T_ad27e_row9_col7, #T_ad27e_row10_col0, #T_ad27e_row10_col1, #T_ad27e_row10_col2, #T_ad27e_row10_col3, #T_ad27e_row10_col4, #T_ad27e_row10_col5, #T_ad27e_row10_col6, #T_ad27e_row10_col7, #T_ad27e_row11_col0, #T_ad27e_row11_col1, #T_ad27e_row11_col2, #T_ad27e_row11_col3, #T_ad27e_row11_col4, #T_ad27e_row11_col5, #T_ad27e_row11_col6, #T_ad27e_row11_col7, #T_ad27e_row12_col0, #T_ad27e_row12_col1, #T_ad27e_row12_col2, #T_ad27e_row12_col3, #T_ad27e_row12_col4, #T_ad27e_row12_col5, #T_ad27e_row12_col6, #T_ad27e_row12_col7, #T_ad27e_row13_col0, #T_ad27e_row13_col1, #T_ad27e_row13_col2, #T_ad27e_row13_col3, #T_ad27e_row13_col4, #T_ad27e_row13_col5, #T_ad27e_row13_col6, #T_ad27e_row13_col7, #T_ad27e_row14_col0, #T_ad27e_row14_col1, #T_ad27e_row14_col2, #T_ad27e_row14_col3, #T_ad27e_row14_col4, #T_ad27e_row14_col5, #T_ad27e_row14_col6, #T_ad27e_row14_col7, #T_ad27e_row15_col0, #T_ad27e_row15_col1, #T_ad27e_row15_col2, #T_ad27e_row15_col3, #T_ad27e_row15_col4, #T_ad27e_row15_col5, #T_ad27e_row15_col6, #T_ad27e_row15_col7 {\n",
              "  text-align: left;\n",
              "}\n",
              "#T_ad27e_row0_col1, #T_ad27e_row0_col3, #T_ad27e_row0_col5, #T_ad27e_row0_col6, #T_ad27e_row0_col7, #T_ad27e_row1_col1, #T_ad27e_row2_col1, #T_ad27e_row5_col4, #T_ad27e_row6_col2 {\n",
              "  text-align: left;\n",
              "  background-color: yellow;\n",
              "}\n",
              "#T_ad27e_row0_col8, #T_ad27e_row1_col8, #T_ad27e_row2_col8, #T_ad27e_row3_col8, #T_ad27e_row4_col8, #T_ad27e_row5_col8, #T_ad27e_row6_col8, #T_ad27e_row7_col8, #T_ad27e_row8_col8, #T_ad27e_row9_col8, #T_ad27e_row10_col8, #T_ad27e_row11_col8, #T_ad27e_row12_col8, #T_ad27e_row14_col8, #T_ad27e_row15_col8 {\n",
              "  text-align: left;\n",
              "  background-color: lightgrey;\n",
              "}\n",
              "#T_ad27e_row13_col8 {\n",
              "  text-align: left;\n",
              "  background-color: yellow;\n",
              "  background-color: lightgrey;\n",
              "}\n",
              "</style>\n",
              "<table id=\"T_ad27e\" class=\"dataframe\">\n",
              "  <thead>\n",
              "    <tr>\n",
              "      <th class=\"blank level0\" >&nbsp;</th>\n",
              "      <th id=\"T_ad27e_level0_col0\" class=\"col_heading level0 col0\" >Model</th>\n",
              "      <th id=\"T_ad27e_level0_col1\" class=\"col_heading level0 col1\" >Accuracy</th>\n",
              "      <th id=\"T_ad27e_level0_col2\" class=\"col_heading level0 col2\" >AUC</th>\n",
              "      <th id=\"T_ad27e_level0_col3\" class=\"col_heading level0 col3\" >Recall</th>\n",
              "      <th id=\"T_ad27e_level0_col4\" class=\"col_heading level0 col4\" >Prec.</th>\n",
              "      <th id=\"T_ad27e_level0_col5\" class=\"col_heading level0 col5\" >F1</th>\n",
              "      <th id=\"T_ad27e_level0_col6\" class=\"col_heading level0 col6\" >Kappa</th>\n",
              "      <th id=\"T_ad27e_level0_col7\" class=\"col_heading level0 col7\" >MCC</th>\n",
              "      <th id=\"T_ad27e_level0_col8\" class=\"col_heading level0 col8\" >TT (Sec)</th>\n",
              "    </tr>\n",
              "  </thead>\n",
              "  <tbody>\n",
              "    <tr>\n",
              "      <th id=\"T_ad27e_level0_row0\" class=\"row_heading level0 row0\" >ridge</th>\n",
              "      <td id=\"T_ad27e_row0_col0\" class=\"data row0 col0\" >Ridge Classifier</td>\n",
              "      <td id=\"T_ad27e_row0_col1\" class=\"data row0 col1\" >0.9704</td>\n",
              "      <td id=\"T_ad27e_row0_col2\" class=\"data row0 col2\" >0.0000</td>\n",
              "      <td id=\"T_ad27e_row0_col3\" class=\"data row0 col3\" >0.9167</td>\n",
              "      <td id=\"T_ad27e_row0_col4\" class=\"data row0 col4\" >0.7350</td>\n",
              "      <td id=\"T_ad27e_row0_col5\" class=\"data row0 col5\" >0.8044</td>\n",
              "      <td id=\"T_ad27e_row0_col6\" class=\"data row0 col6\" >0.7891</td>\n",
              "      <td id=\"T_ad27e_row0_col7\" class=\"data row0 col7\" >0.8012</td>\n",
              "      <td id=\"T_ad27e_row0_col8\" class=\"data row0 col8\" >0.8770</td>\n",
              "    </tr>\n",
              "    <tr>\n",
              "      <th id=\"T_ad27e_level0_row1\" class=\"row_heading level0 row1\" >xgboost</th>\n",
              "      <td id=\"T_ad27e_row1_col0\" class=\"data row1 col0\" >Extreme Gradient Boosting</td>\n",
              "      <td id=\"T_ad27e_row1_col1\" class=\"data row1 col1\" >0.9704</td>\n",
              "      <td id=\"T_ad27e_row1_col2\" class=\"data row1 col2\" >0.9738</td>\n",
              "      <td id=\"T_ad27e_row1_col3\" class=\"data row1 col3\" >0.6833</td>\n",
              "      <td id=\"T_ad27e_row1_col4\" class=\"data row1 col4\" >0.8383</td>\n",
              "      <td id=\"T_ad27e_row1_col5\" class=\"data row1 col5\" >0.7217</td>\n",
              "      <td id=\"T_ad27e_row1_col6\" class=\"data row1 col6\" >0.7072</td>\n",
              "      <td id=\"T_ad27e_row1_col7\" class=\"data row1 col7\" >0.7272</td>\n",
              "      <td id=\"T_ad27e_row1_col8\" class=\"data row1 col8\" >1.6890</td>\n",
              "    </tr>\n",
              "    <tr>\n",
              "      <th id=\"T_ad27e_level0_row2\" class=\"row_heading level0 row2\" >catboost</th>\n",
              "      <td id=\"T_ad27e_row2_col0\" class=\"data row2 col0\" >CatBoost Classifier</td>\n",
              "      <td id=\"T_ad27e_row2_col1\" class=\"data row2 col1\" >0.9704</td>\n",
              "      <td id=\"T_ad27e_row2_col2\" class=\"data row2 col2\" >0.9746</td>\n",
              "      <td id=\"T_ad27e_row2_col3\" class=\"data row2 col3\" >0.7667</td>\n",
              "      <td id=\"T_ad27e_row2_col4\" class=\"data row2 col4\" >0.7983</td>\n",
              "      <td id=\"T_ad27e_row2_col5\" class=\"data row2 col5\" >0.7434</td>\n",
              "      <td id=\"T_ad27e_row2_col6\" class=\"data row2 col6\" >0.7288</td>\n",
              "      <td id=\"T_ad27e_row2_col7\" class=\"data row2 col7\" >0.7491</td>\n",
              "      <td id=\"T_ad27e_row2_col8\" class=\"data row2 col8\" >9.8810</td>\n",
              "    </tr>\n",
              "    <tr>\n",
              "      <th id=\"T_ad27e_level0_row3\" class=\"row_heading level0 row3\" >gbc</th>\n",
              "      <td id=\"T_ad27e_row3_col0\" class=\"data row3 col0\" >Gradient Boosting Classifier</td>\n",
              "      <td id=\"T_ad27e_row3_col1\" class=\"data row3 col1\" >0.9685</td>\n",
              "      <td id=\"T_ad27e_row3_col2\" class=\"data row3 col2\" >0.9589</td>\n",
              "      <td id=\"T_ad27e_row3_col3\" class=\"data row3 col3\" >0.7250</td>\n",
              "      <td id=\"T_ad27e_row3_col4\" class=\"data row3 col4\" >0.8333</td>\n",
              "      <td id=\"T_ad27e_row3_col5\" class=\"data row3 col5\" >0.7286</td>\n",
              "      <td id=\"T_ad27e_row3_col6\" class=\"data row3 col6\" >0.7136</td>\n",
              "      <td id=\"T_ad27e_row3_col7\" class=\"data row3 col7\" >0.7384</td>\n",
              "      <td id=\"T_ad27e_row3_col8\" class=\"data row3 col8\" >1.5630</td>\n",
              "    </tr>\n",
              "    <tr>\n",
              "      <th id=\"T_ad27e_level0_row4\" class=\"row_heading level0 row4\" >lightgbm</th>\n",
              "      <td id=\"T_ad27e_row4_col0\" class=\"data row4 col0\" >Light Gradient Boosting Machine</td>\n",
              "      <td id=\"T_ad27e_row4_col1\" class=\"data row4 col1\" >0.9667</td>\n",
              "      <td id=\"T_ad27e_row4_col2\" class=\"data row4 col2\" >0.9719</td>\n",
              "      <td id=\"T_ad27e_row4_col3\" class=\"data row4 col3\" >0.6583</td>\n",
              "      <td id=\"T_ad27e_row4_col4\" class=\"data row4 col4\" >0.8250</td>\n",
              "      <td id=\"T_ad27e_row4_col5\" class=\"data row4 col5\" >0.6862</td>\n",
              "      <td id=\"T_ad27e_row4_col6\" class=\"data row4 col6\" >0.6706</td>\n",
              "      <td id=\"T_ad27e_row4_col7\" class=\"data row4 col7\" >0.6979</td>\n",
              "      <td id=\"T_ad27e_row4_col8\" class=\"data row4 col8\" >2.0690</td>\n",
              "    </tr>\n",
              "    <tr>\n",
              "      <th id=\"T_ad27e_level0_row5\" class=\"row_heading level0 row5\" >rf</th>\n",
              "      <td id=\"T_ad27e_row5_col0\" class=\"data row5 col0\" >Random Forest Classifier</td>\n",
              "      <td id=\"T_ad27e_row5_col1\" class=\"data row5 col1\" >0.9630</td>\n",
              "      <td id=\"T_ad27e_row5_col2\" class=\"data row5 col2\" >0.9748</td>\n",
              "      <td id=\"T_ad27e_row5_col3\" class=\"data row5 col3\" >0.4917</td>\n",
              "      <td id=\"T_ad27e_row5_col4\" class=\"data row5 col4\" >0.9333</td>\n",
              "      <td id=\"T_ad27e_row5_col5\" class=\"data row5 col5\" >0.6162</td>\n",
              "      <td id=\"T_ad27e_row5_col6\" class=\"data row5 col6\" >0.6002</td>\n",
              "      <td id=\"T_ad27e_row5_col7\" class=\"data row5 col7\" >0.6468</td>\n",
              "      <td id=\"T_ad27e_row5_col8\" class=\"data row5 col8\" >1.4850</td>\n",
              "    </tr>\n",
              "    <tr>\n",
              "      <th id=\"T_ad27e_level0_row6\" class=\"row_heading level0 row6\" >et</th>\n",
              "      <td id=\"T_ad27e_row6_col0\" class=\"data row6 col0\" >Extra Trees Classifier</td>\n",
              "      <td id=\"T_ad27e_row6_col1\" class=\"data row6 col1\" >0.9630</td>\n",
              "      <td id=\"T_ad27e_row6_col2\" class=\"data row6 col2\" >0.9834</td>\n",
              "      <td id=\"T_ad27e_row6_col3\" class=\"data row6 col3\" >0.6250</td>\n",
              "      <td id=\"T_ad27e_row6_col4\" class=\"data row6 col4\" >0.8367</td>\n",
              "      <td id=\"T_ad27e_row6_col5\" class=\"data row6 col5\" >0.6640</td>\n",
              "      <td id=\"T_ad27e_row6_col6\" class=\"data row6 col6\" >0.6466</td>\n",
              "      <td id=\"T_ad27e_row6_col7\" class=\"data row6 col7\" >0.6792</td>\n",
              "      <td id=\"T_ad27e_row6_col8\" class=\"data row6 col8\" >1.4780</td>\n",
              "    </tr>\n",
              "    <tr>\n",
              "      <th id=\"T_ad27e_level0_row7\" class=\"row_heading level0 row7\" >lda</th>\n",
              "      <td id=\"T_ad27e_row7_col0\" class=\"data row7 col0\" >Linear Discriminant Analysis</td>\n",
              "      <td id=\"T_ad27e_row7_col1\" class=\"data row7 col1\" >0.9611</td>\n",
              "      <td id=\"T_ad27e_row7_col2\" class=\"data row7 col2\" >0.9667</td>\n",
              "      <td id=\"T_ad27e_row7_col3\" class=\"data row7 col3\" >0.8833</td>\n",
              "      <td id=\"T_ad27e_row7_col4\" class=\"data row7 col4\" >0.6838</td>\n",
              "      <td id=\"T_ad27e_row7_col5\" class=\"data row7 col5\" >0.7489</td>\n",
              "      <td id=\"T_ad27e_row7_col6\" class=\"data row7 col6\" >0.7292</td>\n",
              "      <td id=\"T_ad27e_row7_col7\" class=\"data row7 col7\" >0.7486</td>\n",
              "      <td id=\"T_ad27e_row7_col8\" class=\"data row7 col8\" >1.0070</td>\n",
              "    </tr>\n",
              "    <tr>\n",
              "      <th id=\"T_ad27e_level0_row8\" class=\"row_heading level0 row8\" >lr</th>\n",
              "      <td id=\"T_ad27e_row8_col0\" class=\"data row8 col0\" >Logistic Regression</td>\n",
              "      <td id=\"T_ad27e_row8_col1\" class=\"data row8 col1\" >0.9574</td>\n",
              "      <td id=\"T_ad27e_row8_col2\" class=\"data row8 col2\" >0.9692</td>\n",
              "      <td id=\"T_ad27e_row8_col3\" class=\"data row8 col3\" >0.8250</td>\n",
              "      <td id=\"T_ad27e_row8_col4\" class=\"data row8 col4\" >0.6350</td>\n",
              "      <td id=\"T_ad27e_row8_col5\" class=\"data row8 col5\" >0.7090</td>\n",
              "      <td id=\"T_ad27e_row8_col6\" class=\"data row8 col6\" >0.6867</td>\n",
              "      <td id=\"T_ad27e_row8_col7\" class=\"data row8 col7\" >0.6986</td>\n",
              "      <td id=\"T_ad27e_row8_col8\" class=\"data row8 col8\" >2.3690</td>\n",
              "    </tr>\n",
              "    <tr>\n",
              "      <th id=\"T_ad27e_level0_row9\" class=\"row_heading level0 row9\" >ada</th>\n",
              "      <td id=\"T_ad27e_row9_col0\" class=\"data row9 col0\" >Ada Boost Classifier</td>\n",
              "      <td id=\"T_ad27e_row9_col1\" class=\"data row9 col1\" >0.9574</td>\n",
              "      <td id=\"T_ad27e_row9_col2\" class=\"data row9 col2\" >0.8241</td>\n",
              "      <td id=\"T_ad27e_row9_col3\" class=\"data row9 col3\" >0.5583</td>\n",
              "      <td id=\"T_ad27e_row9_col4\" class=\"data row9 col4\" >0.6750</td>\n",
              "      <td id=\"T_ad27e_row9_col5\" class=\"data row9 col5\" >0.5819</td>\n",
              "      <td id=\"T_ad27e_row9_col6\" class=\"data row9 col6\" >0.5632</td>\n",
              "      <td id=\"T_ad27e_row9_col7\" class=\"data row9 col7\" >0.5811</td>\n",
              "      <td id=\"T_ad27e_row9_col8\" class=\"data row9 col8\" >1.3350</td>\n",
              "    </tr>\n",
              "    <tr>\n",
              "      <th id=\"T_ad27e_level0_row10\" class=\"row_heading level0 row10\" >dt</th>\n",
              "      <td id=\"T_ad27e_row10_col0\" class=\"data row10 col0\" >Decision Tree Classifier</td>\n",
              "      <td id=\"T_ad27e_row10_col1\" class=\"data row10 col1\" >0.9556</td>\n",
              "      <td id=\"T_ad27e_row10_col2\" class=\"data row10 col2\" >0.8173</td>\n",
              "      <td id=\"T_ad27e_row10_col3\" class=\"data row10 col3\" >0.6583</td>\n",
              "      <td id=\"T_ad27e_row10_col4\" class=\"data row10 col4\" >0.6867</td>\n",
              "      <td id=\"T_ad27e_row10_col5\" class=\"data row10 col5\" >0.6255</td>\n",
              "      <td id=\"T_ad27e_row10_col6\" class=\"data row10 col6\" >0.6046</td>\n",
              "      <td id=\"T_ad27e_row10_col7\" class=\"data row10 col7\" >0.6280</td>\n",
              "      <td id=\"T_ad27e_row10_col8\" class=\"data row10 col8\" >0.8310</td>\n",
              "    </tr>\n",
              "    <tr>\n",
              "      <th id=\"T_ad27e_level0_row11\" class=\"row_heading level0 row11\" >svm</th>\n",
              "      <td id=\"T_ad27e_row11_col0\" class=\"data row11 col0\" >SVM - Linear Kernel</td>\n",
              "      <td id=\"T_ad27e_row11_col1\" class=\"data row11 col1\" >0.9463</td>\n",
              "      <td id=\"T_ad27e_row11_col2\" class=\"data row11 col2\" >0.0000</td>\n",
              "      <td id=\"T_ad27e_row11_col3\" class=\"data row11 col3\" >0.7250</td>\n",
              "      <td id=\"T_ad27e_row11_col4\" class=\"data row11 col4\" >0.5899</td>\n",
              "      <td id=\"T_ad27e_row11_col5\" class=\"data row11 col5\" >0.6324</td>\n",
              "      <td id=\"T_ad27e_row11_col6\" class=\"data row11 col6\" >0.6050</td>\n",
              "      <td id=\"T_ad27e_row11_col7\" class=\"data row11 col7\" >0.6189</td>\n",
              "      <td id=\"T_ad27e_row11_col8\" class=\"data row11 col8\" >0.7580</td>\n",
              "    </tr>\n",
              "    <tr>\n",
              "      <th id=\"T_ad27e_level0_row12\" class=\"row_heading level0 row12\" >dummy</th>\n",
              "      <td id=\"T_ad27e_row12_col0\" class=\"data row12 col0\" >Dummy Classifier</td>\n",
              "      <td id=\"T_ad27e_row12_col1\" class=\"data row12 col1\" >0.9352</td>\n",
              "      <td id=\"T_ad27e_row12_col2\" class=\"data row12 col2\" >0.5000</td>\n",
              "      <td id=\"T_ad27e_row12_col3\" class=\"data row12 col3\" >0.0000</td>\n",
              "      <td id=\"T_ad27e_row12_col4\" class=\"data row12 col4\" >0.0000</td>\n",
              "      <td id=\"T_ad27e_row12_col5\" class=\"data row12 col5\" >0.0000</td>\n",
              "      <td id=\"T_ad27e_row12_col6\" class=\"data row12 col6\" >0.0000</td>\n",
              "      <td id=\"T_ad27e_row12_col7\" class=\"data row12 col7\" >0.0000</td>\n",
              "      <td id=\"T_ad27e_row12_col8\" class=\"data row12 col8\" >0.8370</td>\n",
              "    </tr>\n",
              "    <tr>\n",
              "      <th id=\"T_ad27e_level0_row13\" class=\"row_heading level0 row13\" >qda</th>\n",
              "      <td id=\"T_ad27e_row13_col0\" class=\"data row13 col0\" >Quadratic Discriminant Analysis</td>\n",
              "      <td id=\"T_ad27e_row13_col1\" class=\"data row13 col1\" >0.9315</td>\n",
              "      <td id=\"T_ad27e_row13_col2\" class=\"data row13 col2\" >0.4980</td>\n",
              "      <td id=\"T_ad27e_row13_col3\" class=\"data row13 col3\" >0.0000</td>\n",
              "      <td id=\"T_ad27e_row13_col4\" class=\"data row13 col4\" >0.0000</td>\n",
              "      <td id=\"T_ad27e_row13_col5\" class=\"data row13 col5\" >0.0000</td>\n",
              "      <td id=\"T_ad27e_row13_col6\" class=\"data row13 col6\" >-0.0057</td>\n",
              "      <td id=\"T_ad27e_row13_col7\" class=\"data row13 col7\" >-0.0067</td>\n",
              "      <td id=\"T_ad27e_row13_col8\" class=\"data row13 col8\" >0.7340</td>\n",
              "    </tr>\n",
              "    <tr>\n",
              "      <th id=\"T_ad27e_level0_row14\" class=\"row_heading level0 row14\" >knn</th>\n",
              "      <td id=\"T_ad27e_row14_col0\" class=\"data row14 col0\" >K Neighbors Classifier</td>\n",
              "      <td id=\"T_ad27e_row14_col1\" class=\"data row14 col1\" >0.8426</td>\n",
              "      <td id=\"T_ad27e_row14_col2\" class=\"data row14 col2\" >0.8063</td>\n",
              "      <td id=\"T_ad27e_row14_col3\" class=\"data row14 col3\" >0.5750</td>\n",
              "      <td id=\"T_ad27e_row14_col4\" class=\"data row14 col4\" >0.2253</td>\n",
              "      <td id=\"T_ad27e_row14_col5\" class=\"data row14 col5\" >0.3187</td>\n",
              "      <td id=\"T_ad27e_row14_col6\" class=\"data row14 col6\" >0.2504</td>\n",
              "      <td id=\"T_ad27e_row14_col7\" class=\"data row14 col7\" >0.2879</td>\n",
              "      <td id=\"T_ad27e_row14_col8\" class=\"data row14 col8\" >0.9940</td>\n",
              "    </tr>\n",
              "    <tr>\n",
              "      <th id=\"T_ad27e_level0_row15\" class=\"row_heading level0 row15\" >nb</th>\n",
              "      <td id=\"T_ad27e_row15_col0\" class=\"data row15 col0\" >Naive Bayes</td>\n",
              "      <td id=\"T_ad27e_row15_col1\" class=\"data row15 col1\" >0.4167</td>\n",
              "      <td id=\"T_ad27e_row15_col2\" class=\"data row15 col2\" >0.5091</td>\n",
              "      <td id=\"T_ad27e_row15_col3\" class=\"data row15 col3\" >0.6167</td>\n",
              "      <td id=\"T_ad27e_row15_col4\" class=\"data row15 col4\" >0.0679</td>\n",
              "      <td id=\"T_ad27e_row15_col5\" class=\"data row15 col5\" >0.1222</td>\n",
              "      <td id=\"T_ad27e_row15_col6\" class=\"data row15 col6\" >0.0061</td>\n",
              "      <td id=\"T_ad27e_row15_col7\" class=\"data row15 col7\" >0.0096</td>\n",
              "      <td id=\"T_ad27e_row15_col8\" class=\"data row15 col8\" >0.9600</td>\n",
              "    </tr>\n",
              "  </tbody>\n",
              "</table>\n"
            ]
          },
          "metadata": {}
        },
        {
          "output_type": "display_data",
          "data": {
            "text/plain": [
              "Processing:   0%|          | 0/69 [00:00<?, ?it/s]"
            ],
            "application/vnd.jupyter.widget-view+json": {
              "version_major": 2,
              "version_minor": 0,
              "model_id": "56c9d18d3c8d492db34cb2981f1a49ed"
            }
          },
          "metadata": {
            "application/vnd.jupyter.widget-view+json": {
              "colab": {
                "custom_widget_manager": {
                  "url": "https://ssl.gstatic.com/colaboratory-static/widgets/colab-cdn-widget-manager/b3e629b1971e1542/manager.min.js"
                }
              }
            }
          }
        },
        {
          "output_type": "display_data",
          "data": {
            "text/plain": [
              "<IPython.core.display.HTML object>"
            ],
            "text/html": []
          },
          "metadata": {}
        }
      ]
    },
    {
      "cell_type": "markdown",
      "source": [
        "## Construindo o Modelo\n",
        "\n",
        "Agora vamos prosseguir com a criação do modelo e simultaneamente realizar uma validação cruzada com o mesmo."
      ],
      "metadata": {
        "id": "jWv_S-UyZep6"
      }
    },
    {
      "cell_type": "code",
      "source": [
        "catboost=create_model('catboost')\n"
      ],
      "metadata": {
        "colab": {
          "base_uri": "https://localhost:8080/",
          "height": 457,
          "referenced_widgets": [
            "b2374359fed3403688ae042964751f79",
            "eeda762865444983a90c7393a38a8137",
            "6386bf7d59194f9089030b296268ef6e",
            "1236f26126cf45fb8e4b7d74023f192b",
            "9c7b783795984fe5891c7c912e13bee7",
            "5ddae0f4ffef494884f576cdb06a6701",
            "e21783ff62994331ac82f348463ff3e7",
            "89a2299e704b45b9a5f54254ce4628c4",
            "aa156e42d58b4bab9c3aa7ddec88a8ee",
            "f301db3a880447f298366ab9e6e64e81",
            "808c3c2f45f14ab6ad053d008f40cf58"
          ]
        },
        "id": "wvPwbFXybdD-",
        "outputId": "aae44388-a12b-4e47-9fa2-035dfed92349"
      },
      "execution_count": 27,
      "outputs": [
        {
          "output_type": "display_data",
          "data": {
            "text/plain": [
              "<IPython.core.display.HTML object>"
            ],
            "text/html": []
          },
          "metadata": {}
        },
        {
          "output_type": "display_data",
          "data": {
            "text/plain": [
              "<pandas.io.formats.style.Styler at 0x7c1f4787cdc0>"
            ],
            "text/html": [
              "<style type=\"text/css\">\n",
              "#T_d0a6a_row10_col0, #T_d0a6a_row10_col1, #T_d0a6a_row10_col2, #T_d0a6a_row10_col3, #T_d0a6a_row10_col4, #T_d0a6a_row10_col5, #T_d0a6a_row10_col6 {\n",
              "  background: yellow;\n",
              "}\n",
              "</style>\n",
              "<table id=\"T_d0a6a\" class=\"dataframe\">\n",
              "  <thead>\n",
              "    <tr>\n",
              "      <th class=\"blank level0\" >&nbsp;</th>\n",
              "      <th id=\"T_d0a6a_level0_col0\" class=\"col_heading level0 col0\" >Accuracy</th>\n",
              "      <th id=\"T_d0a6a_level0_col1\" class=\"col_heading level0 col1\" >AUC</th>\n",
              "      <th id=\"T_d0a6a_level0_col2\" class=\"col_heading level0 col2\" >Recall</th>\n",
              "      <th id=\"T_d0a6a_level0_col3\" class=\"col_heading level0 col3\" >Prec.</th>\n",
              "      <th id=\"T_d0a6a_level0_col4\" class=\"col_heading level0 col4\" >F1</th>\n",
              "      <th id=\"T_d0a6a_level0_col5\" class=\"col_heading level0 col5\" >Kappa</th>\n",
              "      <th id=\"T_d0a6a_level0_col6\" class=\"col_heading level0 col6\" >MCC</th>\n",
              "    </tr>\n",
              "    <tr>\n",
              "      <th class=\"index_name level0\" >Fold</th>\n",
              "      <th class=\"blank col0\" >&nbsp;</th>\n",
              "      <th class=\"blank col1\" >&nbsp;</th>\n",
              "      <th class=\"blank col2\" >&nbsp;</th>\n",
              "      <th class=\"blank col3\" >&nbsp;</th>\n",
              "      <th class=\"blank col4\" >&nbsp;</th>\n",
              "      <th class=\"blank col5\" >&nbsp;</th>\n",
              "      <th class=\"blank col6\" >&nbsp;</th>\n",
              "    </tr>\n",
              "  </thead>\n",
              "  <tbody>\n",
              "    <tr>\n",
              "      <th id=\"T_d0a6a_level0_row0\" class=\"row_heading level0 row0\" >0</th>\n",
              "      <td id=\"T_d0a6a_row0_col0\" class=\"data row0 col0\" >0.9630</td>\n",
              "      <td id=\"T_d0a6a_row0_col1\" class=\"data row0 col1\" >1.0000</td>\n",
              "      <td id=\"T_d0a6a_row0_col2\" class=\"data row0 col2\" >0.3333</td>\n",
              "      <td id=\"T_d0a6a_row0_col3\" class=\"data row0 col3\" >1.0000</td>\n",
              "      <td id=\"T_d0a6a_row0_col4\" class=\"data row0 col4\" >0.5000</td>\n",
              "      <td id=\"T_d0a6a_row0_col5\" class=\"data row0 col5\" >0.4857</td>\n",
              "      <td id=\"T_d0a6a_row0_col6\" class=\"data row0 col6\" >0.5664</td>\n",
              "    </tr>\n",
              "    <tr>\n",
              "      <th id=\"T_d0a6a_level0_row1\" class=\"row_heading level0 row1\" >1</th>\n",
              "      <td id=\"T_d0a6a_row1_col0\" class=\"data row1 col0\" >0.9444</td>\n",
              "      <td id=\"T_d0a6a_row1_col1\" class=\"data row1 col1\" >0.9804</td>\n",
              "      <td id=\"T_d0a6a_row1_col2\" class=\"data row1 col2\" >0.3333</td>\n",
              "      <td id=\"T_d0a6a_row1_col3\" class=\"data row1 col3\" >0.5000</td>\n",
              "      <td id=\"T_d0a6a_row1_col4\" class=\"data row1 col4\" >0.4000</td>\n",
              "      <td id=\"T_d0a6a_row1_col5\" class=\"data row1 col5\" >0.3721</td>\n",
              "      <td id=\"T_d0a6a_row1_col6\" class=\"data row1 col6\" >0.3805</td>\n",
              "    </tr>\n",
              "    <tr>\n",
              "      <th id=\"T_d0a6a_level0_row2\" class=\"row_heading level0 row2\" >2</th>\n",
              "      <td id=\"T_d0a6a_row2_col0\" class=\"data row2 col0\" >1.0000</td>\n",
              "      <td id=\"T_d0a6a_row2_col1\" class=\"data row2 col1\" >1.0000</td>\n",
              "      <td id=\"T_d0a6a_row2_col2\" class=\"data row2 col2\" >1.0000</td>\n",
              "      <td id=\"T_d0a6a_row2_col3\" class=\"data row2 col3\" >1.0000</td>\n",
              "      <td id=\"T_d0a6a_row2_col4\" class=\"data row2 col4\" >1.0000</td>\n",
              "      <td id=\"T_d0a6a_row2_col5\" class=\"data row2 col5\" >1.0000</td>\n",
              "      <td id=\"T_d0a6a_row2_col6\" class=\"data row2 col6\" >1.0000</td>\n",
              "    </tr>\n",
              "    <tr>\n",
              "      <th id=\"T_d0a6a_level0_row3\" class=\"row_heading level0 row3\" >3</th>\n",
              "      <td id=\"T_d0a6a_row3_col0\" class=\"data row3 col0\" >0.9815</td>\n",
              "      <td id=\"T_d0a6a_row3_col1\" class=\"data row3 col1\" >0.9869</td>\n",
              "      <td id=\"T_d0a6a_row3_col2\" class=\"data row3 col2\" >1.0000</td>\n",
              "      <td id=\"T_d0a6a_row3_col3\" class=\"data row3 col3\" >0.7500</td>\n",
              "      <td id=\"T_d0a6a_row3_col4\" class=\"data row3 col4\" >0.8571</td>\n",
              "      <td id=\"T_d0a6a_row3_col5\" class=\"data row3 col5\" >0.8475</td>\n",
              "      <td id=\"T_d0a6a_row3_col6\" class=\"data row3 col6\" >0.8575</td>\n",
              "    </tr>\n",
              "    <tr>\n",
              "      <th id=\"T_d0a6a_level0_row4\" class=\"row_heading level0 row4\" >4</th>\n",
              "      <td id=\"T_d0a6a_row4_col0\" class=\"data row4 col0\" >0.9630</td>\n",
              "      <td id=\"T_d0a6a_row4_col1\" class=\"data row4 col1\" >0.9935</td>\n",
              "      <td id=\"T_d0a6a_row4_col2\" class=\"data row4 col2\" >1.0000</td>\n",
              "      <td id=\"T_d0a6a_row4_col3\" class=\"data row4 col3\" >0.6000</td>\n",
              "      <td id=\"T_d0a6a_row4_col4\" class=\"data row4 col4\" >0.7500</td>\n",
              "      <td id=\"T_d0a6a_row4_col5\" class=\"data row4 col5\" >0.7313</td>\n",
              "      <td id=\"T_d0a6a_row4_col6\" class=\"data row4 col6\" >0.7593</td>\n",
              "    </tr>\n",
              "    <tr>\n",
              "      <th id=\"T_d0a6a_level0_row5\" class=\"row_heading level0 row5\" >5</th>\n",
              "      <td id=\"T_d0a6a_row5_col0\" class=\"data row5 col0\" >0.9630</td>\n",
              "      <td id=\"T_d0a6a_row5_col1\" class=\"data row5 col1\" >0.9950</td>\n",
              "      <td id=\"T_d0a6a_row5_col2\" class=\"data row5 col2\" >0.5000</td>\n",
              "      <td id=\"T_d0a6a_row5_col3\" class=\"data row5 col3\" >1.0000</td>\n",
              "      <td id=\"T_d0a6a_row5_col4\" class=\"data row5 col4\" >0.6667</td>\n",
              "      <td id=\"T_d0a6a_row5_col5\" class=\"data row5 col5\" >0.6494</td>\n",
              "      <td id=\"T_d0a6a_row5_col6\" class=\"data row5 col6\" >0.6934</td>\n",
              "    </tr>\n",
              "    <tr>\n",
              "      <th id=\"T_d0a6a_level0_row6\" class=\"row_heading level0 row6\" >6</th>\n",
              "      <td id=\"T_d0a6a_row6_col0\" class=\"data row6 col0\" >0.9630</td>\n",
              "      <td id=\"T_d0a6a_row6_col1\" class=\"data row6 col1\" >0.9950</td>\n",
              "      <td id=\"T_d0a6a_row6_col2\" class=\"data row6 col2\" >1.0000</td>\n",
              "      <td id=\"T_d0a6a_row6_col3\" class=\"data row6 col3\" >0.6667</td>\n",
              "      <td id=\"T_d0a6a_row6_col4\" class=\"data row6 col4\" >0.8000</td>\n",
              "      <td id=\"T_d0a6a_row6_col5\" class=\"data row6 col5\" >0.7805</td>\n",
              "      <td id=\"T_d0a6a_row6_col6\" class=\"data row6 col6\" >0.8000</td>\n",
              "    </tr>\n",
              "    <tr>\n",
              "      <th id=\"T_d0a6a_level0_row7\" class=\"row_heading level0 row7\" >7</th>\n",
              "      <td id=\"T_d0a6a_row7_col0\" class=\"data row7 col0\" >0.9444</td>\n",
              "      <td id=\"T_d0a6a_row7_col1\" class=\"data row7 col1\" >0.7950</td>\n",
              "      <td id=\"T_d0a6a_row7_col2\" class=\"data row7 col2\" >0.5000</td>\n",
              "      <td id=\"T_d0a6a_row7_col3\" class=\"data row7 col3\" >0.6667</td>\n",
              "      <td id=\"T_d0a6a_row7_col4\" class=\"data row7 col4\" >0.5714</td>\n",
              "      <td id=\"T_d0a6a_row7_col5\" class=\"data row7 col5\" >0.5424</td>\n",
              "      <td id=\"T_d0a6a_row7_col6\" class=\"data row7 col6\" >0.5488</td>\n",
              "    </tr>\n",
              "    <tr>\n",
              "      <th id=\"T_d0a6a_level0_row8\" class=\"row_heading level0 row8\" >8</th>\n",
              "      <td id=\"T_d0a6a_row8_col0\" class=\"data row8 col0\" >1.0000</td>\n",
              "      <td id=\"T_d0a6a_row8_col1\" class=\"data row8 col1\" >1.0000</td>\n",
              "      <td id=\"T_d0a6a_row8_col2\" class=\"data row8 col2\" >1.0000</td>\n",
              "      <td id=\"T_d0a6a_row8_col3\" class=\"data row8 col3\" >1.0000</td>\n",
              "      <td id=\"T_d0a6a_row8_col4\" class=\"data row8 col4\" >1.0000</td>\n",
              "      <td id=\"T_d0a6a_row8_col5\" class=\"data row8 col5\" >1.0000</td>\n",
              "      <td id=\"T_d0a6a_row8_col6\" class=\"data row8 col6\" >1.0000</td>\n",
              "    </tr>\n",
              "    <tr>\n",
              "      <th id=\"T_d0a6a_level0_row9\" class=\"row_heading level0 row9\" >9</th>\n",
              "      <td id=\"T_d0a6a_row9_col0\" class=\"data row9 col0\" >1.0000</td>\n",
              "      <td id=\"T_d0a6a_row9_col1\" class=\"data row9 col1\" >1.0000</td>\n",
              "      <td id=\"T_d0a6a_row9_col2\" class=\"data row9 col2\" >1.0000</td>\n",
              "      <td id=\"T_d0a6a_row9_col3\" class=\"data row9 col3\" >1.0000</td>\n",
              "      <td id=\"T_d0a6a_row9_col4\" class=\"data row9 col4\" >1.0000</td>\n",
              "      <td id=\"T_d0a6a_row9_col5\" class=\"data row9 col5\" >1.0000</td>\n",
              "      <td id=\"T_d0a6a_row9_col6\" class=\"data row9 col6\" >1.0000</td>\n",
              "    </tr>\n",
              "    <tr>\n",
              "      <th id=\"T_d0a6a_level0_row10\" class=\"row_heading level0 row10\" >Mean</th>\n",
              "      <td id=\"T_d0a6a_row10_col0\" class=\"data row10 col0\" >0.9722</td>\n",
              "      <td id=\"T_d0a6a_row10_col1\" class=\"data row10 col1\" >0.9746</td>\n",
              "      <td id=\"T_d0a6a_row10_col2\" class=\"data row10 col2\" >0.7667</td>\n",
              "      <td id=\"T_d0a6a_row10_col3\" class=\"data row10 col3\" >0.8183</td>\n",
              "      <td id=\"T_d0a6a_row10_col4\" class=\"data row10 col4\" >0.7545</td>\n",
              "      <td id=\"T_d0a6a_row10_col5\" class=\"data row10 col5\" >0.7409</td>\n",
              "      <td id=\"T_d0a6a_row10_col6\" class=\"data row10 col6\" >0.7606</td>\n",
              "    </tr>\n",
              "    <tr>\n",
              "      <th id=\"T_d0a6a_level0_row11\" class=\"row_heading level0 row11\" >Std</th>\n",
              "      <td id=\"T_d0a6a_row11_col0\" class=\"data row11 col0\" >0.0207</td>\n",
              "      <td id=\"T_d0a6a_row11_col1\" class=\"data row11 col1\" >0.0602</td>\n",
              "      <td id=\"T_d0a6a_row11_col2\" class=\"data row11 col2\" >0.2906</td>\n",
              "      <td id=\"T_d0a6a_row11_col3\" class=\"data row11 col3\" >0.1910</td>\n",
              "      <td id=\"T_d0a6a_row11_col4\" class=\"data row11 col4\" >0.2062</td>\n",
              "      <td id=\"T_d0a6a_row11_col5\" class=\"data row11 col5\" >0.2153</td>\n",
              "      <td id=\"T_d0a6a_row11_col6\" class=\"data row11 col6\" >0.2036</td>\n",
              "    </tr>\n",
              "  </tbody>\n",
              "</table>\n"
            ]
          },
          "metadata": {}
        },
        {
          "output_type": "display_data",
          "data": {
            "text/plain": [
              "Processing:   0%|          | 0/4 [00:00<?, ?it/s]"
            ],
            "application/vnd.jupyter.widget-view+json": {
              "version_major": 2,
              "version_minor": 0,
              "model_id": "b2374359fed3403688ae042964751f79"
            }
          },
          "metadata": {
            "application/vnd.jupyter.widget-view+json": {
              "colab": {
                "custom_widget_manager": {
                  "url": "https://ssl.gstatic.com/colaboratory-static/widgets/colab-cdn-widget-manager/b3e629b1971e1542/manager.min.js"
                }
              }
            }
          }
        },
        {
          "output_type": "display_data",
          "data": {
            "text/plain": [
              "<IPython.core.display.HTML object>"
            ],
            "text/html": []
          },
          "metadata": {}
        }
      ]
    },
    {
      "cell_type": "markdown",
      "source": [
        "## Otimização de Hiperparâmetros\n",
        "\n",
        "É hora de realizar a otimização dos hiperparâmetros do modelo e avaliar se ajustar esses parâmetros pode melhorar seu desempenho.\n",
        "\n",
        "É importante notar que, após a otimização, observamos uma ligeira diminuição no AUC. No entanto, todas as métricas de avaliação apresentaram melhorias significativas. Isso indica que, embora o AUC tenha diminuído um pouco, o modelo agora é mais equilibrado e preciso em geral."
      ],
      "metadata": {
        "id": "s357xSDRZtVQ"
      }
    },
    {
      "cell_type": "code",
      "source": [
        "tune_cat = tune_model(catboost)\n"
      ],
      "metadata": {
        "colab": {
          "base_uri": "https://localhost:8080/",
          "height": 474,
          "referenced_widgets": [
            "688cd25ae08d4ceeb4c0dd68c7251a36",
            "59466f5c23ec4b43897ecf951f1494f2",
            "197a2d2e590d4449aa947be249891980",
            "864714978d734277a77fb24a28ddc412",
            "bf984f22bee14923a4669337808071f3",
            "dc9efd7e659e4bfaab65bfa124da7de2",
            "af40ca2737a046dfb3d7bb1fd59a9d2d",
            "bfc006fd26cc46d2bc32ef4c8bce2c0c",
            "297d6c73101545798eb78209df552e94",
            "6520bc7fd30a4128af7066e2608f2b5f",
            "389e54892d91474da45c882e3cba8298"
          ]
        },
        "id": "xI6hShvOZx45",
        "outputId": "c471cee2-f6fc-46fe-e424-cc71b77dc4d2"
      },
      "execution_count": 28,
      "outputs": [
        {
          "output_type": "display_data",
          "data": {
            "text/plain": [
              "<IPython.core.display.HTML object>"
            ],
            "text/html": []
          },
          "metadata": {}
        },
        {
          "output_type": "display_data",
          "data": {
            "text/plain": [
              "<pandas.io.formats.style.Styler at 0x7c1f4787cd60>"
            ],
            "text/html": [
              "<style type=\"text/css\">\n",
              "#T_c0cb7_row10_col0, #T_c0cb7_row10_col1, #T_c0cb7_row10_col2, #T_c0cb7_row10_col3, #T_c0cb7_row10_col4, #T_c0cb7_row10_col5, #T_c0cb7_row10_col6 {\n",
              "  background: yellow;\n",
              "}\n",
              "</style>\n",
              "<table id=\"T_c0cb7\" class=\"dataframe\">\n",
              "  <thead>\n",
              "    <tr>\n",
              "      <th class=\"blank level0\" >&nbsp;</th>\n",
              "      <th id=\"T_c0cb7_level0_col0\" class=\"col_heading level0 col0\" >Accuracy</th>\n",
              "      <th id=\"T_c0cb7_level0_col1\" class=\"col_heading level0 col1\" >AUC</th>\n",
              "      <th id=\"T_c0cb7_level0_col2\" class=\"col_heading level0 col2\" >Recall</th>\n",
              "      <th id=\"T_c0cb7_level0_col3\" class=\"col_heading level0 col3\" >Prec.</th>\n",
              "      <th id=\"T_c0cb7_level0_col4\" class=\"col_heading level0 col4\" >F1</th>\n",
              "      <th id=\"T_c0cb7_level0_col5\" class=\"col_heading level0 col5\" >Kappa</th>\n",
              "      <th id=\"T_c0cb7_level0_col6\" class=\"col_heading level0 col6\" >MCC</th>\n",
              "    </tr>\n",
              "    <tr>\n",
              "      <th class=\"index_name level0\" >Fold</th>\n",
              "      <th class=\"blank col0\" >&nbsp;</th>\n",
              "      <th class=\"blank col1\" >&nbsp;</th>\n",
              "      <th class=\"blank col2\" >&nbsp;</th>\n",
              "      <th class=\"blank col3\" >&nbsp;</th>\n",
              "      <th class=\"blank col4\" >&nbsp;</th>\n",
              "      <th class=\"blank col5\" >&nbsp;</th>\n",
              "      <th class=\"blank col6\" >&nbsp;</th>\n",
              "    </tr>\n",
              "  </thead>\n",
              "  <tbody>\n",
              "    <tr>\n",
              "      <th id=\"T_c0cb7_level0_row0\" class=\"row_heading level0 row0\" >0</th>\n",
              "      <td id=\"T_c0cb7_row0_col0\" class=\"data row0 col0\" >0.9815</td>\n",
              "      <td id=\"T_c0cb7_row0_col1\" class=\"data row0 col1\" >0.9542</td>\n",
              "      <td id=\"T_c0cb7_row0_col2\" class=\"data row0 col2\" >0.6667</td>\n",
              "      <td id=\"T_c0cb7_row0_col3\" class=\"data row0 col3\" >1.0000</td>\n",
              "      <td id=\"T_c0cb7_row0_col4\" class=\"data row0 col4\" >0.8000</td>\n",
              "      <td id=\"T_c0cb7_row0_col5\" class=\"data row0 col5\" >0.7907</td>\n",
              "      <td id=\"T_c0cb7_row0_col6\" class=\"data row0 col6\" >0.8086</td>\n",
              "    </tr>\n",
              "    <tr>\n",
              "      <th id=\"T_c0cb7_level0_row1\" class=\"row_heading level0 row1\" >1</th>\n",
              "      <td id=\"T_c0cb7_row1_col0\" class=\"data row1 col0\" >0.9444</td>\n",
              "      <td id=\"T_c0cb7_row1_col1\" class=\"data row1 col1\" >0.7582</td>\n",
              "      <td id=\"T_c0cb7_row1_col2\" class=\"data row1 col2\" >0.3333</td>\n",
              "      <td id=\"T_c0cb7_row1_col3\" class=\"data row1 col3\" >0.5000</td>\n",
              "      <td id=\"T_c0cb7_row1_col4\" class=\"data row1 col4\" >0.4000</td>\n",
              "      <td id=\"T_c0cb7_row1_col5\" class=\"data row1 col5\" >0.3721</td>\n",
              "      <td id=\"T_c0cb7_row1_col6\" class=\"data row1 col6\" >0.3805</td>\n",
              "    </tr>\n",
              "    <tr>\n",
              "      <th id=\"T_c0cb7_level0_row2\" class=\"row_heading level0 row2\" >2</th>\n",
              "      <td id=\"T_c0cb7_row2_col0\" class=\"data row2 col0\" >1.0000</td>\n",
              "      <td id=\"T_c0cb7_row2_col1\" class=\"data row2 col1\" >1.0000</td>\n",
              "      <td id=\"T_c0cb7_row2_col2\" class=\"data row2 col2\" >1.0000</td>\n",
              "      <td id=\"T_c0cb7_row2_col3\" class=\"data row2 col3\" >1.0000</td>\n",
              "      <td id=\"T_c0cb7_row2_col4\" class=\"data row2 col4\" >1.0000</td>\n",
              "      <td id=\"T_c0cb7_row2_col5\" class=\"data row2 col5\" >1.0000</td>\n",
              "      <td id=\"T_c0cb7_row2_col6\" class=\"data row2 col6\" >1.0000</td>\n",
              "    </tr>\n",
              "    <tr>\n",
              "      <th id=\"T_c0cb7_level0_row3\" class=\"row_heading level0 row3\" >3</th>\n",
              "      <td id=\"T_c0cb7_row3_col0\" class=\"data row3 col0\" >0.9815</td>\n",
              "      <td id=\"T_c0cb7_row3_col1\" class=\"data row3 col1\" >0.9935</td>\n",
              "      <td id=\"T_c0cb7_row3_col2\" class=\"data row3 col2\" >1.0000</td>\n",
              "      <td id=\"T_c0cb7_row3_col3\" class=\"data row3 col3\" >0.7500</td>\n",
              "      <td id=\"T_c0cb7_row3_col4\" class=\"data row3 col4\" >0.8571</td>\n",
              "      <td id=\"T_c0cb7_row3_col5\" class=\"data row3 col5\" >0.8475</td>\n",
              "      <td id=\"T_c0cb7_row3_col6\" class=\"data row3 col6\" >0.8575</td>\n",
              "    </tr>\n",
              "    <tr>\n",
              "      <th id=\"T_c0cb7_level0_row4\" class=\"row_heading level0 row4\" >4</th>\n",
              "      <td id=\"T_c0cb7_row4_col0\" class=\"data row4 col0\" >0.9630</td>\n",
              "      <td id=\"T_c0cb7_row4_col1\" class=\"data row4 col1\" >0.9967</td>\n",
              "      <td id=\"T_c0cb7_row4_col2\" class=\"data row4 col2\" >1.0000</td>\n",
              "      <td id=\"T_c0cb7_row4_col3\" class=\"data row4 col3\" >0.6000</td>\n",
              "      <td id=\"T_c0cb7_row4_col4\" class=\"data row4 col4\" >0.7500</td>\n",
              "      <td id=\"T_c0cb7_row4_col5\" class=\"data row4 col5\" >0.7313</td>\n",
              "      <td id=\"T_c0cb7_row4_col6\" class=\"data row4 col6\" >0.7593</td>\n",
              "    </tr>\n",
              "    <tr>\n",
              "      <th id=\"T_c0cb7_level0_row5\" class=\"row_heading level0 row5\" >5</th>\n",
              "      <td id=\"T_c0cb7_row5_col0\" class=\"data row5 col0\" >1.0000</td>\n",
              "      <td id=\"T_c0cb7_row5_col1\" class=\"data row5 col1\" >1.0000</td>\n",
              "      <td id=\"T_c0cb7_row5_col2\" class=\"data row5 col2\" >1.0000</td>\n",
              "      <td id=\"T_c0cb7_row5_col3\" class=\"data row5 col3\" >1.0000</td>\n",
              "      <td id=\"T_c0cb7_row5_col4\" class=\"data row5 col4\" >1.0000</td>\n",
              "      <td id=\"T_c0cb7_row5_col5\" class=\"data row5 col5\" >1.0000</td>\n",
              "      <td id=\"T_c0cb7_row5_col6\" class=\"data row5 col6\" >1.0000</td>\n",
              "    </tr>\n",
              "    <tr>\n",
              "      <th id=\"T_c0cb7_level0_row6\" class=\"row_heading level0 row6\" >6</th>\n",
              "      <td id=\"T_c0cb7_row6_col0\" class=\"data row6 col0\" >0.9630</td>\n",
              "      <td id=\"T_c0cb7_row6_col1\" class=\"data row6 col1\" >0.9950</td>\n",
              "      <td id=\"T_c0cb7_row6_col2\" class=\"data row6 col2\" >1.0000</td>\n",
              "      <td id=\"T_c0cb7_row6_col3\" class=\"data row6 col3\" >0.6667</td>\n",
              "      <td id=\"T_c0cb7_row6_col4\" class=\"data row6 col4\" >0.8000</td>\n",
              "      <td id=\"T_c0cb7_row6_col5\" class=\"data row6 col5\" >0.7805</td>\n",
              "      <td id=\"T_c0cb7_row6_col6\" class=\"data row6 col6\" >0.8000</td>\n",
              "    </tr>\n",
              "    <tr>\n",
              "      <th id=\"T_c0cb7_level0_row7\" class=\"row_heading level0 row7\" >7</th>\n",
              "      <td id=\"T_c0cb7_row7_col0\" class=\"data row7 col0\" >0.9444</td>\n",
              "      <td id=\"T_c0cb7_row7_col1\" class=\"data row7 col1\" >0.7025</td>\n",
              "      <td id=\"T_c0cb7_row7_col2\" class=\"data row7 col2\" >0.5000</td>\n",
              "      <td id=\"T_c0cb7_row7_col3\" class=\"data row7 col3\" >0.6667</td>\n",
              "      <td id=\"T_c0cb7_row7_col4\" class=\"data row7 col4\" >0.5714</td>\n",
              "      <td id=\"T_c0cb7_row7_col5\" class=\"data row7 col5\" >0.5424</td>\n",
              "      <td id=\"T_c0cb7_row7_col6\" class=\"data row7 col6\" >0.5488</td>\n",
              "    </tr>\n",
              "    <tr>\n",
              "      <th id=\"T_c0cb7_level0_row8\" class=\"row_heading level0 row8\" >8</th>\n",
              "      <td id=\"T_c0cb7_row8_col0\" class=\"data row8 col0\" >1.0000</td>\n",
              "      <td id=\"T_c0cb7_row8_col1\" class=\"data row8 col1\" >1.0000</td>\n",
              "      <td id=\"T_c0cb7_row8_col2\" class=\"data row8 col2\" >1.0000</td>\n",
              "      <td id=\"T_c0cb7_row8_col3\" class=\"data row8 col3\" >1.0000</td>\n",
              "      <td id=\"T_c0cb7_row8_col4\" class=\"data row8 col4\" >1.0000</td>\n",
              "      <td id=\"T_c0cb7_row8_col5\" class=\"data row8 col5\" >1.0000</td>\n",
              "      <td id=\"T_c0cb7_row8_col6\" class=\"data row8 col6\" >1.0000</td>\n",
              "    </tr>\n",
              "    <tr>\n",
              "      <th id=\"T_c0cb7_level0_row9\" class=\"row_heading level0 row9\" >9</th>\n",
              "      <td id=\"T_c0cb7_row9_col0\" class=\"data row9 col0\" >0.9815</td>\n",
              "      <td id=\"T_c0cb7_row9_col1\" class=\"data row9 col1\" >0.9950</td>\n",
              "      <td id=\"T_c0cb7_row9_col2\" class=\"data row9 col2\" >1.0000</td>\n",
              "      <td id=\"T_c0cb7_row9_col3\" class=\"data row9 col3\" >0.8000</td>\n",
              "      <td id=\"T_c0cb7_row9_col4\" class=\"data row9 col4\" >0.8889</td>\n",
              "      <td id=\"T_c0cb7_row9_col5\" class=\"data row9 col5\" >0.8789</td>\n",
              "      <td id=\"T_c0cb7_row9_col6\" class=\"data row9 col6\" >0.8854</td>\n",
              "    </tr>\n",
              "    <tr>\n",
              "      <th id=\"T_c0cb7_level0_row10\" class=\"row_heading level0 row10\" >Mean</th>\n",
              "      <td id=\"T_c0cb7_row10_col0\" class=\"data row10 col0\" >0.9759</td>\n",
              "      <td id=\"T_c0cb7_row10_col1\" class=\"data row10 col1\" >0.9395</td>\n",
              "      <td id=\"T_c0cb7_row10_col2\" class=\"data row10 col2\" >0.8500</td>\n",
              "      <td id=\"T_c0cb7_row10_col3\" class=\"data row10 col3\" >0.7983</td>\n",
              "      <td id=\"T_c0cb7_row10_col4\" class=\"data row10 col4\" >0.8067</td>\n",
              "      <td id=\"T_c0cb7_row10_col5\" class=\"data row10 col5\" >0.7943</td>\n",
              "      <td id=\"T_c0cb7_row10_col6\" class=\"data row10 col6\" >0.8040</td>\n",
              "    </tr>\n",
              "    <tr>\n",
              "      <th id=\"T_c0cb7_level0_row11\" class=\"row_heading level0 row11\" >Std</th>\n",
              "      <td id=\"T_c0cb7_row11_col0\" class=\"data row11 col0\" >0.0204</td>\n",
              "      <td id=\"T_c0cb7_row11_col1\" class=\"data row11 col1\" >0.1061</td>\n",
              "      <td id=\"T_c0cb7_row11_col2\" class=\"data row11 col2\" >0.2409</td>\n",
              "      <td id=\"T_c0cb7_row11_col3\" class=\"data row11 col3\" >0.1811</td>\n",
              "      <td id=\"T_c0cb7_row11_col4\" class=\"data row11 col4\" >0.1859</td>\n",
              "      <td id=\"T_c0cb7_row11_col5\" class=\"data row11 col5\" >0.1957</td>\n",
              "      <td id=\"T_c0cb7_row11_col6\" class=\"data row11 col6\" >0.1927</td>\n",
              "    </tr>\n",
              "  </tbody>\n",
              "</table>\n"
            ]
          },
          "metadata": {}
        },
        {
          "output_type": "display_data",
          "data": {
            "text/plain": [
              "Processing:   0%|          | 0/7 [00:00<?, ?it/s]"
            ],
            "application/vnd.jupyter.widget-view+json": {
              "version_major": 2,
              "version_minor": 0,
              "model_id": "688cd25ae08d4ceeb4c0dd68c7251a36"
            }
          },
          "metadata": {
            "application/vnd.jupyter.widget-view+json": {
              "colab": {
                "custom_widget_manager": {
                  "url": "https://ssl.gstatic.com/colaboratory-static/widgets/colab-cdn-widget-manager/b3e629b1971e1542/manager.min.js"
                }
              }
            }
          }
        },
        {
          "output_type": "stream",
          "name": "stdout",
          "text": [
            "Fitting 10 folds for each of 10 candidates, totalling 100 fits\n"
          ]
        },
        {
          "output_type": "display_data",
          "data": {
            "text/plain": [
              "<IPython.core.display.HTML object>"
            ],
            "text/html": []
          },
          "metadata": {}
        }
      ]
    },
    {
      "cell_type": "markdown",
      "source": [
        "## Análise de Desempenho: Curva ROC e AUC\n",
        "\n",
        "A análise das métricas de desempenho revela um bom resultado geral do modelo. A acurácia média é alta (97.59%), indicando que o modelo está acertando a maioria das previsões. A AUC média também é boa (93.95%), mostrando que o modelo possui uma boa capacidade de distinguir entre as classes. O recall médio é de 85%, destacando sua habilidade em capturar casos positivos. Embora a precisão média seja 79.83%, o F1-score médio (80.67%) indica um equilíbrio entre precisão e recall. O índice Kappa e MCC médio de 79.43% e 80.40%, respectivamente, refletem uma concordância sólida. Em geral, o modelo parece ser robusto, mas a variação padrão (Std) sugere alguma inconsistência nos resultados. O processo de validação cruzada mostrou que o modelo se saiu bem, sendo confiável em diferentes divisões dos dados."
      ],
      "metadata": {
        "id": "XYs8LHWpZ9FX"
      }
    },
    {
      "cell_type": "code",
      "source": [
        "plot_model(catboost)\n"
      ],
      "metadata": {
        "colab": {
          "base_uri": "https://localhost:8080/",
          "height": 524
        },
        "id": "BquKLs1BaAJ_",
        "outputId": "3022908a-5df2-469a-f9c6-2dc10fba6181"
      },
      "execution_count": 31,
      "outputs": [
        {
          "output_type": "display_data",
          "data": {
            "text/plain": [
              "<IPython.core.display.HTML object>"
            ],
            "text/html": []
          },
          "metadata": {}
        },
        {
          "output_type": "display_data",
          "data": {
            "text/plain": [
              "<Figure size 800x550 with 1 Axes>"
            ],
            "image/png": "[encoded data removed]"
          },
          "metadata": {}
        }
      ]
    },
    {
      "cell_type": "markdown",
      "source": [
        "### Análise de Desempenho: Curva Precisão-Recall\n",
        "\n",
        "No gráfico abaixo, apresentamos a curva Precisão-Recall. Esta é uma métrica especialmente útil quando as classes estão muito desequilibradas, como no nosso caso. A curva Precisão-Recall mostra a relação entre a precisão (quantos dos exemplos classificados como positivos são realmente positivos) e a recuperação (quantos dos exemplos positivos reais são classificados corretamente).\n",
        "\n",
        "Uma área significativa sob a curva indica que o classificador possui tanto alta recuperação quanto alta precisão. Uma alta pontuação para ambas as métricas é desejável, pois isso significa que o modelo está retornando resultados precisos (alta precisão) e também capturando a maioria dos exemplos positivos (alta recuperação).\n",
        "\n",
        "Observando o nosso gráfico, podemos notar que embora a curva esteja representando bem o equilíbrio entre precisão e recuperação, o valor médio de precisão não foi tão elevado, atingindo apenas 0.36. Isso nos dá uma ideia de como o modelo está se comportando em relação à classificação das classes."
      ],
      "metadata": {
        "id": "0Z2cmRXvaHYU"
      }
    },
    {
      "cell_type": "code",
      "source": [
        "plot_model(catboost, plot='pr')"
      ],
      "metadata": {
        "colab": {
          "base_uri": "https://localhost:8080/",
          "height": 524
        },
        "id": "RUTxfZ7FOdXy",
        "outputId": "fc42e7d7-319b-40f9-ee68-1e1dc70726bb"
      },
      "execution_count": 32,
      "outputs": [
        {
          "output_type": "display_data",
          "data": {
            "text/plain": [
              "<IPython.core.display.HTML object>"
            ],
            "text/html": []
          },
          "metadata": {}
        },
        {
          "output_type": "display_data",
          "data": {
            "text/plain": [
              "<Figure size 800x550 with 1 Axes>"
            ],
            "image/png": "[encoded data removed]"
          },
          "metadata": {}
        }
      ]
    },
    {
      "cell_type": "markdown",
      "source": [
        "Veremos agora quais as features mais importantes para o modelo de classificação Cat Boost Classifier."
      ],
      "metadata": {
        "id": "KN37SL0aRZwl"
      }
    },
    {
      "cell_type": "code",
      "source": [
        "plot_model(catboost, plot='feature')\n"
      ],
      "metadata": {
        "colab": {
          "base_uri": "https://localhost:8080/",
          "height": 485
        },
        "id": "gm-hiPwVReaa",
        "outputId": "df2db9c8-4950-40be-c7f5-4ab5d884d9ce"
      },
      "execution_count": 33,
      "outputs": [
        {
          "output_type": "display_data",
          "data": {
            "text/plain": [
              "<IPython.core.display.HTML object>"
            ],
            "text/html": []
          },
          "metadata": {}
        },
        {
          "output_type": "display_data",
          "data": {
            "text/plain": [
              "<Figure size 800x500 with 1 Axes>"
            ],
            "image/png": "[encoded data removed]"
          },
          "metadata": {}
        }
      ]
    },
    {
      "cell_type": "markdown",
      "source": [
        "Matriz de confusão (Confusion Matrix) do modelo CatBoost Classifier.\n",
        "\n"
      ],
      "metadata": {
        "id": "-NGqfpGeRihT"
      }
    },
    {
      "cell_type": "code",
      "source": [
        "plot_model(catboost, plot='confusion_matrix')\n"
      ],
      "metadata": {
        "colab": {
          "base_uri": "https://localhost:8080/",
          "height": 551
        },
        "id": "mBgCcNPJRknn",
        "outputId": "f317dcf7-110a-4b18-82f8-5c4a5cbada55"
      },
      "execution_count": 34,
      "outputs": [
        {
          "output_type": "display_data",
          "data": {
            "text/plain": [
              "<IPython.core.display.HTML object>"
            ],
            "text/html": []
          },
          "metadata": {}
        },
        {
          "output_type": "display_data",
          "data": {
            "text/plain": [
              "<Figure size 800x550 with 1 Axes>"
            ],
            "image/png": "[encoded data removed]"
          },
          "metadata": {}
        }
      ]
    },
    {
      "cell_type": "markdown",
      "source": [
        "Threshold plot"
      ],
      "metadata": {
        "id": "Qsl7orrjRq2Y"
      }
    },
    {
      "cell_type": "code",
      "source": [
        "plot_model(catboost, plot='threshold')\n"
      ],
      "metadata": {
        "colab": {
          "base_uri": "https://localhost:8080/",
          "height": 407
        },
        "id": "KQ7C9xGeRsSI",
        "outputId": "78aa5309-ba62-41e1-94a2-c42969aa55fa"
      },
      "execution_count": 38,
      "outputs": [
        {
          "output_type": "display_data",
          "data": {
            "text/plain": [
              "<IPython.core.display.HTML object>"
            ],
            "text/html": []
          },
          "metadata": {}
        },
        {
          "output_type": "error",
          "ename": "KeyboardInterrupt",
          "evalue": "ignored",
          "traceback": [
            "\u001b[0;31m---------------------------------------------------------------------------\u001b[0m",
            "\u001b[0;31mKeyboardInterrupt\u001b[0m                         Traceback (most recent call last)",
            "\u001b[0;32m<ipython-input-38-f702ba861b8c>\u001b[0m in \u001b[0;36m<cell line: 1>\u001b[0;34m()\u001b[0m\n\u001b[0;32m----> 1\u001b[0;31m \u001b[0mplot_model\u001b[0m\u001b[0;34m(\u001b[0m\u001b[0mcatboost\u001b[0m\u001b[0;34m,\u001b[0m \u001b[0mplot\u001b[0m\u001b[0;34m=\u001b[0m\u001b[0;34m'threshold'\u001b[0m\u001b[0;34m)\u001b[0m\u001b[0;34m\u001b[0m\u001b[0;34m\u001b[0m\u001b[0m\n\u001b[0m",
            "\u001b[0;32m/usr/local/lib/python3.10/dist-packages/pycaret/utils/generic.py\u001b[0m in \u001b[0;36mwrapper\u001b[0;34m(*args, **kwargs)\u001b[0m\n\u001b[1;32m    963\u001b[0m                 \u001b[0;32mif\u001b[0m \u001b[0mglobals_d\u001b[0m\u001b[0;34m[\u001b[0m\u001b[0mname\u001b[0m\u001b[0;34m]\u001b[0m \u001b[0;32mis\u001b[0m \u001b[0;32mNone\u001b[0m\u001b[0;34m:\u001b[0m\u001b[0;34m\u001b[0m\u001b[0;34m\u001b[0m\u001b[0m\n\u001b[1;32m    964\u001b[0m                     \u001b[0;32mraise\u001b[0m \u001b[0mValueError\u001b[0m\u001b[0;34m(\u001b[0m\u001b[0mmessage\u001b[0m\u001b[0;34m)\u001b[0m\u001b[0;34m\u001b[0m\u001b[0;34m\u001b[0m\u001b[0m\n\u001b[0;32m--> 965\u001b[0;31m             \u001b[0;32mreturn\u001b[0m \u001b[0mfunc\u001b[0m\u001b[0;34m(\u001b[0m\u001b[0;34m*\u001b[0m\u001b[0margs\u001b[0m\u001b[0;34m,\u001b[0m \u001b[0;34m**\u001b[0m\u001b[0mkwargs\u001b[0m\u001b[0;34m)\u001b[0m\u001b[0;34m\u001b[0m\u001b[0;34m\u001b[0m\u001b[0m\n\u001b[0m\u001b[1;32m    966\u001b[0m \u001b[0;34m\u001b[0m\u001b[0m\n\u001b[1;32m    967\u001b[0m         \u001b[0;32mreturn\u001b[0m \u001b[0mwrapper\u001b[0m\u001b[0;34m\u001b[0m\u001b[0;34m\u001b[0m\u001b[0m\n",
            "\u001b[0;32m/usr/local/lib/python3.10/dist-packages/pycaret/classification/functional.py\u001b[0m in \u001b[0;36mplot_model\u001b[0;34m(estimator, plot, scale, save, fold, fit_kwargs, plot_kwargs, groups, verbose, display_format)\u001b[0m\n\u001b[1;32m   1731\u001b[0m     \"\"\"\n\u001b[1;32m   1732\u001b[0m \u001b[0;34m\u001b[0m\u001b[0m\n\u001b[0;32m-> 1733\u001b[0;31m     return _CURRENT_EXPERIMENT.plot_model(\n\u001b[0m\u001b[1;32m   1734\u001b[0m         \u001b[0mestimator\u001b[0m\u001b[0;34m=\u001b[0m\u001b[0mestimator\u001b[0m\u001b[0;34m,\u001b[0m\u001b[0;34m\u001b[0m\u001b[0;34m\u001b[0m\u001b[0m\n\u001b[1;32m   1735\u001b[0m         \u001b[0mplot\u001b[0m\u001b[0;34m=\u001b[0m\u001b[0mplot\u001b[0m\u001b[0;34m,\u001b[0m\u001b[0;34m\u001b[0m\u001b[0;34m\u001b[0m\u001b[0m\n",
            "\u001b[0;32m/usr/local/lib/python3.10/dist-packages/pycaret/classification/oop.py\u001b[0m in \u001b[0;36mplot_model\u001b[0;34m(self, estimator, plot, scale, save, fold, fit_kwargs, plot_kwargs, groups, verbose, display_format)\u001b[0m\n\u001b[1;32m   2075\u001b[0m         \"\"\"\n\u001b[1;32m   2076\u001b[0m \u001b[0;34m\u001b[0m\u001b[0m\n\u001b[0;32m-> 2077\u001b[0;31m         return super().plot_model(\n\u001b[0m\u001b[1;32m   2078\u001b[0m             \u001b[0mestimator\u001b[0m\u001b[0;34m=\u001b[0m\u001b[0mestimator\u001b[0m\u001b[0;34m,\u001b[0m\u001b[0;34m\u001b[0m\u001b[0;34m\u001b[0m\u001b[0m\n\u001b[1;32m   2079\u001b[0m             \u001b[0mplot\u001b[0m\u001b[0;34m=\u001b[0m\u001b[0mplot\u001b[0m\u001b[0;34m,\u001b[0m\u001b[0;34m\u001b[0m\u001b[0;34m\u001b[0m\u001b[0m\n",
            "\u001b[0;32m/usr/local/lib/python3.10/dist-packages/pycaret/internal/pycaret_experiment/tabular_experiment.py\u001b[0m in \u001b[0;36mplot_model\u001b[0;34m(self, estimator, plot, scale, save, fold, fit_kwargs, plot_kwargs, groups, feature_name, label, verbose, display_format)\u001b[0m\n\u001b[1;32m   2045\u001b[0m \u001b[0;34m\u001b[0m\u001b[0m\n\u001b[1;32m   2046\u001b[0m         \"\"\"\n\u001b[0;32m-> 2047\u001b[0;31m         return self._plot_model(\n\u001b[0m\u001b[1;32m   2048\u001b[0m             \u001b[0mestimator\u001b[0m\u001b[0;34m=\u001b[0m\u001b[0mestimator\u001b[0m\u001b[0;34m,\u001b[0m\u001b[0;34m\u001b[0m\u001b[0;34m\u001b[0m\u001b[0m\n\u001b[1;32m   2049\u001b[0m             \u001b[0mplot\u001b[0m\u001b[0;34m=\u001b[0m\u001b[0mplot\u001b[0m\u001b[0;34m,\u001b[0m\u001b[0;34m\u001b[0m\u001b[0;34m\u001b[0m\u001b[0m\n",
            "\u001b[0;32m/usr/local/lib/python3.10/dist-packages/pycaret/internal/pycaret_experiment/tabular_experiment.py\u001b[0m in \u001b[0;36m_plot_model\u001b[0;34m(self, estimator, plot, scale, save, fold, fit_kwargs, plot_kwargs, groups, feature_name, label, verbose, system, display, display_format)\u001b[0m\n\u001b[1;32m   1913\u001b[0m                 \u001b[0;31m# execute the plot method\u001b[0m\u001b[0;34m\u001b[0m\u001b[0;34m\u001b[0m\u001b[0m\n\u001b[1;32m   1914\u001b[0m                 \u001b[0;32mwith\u001b[0m \u001b[0mredirect_output\u001b[0m\u001b[0;34m(\u001b[0m\u001b[0mself\u001b[0m\u001b[0;34m.\u001b[0m\u001b[0mlogger\u001b[0m\u001b[0;34m)\u001b[0m\u001b[0;34m:\u001b[0m\u001b[0;34m\u001b[0m\u001b[0;34m\u001b[0m\u001b[0m\n\u001b[0;32m-> 1915\u001b[0;31m                     \u001b[0mret\u001b[0m \u001b[0;34m=\u001b[0m \u001b[0mlocals\u001b[0m\u001b[0;34m(\u001b[0m\u001b[0;34m)\u001b[0m\u001b[0;34m[\u001b[0m\u001b[0mplot\u001b[0m\u001b[0;34m]\u001b[0m\u001b[0;34m(\u001b[0m\u001b[0;34m)\u001b[0m\u001b[0;34m\u001b[0m\u001b[0;34m\u001b[0m\u001b[0m\n\u001b[0m\u001b[1;32m   1916\u001b[0m                 \u001b[0;32mif\u001b[0m \u001b[0mret\u001b[0m\u001b[0;34m:\u001b[0m\u001b[0;34m\u001b[0m\u001b[0;34m\u001b[0m\u001b[0m\n\u001b[1;32m   1917\u001b[0m                     \u001b[0mplot_filename\u001b[0m \u001b[0;34m=\u001b[0m \u001b[0mret\u001b[0m\u001b[0;34m\u001b[0m\u001b[0;34m\u001b[0m\u001b[0m\n",
            "\u001b[0;32m/usr/local/lib/python3.10/dist-packages/pycaret/internal/pycaret_experiment/tabular_experiment.py\u001b[0m in \u001b[0;36mthreshold\u001b[0;34m()\u001b[0m\n\u001b[1;32m   1158\u001b[0m                         \u001b[0mestimator\u001b[0m\u001b[0;34m,\u001b[0m \u001b[0mrandom_state\u001b[0m\u001b[0;34m=\u001b[0m\u001b[0mself\u001b[0m\u001b[0;34m.\u001b[0m\u001b[0mseed\u001b[0m\u001b[0;34m,\u001b[0m \u001b[0;34m**\u001b[0m\u001b[0mplot_kwargs\u001b[0m\u001b[0;34m\u001b[0m\u001b[0;34m\u001b[0m\u001b[0m\n\u001b[1;32m   1159\u001b[0m                     )\n\u001b[0;32m-> 1160\u001b[0;31m                     return show_yellowbrick_plot(\n\u001b[0m\u001b[1;32m   1161\u001b[0m                         \u001b[0mvisualizer\u001b[0m\u001b[0;34m=\u001b[0m\u001b[0mvisualizer\u001b[0m\u001b[0;34m,\u001b[0m\u001b[0;34m\u001b[0m\u001b[0;34m\u001b[0m\u001b[0m\n\u001b[1;32m   1162\u001b[0m                         \u001b[0mX_train\u001b[0m\u001b[0;34m=\u001b[0m\u001b[0mself\u001b[0m\u001b[0;34m.\u001b[0m\u001b[0mX_train_transformed\u001b[0m\u001b[0;34m,\u001b[0m\u001b[0;34m\u001b[0m\u001b[0;34m\u001b[0m\u001b[0m\n",
            "\u001b[0;32m/usr/local/lib/python3.10/dist-packages/pycaret/internal/plots/yellowbrick.py\u001b[0m in \u001b[0;36mshow_yellowbrick_plot\u001b[0;34m(visualizer, X_train, y_train, X_test, y_test, name, handle_train, handle_test, scale, save, fit_kwargs, display_format, **kwargs)\u001b[0m\n\u001b[1;32m     85\u001b[0m     \u001b[0;32melif\u001b[0m \u001b[0mhandle_train\u001b[0m \u001b[0;34m==\u001b[0m \u001b[0;34m\"fit\"\u001b[0m\u001b[0;34m:\u001b[0m\u001b[0;34m\u001b[0m\u001b[0;34m\u001b[0m\u001b[0m\n\u001b[1;32m     86\u001b[0m         \u001b[0mlogger\u001b[0m\u001b[0;34m.\u001b[0m\u001b[0minfo\u001b[0m\u001b[0;34m(\u001b[0m\u001b[0;34m\"Fitting Model\"\u001b[0m\u001b[0;34m)\u001b[0m\u001b[0;34m\u001b[0m\u001b[0;34m\u001b[0m\u001b[0m\n\u001b[0;32m---> 87\u001b[0;31m         \u001b[0mvisualizer\u001b[0m\u001b[0;34m.\u001b[0m\u001b[0mfit\u001b[0m\u001b[0;34m(\u001b[0m\u001b[0mX_train\u001b[0m\u001b[0;34m,\u001b[0m \u001b[0my_train\u001b[0m\u001b[0;34m,\u001b[0m \u001b[0;34m**\u001b[0m\u001b[0mfit_kwargs_and_kwargs\u001b[0m\u001b[0;34m)\u001b[0m\u001b[0;34m\u001b[0m\u001b[0;34m\u001b[0m\u001b[0m\n\u001b[0m\u001b[1;32m     88\u001b[0m     \u001b[0;32melif\u001b[0m \u001b[0mhandle_train\u001b[0m \u001b[0;34m==\u001b[0m \u001b[0;34m\"fit_transform\"\u001b[0m\u001b[0;34m:\u001b[0m\u001b[0;34m\u001b[0m\u001b[0;34m\u001b[0m\u001b[0m\n\u001b[1;32m     89\u001b[0m         \u001b[0mlogger\u001b[0m\u001b[0;34m.\u001b[0m\u001b[0minfo\u001b[0m\u001b[0;34m(\u001b[0m\u001b[0;34m\"Fitting & Transforming Model\"\u001b[0m\u001b[0;34m)\u001b[0m\u001b[0;34m\u001b[0m\u001b[0;34m\u001b[0m\u001b[0m\n",
            "\u001b[0;32m/usr/local/lib/python3.10/dist-packages/yellowbrick/classifier/threshold.py\u001b[0m in \u001b[0;36mfit\u001b[0;34m(self, X, y, **kwargs)\u001b[0m\n\u001b[1;32m    264\u001b[0m         \u001b[0;31m# TODO: parallelize trials with joblib (using sklearn utility)\u001b[0m\u001b[0;34m\u001b[0m\u001b[0;34m\u001b[0m\u001b[0m\n\u001b[1;32m    265\u001b[0m         \u001b[0;31m# NOTE: parallelization with matplotlib is tricky at best!\u001b[0m\u001b[0;34m\u001b[0m\u001b[0;34m\u001b[0m\u001b[0m\n\u001b[0;32m--> 266\u001b[0;31m         trials = [\n\u001b[0m\u001b[1;32m    267\u001b[0m             \u001b[0mmetric\u001b[0m\u001b[0;34m\u001b[0m\u001b[0;34m\u001b[0m\u001b[0m\n\u001b[1;32m    268\u001b[0m             \u001b[0;32mfor\u001b[0m \u001b[0midx\u001b[0m \u001b[0;32min\u001b[0m \u001b[0mrange\u001b[0m\u001b[0;34m(\u001b[0m\u001b[0mself\u001b[0m\u001b[0;34m.\u001b[0m\u001b[0mn_trials\u001b[0m\u001b[0;34m)\u001b[0m\u001b[0;34m\u001b[0m\u001b[0;34m\u001b[0m\u001b[0m\n",
            "\u001b[0;32m/usr/local/lib/python3.10/dist-packages/yellowbrick/classifier/threshold.py\u001b[0m in \u001b[0;36m<listcomp>\u001b[0;34m(.0)\u001b[0m\n\u001b[1;32m    264\u001b[0m         \u001b[0;31m# TODO: parallelize trials with joblib (using sklearn utility)\u001b[0m\u001b[0;34m\u001b[0m\u001b[0;34m\u001b[0m\u001b[0m\n\u001b[1;32m    265\u001b[0m         \u001b[0;31m# NOTE: parallelization with matplotlib is tricky at best!\u001b[0m\u001b[0;34m\u001b[0m\u001b[0;34m\u001b[0m\u001b[0m\n\u001b[0;32m--> 266\u001b[0;31m         trials = [\n\u001b[0m\u001b[1;32m    267\u001b[0m             \u001b[0mmetric\u001b[0m\u001b[0;34m\u001b[0m\u001b[0;34m\u001b[0m\u001b[0m\n\u001b[1;32m    268\u001b[0m             \u001b[0;32mfor\u001b[0m \u001b[0midx\u001b[0m \u001b[0;32min\u001b[0m \u001b[0mrange\u001b[0m\u001b[0;34m(\u001b[0m\u001b[0mself\u001b[0m\u001b[0;34m.\u001b[0m\u001b[0mn_trials\u001b[0m\u001b[0;34m)\u001b[0m\u001b[0;34m\u001b[0m\u001b[0;34m\u001b[0m\u001b[0m\n",
            "\u001b[0;32m/usr/local/lib/python3.10/dist-packages/yellowbrick/classifier/threshold.py\u001b[0m in \u001b[0;36m_split_fit_score_trial\u001b[0;34m(self, X, y, idx)\u001b[0m\n\u001b[1;32m    338\u001b[0m \u001b[0;34m\u001b[0m\u001b[0m\n\u001b[1;32m    339\u001b[0m             \u001b[0mmodel\u001b[0m \u001b[0;34m=\u001b[0m \u001b[0mclone\u001b[0m\u001b[0;34m(\u001b[0m\u001b[0mself\u001b[0m\u001b[0;34m.\u001b[0m\u001b[0mestimator\u001b[0m\u001b[0;34m)\u001b[0m\u001b[0;34m\u001b[0m\u001b[0;34m\u001b[0m\u001b[0m\n\u001b[0;32m--> 340\u001b[0;31m             \u001b[0mmodel\u001b[0m\u001b[0;34m.\u001b[0m\u001b[0mfit\u001b[0m\u001b[0;34m(\u001b[0m\u001b[0mX_train\u001b[0m\u001b[0;34m,\u001b[0m \u001b[0my_train\u001b[0m\u001b[0;34m)\u001b[0m\u001b[0;34m\u001b[0m\u001b[0;34m\u001b[0m\u001b[0m\n\u001b[0m\u001b[1;32m    341\u001b[0m \u001b[0;34m\u001b[0m\u001b[0m\n\u001b[1;32m    342\u001b[0m             \u001b[0;32mif\u001b[0m \u001b[0mhasattr\u001b[0m\u001b[0;34m(\u001b[0m\u001b[0mmodel\u001b[0m\u001b[0;34m,\u001b[0m \u001b[0;34m\"predict_proba\"\u001b[0m\u001b[0;34m)\u001b[0m\u001b[0;34m:\u001b[0m\u001b[0;34m\u001b[0m\u001b[0;34m\u001b[0m\u001b[0m\n",
            "\u001b[0;32m/usr/local/lib/python3.10/dist-packages/catboost/core.py\u001b[0m in \u001b[0;36mfit\u001b[0;34m(self, X, y, cat_features, text_features, embedding_features, sample_weight, baseline, use_best_model, eval_set, verbose, logging_level, plot, plot_file, column_description, verbose_eval, metric_period, silent, early_stopping_rounds, save_snapshot, snapshot_file, snapshot_interval, init_model, callbacks, log_cout, log_cerr)\u001b[0m\n\u001b[1;32m   5129\u001b[0m             \u001b[0mCatBoostClassifier\u001b[0m\u001b[0;34m.\u001b[0m\u001b[0m_check_is_compatible_loss\u001b[0m\u001b[0;34m(\u001b[0m\u001b[0mparams\u001b[0m\u001b[0;34m[\u001b[0m\u001b[0;34m'loss_function'\u001b[0m\u001b[0;34m]\u001b[0m\u001b[0;34m)\u001b[0m\u001b[0;34m\u001b[0m\u001b[0;34m\u001b[0m\u001b[0m\n\u001b[1;32m   5130\u001b[0m \u001b[0;34m\u001b[0m\u001b[0m\n\u001b[0;32m-> 5131\u001b[0;31m         self._fit(X, y, cat_features, text_features, embedding_features, None, sample_weight, None, None, None, None, baseline, use_best_model,\n\u001b[0m\u001b[1;32m   5132\u001b[0m                   \u001b[0meval_set\u001b[0m\u001b[0;34m,\u001b[0m \u001b[0mverbose\u001b[0m\u001b[0;34m,\u001b[0m \u001b[0mlogging_level\u001b[0m\u001b[0;34m,\u001b[0m \u001b[0mplot\u001b[0m\u001b[0;34m,\u001b[0m \u001b[0mplot_file\u001b[0m\u001b[0;34m,\u001b[0m \u001b[0mcolumn_description\u001b[0m\u001b[0;34m,\u001b[0m \u001b[0mverbose_eval\u001b[0m\u001b[0;34m,\u001b[0m \u001b[0mmetric_period\u001b[0m\u001b[0;34m,\u001b[0m\u001b[0;34m\u001b[0m\u001b[0;34m\u001b[0m\u001b[0m\n\u001b[1;32m   5133\u001b[0m                   silent, early_stopping_rounds, save_snapshot, snapshot_file, snapshot_interval, init_model, callbacks, log_cout, log_cerr)\n",
            "\u001b[0;32m/usr/local/lib/python3.10/dist-packages/catboost/core.py\u001b[0m in \u001b[0;36m_fit\u001b[0;34m(self, X, y, cat_features, text_features, embedding_features, pairs, sample_weight, group_id, group_weight, subgroup_id, pairs_weight, baseline, use_best_model, eval_set, verbose, logging_level, plot, plot_file, column_description, verbose_eval, metric_period, silent, early_stopping_rounds, save_snapshot, snapshot_file, snapshot_interval, init_model, callbacks, log_cout, log_cerr)\u001b[0m\n\u001b[1;32m   2355\u001b[0m         \u001b[0;32mwith\u001b[0m \u001b[0mlog_fixup\u001b[0m\u001b[0;34m(\u001b[0m\u001b[0mlog_cout\u001b[0m\u001b[0;34m,\u001b[0m \u001b[0mlog_cerr\u001b[0m\u001b[0;34m)\u001b[0m\u001b[0;34m,\u001b[0m\u001b[0;31m \u001b[0m\u001b[0;31m\\\u001b[0m\u001b[0;34m\u001b[0m\u001b[0;34m\u001b[0m\u001b[0m\n\u001b[1;32m   2356\u001b[0m             \u001b[0mplot_wrapper\u001b[0m\u001b[0;34m(\u001b[0m\u001b[0mplot\u001b[0m\u001b[0;34m,\u001b[0m \u001b[0mplot_file\u001b[0m\u001b[0;34m,\u001b[0m \u001b[0;34m'Training plots'\u001b[0m\u001b[0;34m,\u001b[0m \u001b[0;34m[\u001b[0m\u001b[0m_get_train_dir\u001b[0m\u001b[0;34m(\u001b[0m\u001b[0mself\u001b[0m\u001b[0;34m.\u001b[0m\u001b[0mget_params\u001b[0m\u001b[0;34m(\u001b[0m\u001b[0;34m)\u001b[0m\u001b[0;34m)\u001b[0m\u001b[0;34m]\u001b[0m\u001b[0;34m)\u001b[0m\u001b[0;34m:\u001b[0m\u001b[0;34m\u001b[0m\u001b[0;34m\u001b[0m\u001b[0m\n\u001b[0;32m-> 2357\u001b[0;31m             self._train(\n\u001b[0m\u001b[1;32m   2358\u001b[0m                 \u001b[0mtrain_pool\u001b[0m\u001b[0;34m,\u001b[0m\u001b[0;34m\u001b[0m\u001b[0;34m\u001b[0m\u001b[0m\n\u001b[1;32m   2359\u001b[0m                 \u001b[0mtrain_params\u001b[0m\u001b[0;34m[\u001b[0m\u001b[0;34m\"eval_sets\"\u001b[0m\u001b[0;34m]\u001b[0m\u001b[0;34m,\u001b[0m\u001b[0;34m\u001b[0m\u001b[0;34m\u001b[0m\u001b[0m\n",
            "\u001b[0;32m/usr/local/lib/python3.10/dist-packages/catboost/core.py\u001b[0m in \u001b[0;36m_train\u001b[0;34m(self, train_pool, test_pool, params, allow_clear_pool, init_model)\u001b[0m\n\u001b[1;32m   1759\u001b[0m \u001b[0;34m\u001b[0m\u001b[0m\n\u001b[1;32m   1760\u001b[0m     \u001b[0;32mdef\u001b[0m \u001b[0m_train\u001b[0m\u001b[0;34m(\u001b[0m\u001b[0mself\u001b[0m\u001b[0;34m,\u001b[0m \u001b[0mtrain_pool\u001b[0m\u001b[0;34m,\u001b[0m \u001b[0mtest_pool\u001b[0m\u001b[0;34m,\u001b[0m \u001b[0mparams\u001b[0m\u001b[0;34m,\u001b[0m \u001b[0mallow_clear_pool\u001b[0m\u001b[0;34m,\u001b[0m \u001b[0minit_model\u001b[0m\u001b[0;34m)\u001b[0m\u001b[0;34m:\u001b[0m\u001b[0;34m\u001b[0m\u001b[0;34m\u001b[0m\u001b[0m\n\u001b[0;32m-> 1761\u001b[0;31m         \u001b[0mself\u001b[0m\u001b[0;34m.\u001b[0m\u001b[0m_object\u001b[0m\u001b[0;34m.\u001b[0m\u001b[0m_train\u001b[0m\u001b[0;34m(\u001b[0m\u001b[0mtrain_pool\u001b[0m\u001b[0;34m,\u001b[0m \u001b[0mtest_pool\u001b[0m\u001b[0;34m,\u001b[0m \u001b[0mparams\u001b[0m\u001b[0;34m,\u001b[0m \u001b[0mallow_clear_pool\u001b[0m\u001b[0;34m,\u001b[0m \u001b[0minit_model\u001b[0m\u001b[0;34m.\u001b[0m\u001b[0m_object\u001b[0m \u001b[0;32mif\u001b[0m \u001b[0minit_model\u001b[0m \u001b[0;32melse\u001b[0m \u001b[0;32mNone\u001b[0m\u001b[0;34m)\u001b[0m\u001b[0;34m\u001b[0m\u001b[0;34m\u001b[0m\u001b[0m\n\u001b[0m\u001b[1;32m   1762\u001b[0m         \u001b[0mself\u001b[0m\u001b[0;34m.\u001b[0m\u001b[0m_set_trained_model_attributes\u001b[0m\u001b[0;34m(\u001b[0m\u001b[0;34m)\u001b[0m\u001b[0;34m\u001b[0m\u001b[0;34m\u001b[0m\u001b[0m\n\u001b[1;32m   1763\u001b[0m \u001b[0;34m\u001b[0m\u001b[0m\n",
            "\u001b[0;32m_catboost.pyx\u001b[0m in \u001b[0;36m_catboost._CatBoost._train\u001b[0;34m()\u001b[0m\n",
            "\u001b[0;32m_catboost.pyx\u001b[0m in \u001b[0;36m_catboost._CatBoost._train\u001b[0;34m()\u001b[0m\n",
            "\u001b[0;31mKeyboardInterrupt\u001b[0m: "
          ]
        },
        {
          "output_type": "display_data",
          "data": {
            "text/plain": [
              "<Figure size 800x550 with 0 Axes>"
            ]
          },
          "metadata": {}
        }
      ]
    },
    {
      "cell_type": "markdown",
      "source": [
        "Abaixo podemos ver os erros do modelo. Vemos que para a classe 0 não houveram erros, mas para a classe 1 houveram erros.\n",
        "\n"
      ],
      "metadata": {
        "id": "PIMvveABR3jL"
      }
    },
    {
      "cell_type": "code",
      "source": [
        "plot_model(catboost, plot='error')\n"
      ],
      "metadata": {
        "id": "O29Kd54xR5cy"
      },
      "execution_count": null,
      "outputs": []
    },
    {
      "cell_type": "markdown",
      "source": [
        "Abaixo podemos ver as métricas de avaliação do modelo, que são a precisão, recall e f1-score.\n",
        "\n",
        "Para a classe 1 (no caso se refere a biópsias que deram positivo para câncer cervical) a precisão foi de apenas 75%, o recall foi maior (92.3%) com isso o f1-score foi de 82.8%."
      ],
      "metadata": {
        "id": "apEWH6t_R74w"
      }
    },
    {
      "cell_type": "code",
      "source": [
        "plot_model(catboost, plot='class_report')"
      ],
      "metadata": {
        "id": "HpZeVDUYR97T"
      },
      "execution_count": null,
      "outputs": []
    },
    {
      "cell_type": "markdown",
      "source": [
        "Gráfico de fronteira do modelo, onde mostra o limite entre as classes e onde os dados foram classificados. Vemos que muitos dados da classe 1 foram classificados na região que dos dados da classe 0."
      ],
      "metadata": {
        "id": "VmS-duIySBAi"
      }
    },
    {
      "cell_type": "code",
      "source": [
        "plot_model(catboost, plot='boundary')"
      ],
      "metadata": {
        "id": "snuWDTDjSCuZ"
      },
      "execution_count": null,
      "outputs": []
    },
    {
      "cell_type": "markdown",
      "source": [
        "Gráfico da curva de aprendizagem do modelo CatBoost Classifier.\n",
        "\n"
      ],
      "metadata": {
        "id": "6LTwwJ_eTfla"
      }
    },
    {
      "cell_type": "code",
      "source": [
        "plot_model(catboost, plot='learning')\n"
      ],
      "metadata": {
        "id": "2y02dUBEThvQ"
      },
      "execution_count": null,
      "outputs": []
    },
    {
      "cell_type": "markdown",
      "source": [
        "Gráfico t-SNE usado para visualizar dados de alta dimensionalidade (acima de 3 dimensões, que refere-se ao número de features).\n",
        "\n"
      ],
      "metadata": {
        "id": "NkwHPRWSTjeW"
      }
    },
    {
      "cell_type": "code",
      "source": [
        "plot_model(catboost, plot='manifold')\n"
      ],
      "metadata": {
        "id": "fBpHGwzKTlZ-"
      },
      "execution_count": null,
      "outputs": []
    },
    {
      "cell_type": "markdown",
      "source": [
        "O gráfico abaixo compara um modelo com calibração ideal com o nosso modelo. Podemos ver que nosso modelo está um pouco distante do desempenho ideal."
      ],
      "metadata": {
        "id": "HNhQKiXxTnrS"
      }
    },
    {
      "cell_type": "code",
      "source": [
        "plot_model(catboost, plot='calibration')\n"
      ],
      "metadata": {
        "id": "Kg2pwFz8Tpmg"
      },
      "execution_count": null,
      "outputs": []
    },
    {
      "cell_type": "markdown",
      "source": [
        "Podemos fazer a calibração do modelo usando a função abaixo.\n",
        "\n",
        "Vemos que as métricas de avaliação do modelo já melhoraram."
      ],
      "metadata": {
        "id": "CVYverzJTr7y"
      }
    },
    {
      "cell_type": "code",
      "source": [
        "calibrate_cat = calibrate_model(catboost)\n"
      ],
      "metadata": {
        "id": "2R39_d7KTt8k"
      },
      "execution_count": null,
      "outputs": []
    },
    {
      "cell_type": "markdown",
      "source": [
        "A calibração gerou uma piora no modelo.\n",
        "\n"
      ],
      "metadata": {
        "id": "qHCTGgZHUAQx"
      }
    },
    {
      "cell_type": "code",
      "source": [
        "plot_model(calibrate_cat, plot='calibration')\n"
      ],
      "metadata": {
        "id": "i0Txe93pT_Sa"
      },
      "execution_count": null,
      "outputs": []
    },
    {
      "cell_type": "markdown",
      "source": [
        "O gráfico abaixo , conforme descrito pela biblioteca YellowBrik aqui, é gerado pelo é um algoritmo de visualização de dados multivariados, chamado de RadViz, que plota cada dimensão de recurso uniformemente em torno da circunferência de um círculo, em seguida, plota pontos no interior do círculo de modo que o ponto normalize seus valores nos eixos do centro para cada arco. Este mecanismo permite tantas dimensões quantas caberem facilmente em um círculo, expandindo muito a dimensionalidade da visualização.\n",
        "\n",
        "Aqui vemos que é possível ver os grupos de dados de cada uma das classes."
      ],
      "metadata": {
        "id": "-D1kD9JnUGm5"
      }
    },
    {
      "cell_type": "code",
      "source": [
        "plot_model(catboost, plot='dimension')\n"
      ],
      "metadata": {
        "id": "Ec5QFfO2UGBD"
      },
      "execution_count": null,
      "outputs": []
    },
    {
      "cell_type": "markdown",
      "source": [
        "RadViz do modelo calibrado.\n",
        "\n"
      ],
      "metadata": {
        "id": "txda3ZaXULrD"
      }
    },
    {
      "cell_type": "code",
      "source": [
        "plot_model(calibrate_cat, plot='dimension')\n"
      ],
      "metadata": {
        "id": "58A86rn6UN5R"
      },
      "execution_count": null,
      "outputs": []
    },
    {
      "cell_type": "markdown",
      "source": [
        "Hiperparâmetros do modelo.\n",
        "\n"
      ],
      "metadata": {
        "id": "9O9e0NRDUQcY"
      }
    },
    {
      "cell_type": "code",
      "source": [
        "plot_model(catboost, plot='parameter')\n"
      ],
      "metadata": {
        "id": "t_T0pFEbUP1F"
      },
      "execution_count": null,
      "outputs": []
    },
    {
      "cell_type": "markdown",
      "source": [
        "Parâmetros do modelo calibrado."
      ],
      "metadata": {
        "id": "FRqAojaHUWzz"
      }
    },
    {
      "cell_type": "code",
      "source": [
        "plot_model(calibrate_cat, plot='parameter')\n"
      ],
      "metadata": {
        "id": "dfb8cgvRUWXg"
      },
      "execution_count": null,
      "outputs": []
    },
    {
      "cell_type": "markdown",
      "source": [
        "Interpretando o modelo\n",
        "Agora irei gerar dois gráfico que ajudam a entender melhor o nosso modelo.\n",
        "\n",
        "Mas antes terei que instalar a biblioteca shap."
      ],
      "metadata": {
        "id": "8sf7R_sHUcol"
      }
    },
    {
      "cell_type": "code",
      "source": [
        "pip install shap\n"
      ],
      "metadata": {
        "id": "2ru8tjnYUgnd"
      },
      "execution_count": null,
      "outputs": []
    },
    {
      "cell_type": "markdown",
      "source": [
        "Esse gráfico mostra a relevância da contribuição de uma feature para o nosso modelo. Vemos que as features que mais deram contribuição (de cor vermelha) para a capacidade de previsão do modelo foram : Schiller_0, Citology_0 e Hinselmann_0. Outra que podemos citar também é Age (idade)\n",
        "\n",
        "Percebemos que dessas variáveis quatro estão entre as mais importantes no gráfico de feature importance plotado anteriormente."
      ],
      "metadata": {
        "id": "HeQbNF1vUkbD"
      }
    },
    {
      "cell_type": "code",
      "source": [
        "interpret_model(catboost)\n"
      ],
      "metadata": {
        "id": "IlD1-fTNUlWa"
      },
      "execution_count": null,
      "outputs": []
    },
    {
      "cell_type": "markdown",
      "source": [
        "Gráfico de correlação do modelo.\n",
        "\n"
      ],
      "metadata": {
        "id": "FEfI1LqqUn6P"
      }
    },
    {
      "cell_type": "code",
      "source": [
        "interpret_model(catboost, plot='correlation')\n"
      ],
      "metadata": {
        "id": "Nw1n1urSUprb"
      },
      "execution_count": null,
      "outputs": []
    },
    {
      "cell_type": "markdown",
      "source": [
        "Temos abaixo o reason plot.\n",
        "\n"
      ],
      "metadata": {
        "id": "zi_tShegUrxF"
      }
    },
    {
      "cell_type": "code",
      "source": [
        "interpret_model(catboost, plot='reason', observation=10)\n"
      ],
      "metadata": {
        "id": "5cyE2cMXUr5x"
      },
      "execution_count": null,
      "outputs": []
    },
    {
      "cell_type": "markdown",
      "source": [
        "# Gerando previsões com o modelo\n",
        "Abaixo podemos ver as métricas do modelo (bastantes altas) e as previsões em seguida.\n"
      ],
      "metadata": {
        "id": "NSrbH2JaUxwp"
      }
    },
    {
      "cell_type": "code",
      "source": [
        "predict_model(catboost)[['Biopsy','Label']]\n"
      ],
      "metadata": {
        "id": "oMybvqptUwMR"
      },
      "execution_count": null,
      "outputs": []
    },
    {
      "cell_type": "markdown",
      "source": [
        "# Finalizando o modelo\n",
        "Agora o modelo será retreinado com toda a base de dados."
      ],
      "metadata": {
        "id": "OnFU0dGSU5UV"
      }
    },
    {
      "cell_type": "code",
      "source": [
        "final_cat = finalize_model(catboost)\n"
      ],
      "metadata": {
        "id": "PIBSayHYU8bx"
      },
      "execution_count": null,
      "outputs": []
    },
    {
      "cell_type": "markdown",
      "source": [
        "Modelo finalizado e suas métricas. Apenas tomar cuidado que para validarmos o modelo teremos que usar os dados que separamos antes de modelagem do PyCaret."
      ],
      "metadata": {
        "id": "2HKdR7p6U76Z"
      }
    },
    {
      "cell_type": "code",
      "source": [
        "predict_model(final_cat);\n"
      ],
      "metadata": {
        "id": "m1hdtuprVABc"
      },
      "execution_count": null,
      "outputs": []
    },
    {
      "cell_type": "markdown",
      "source": [
        "# Validação do modelo\n",
        "Agora iremos aplicar os dados que separamos da base de dados logo no início do processo. Vamos gerar essas previsões."
      ],
      "metadata": {
        "id": "27pK1_QUVCEt"
      }
    },
    {
      "cell_type": "code",
      "source": [
        "unseen_prediction = predict_model(final_cat, data=data_unseen)\n"
      ],
      "metadata": {
        "id": "iKUD3PXRVErS"
      },
      "execution_count": null,
      "outputs": []
    },
    {
      "cell_type": "markdown",
      "source": [
        "Vamos visualizar os resultados.\n",
        "\n"
      ],
      "metadata": {
        "id": "1CSfGKNnVEPQ"
      }
    },
    {
      "cell_type": "code",
      "source": [
        "unseen_prediction[['Biopsy','Label']].head(10)\n"
      ],
      "metadata": {
        "id": "8H9ineh-VIax"
      },
      "execution_count": null,
      "outputs": []
    },
    {
      "cell_type": "markdown",
      "source": [
        "# Métricas de avaliação do modelo CatBoost Classifier\n",
        "Abaixo podemos ver que mesmo as primeiras métricas sendo bastante altas (Acurácia, AUC e Recall), a precisão e o f1-score do modelo ficaram deixando a desejar."
      ],
      "metadata": {
        "id": "aB9URmy0VKPR"
      }
    },
    {
      "cell_type": "code",
      "source": [
        "print('A Acurácia do modelo CatBoost Classifier foi de :',check_metric(unseen_prediction['Biopsy'],unseen_prediction['Label'],'Accuracy'))\n",
        "print('O AUC do modelo CatBoost Classifier foi de :',check_metric(unseen_prediction['Biopsy'],unseen_prediction['Label'],'AUC'))\n",
        "print('O Recall do modelo CatBoost Classifier foi de :',check_metric(unseen_prediction['Biopsy'],unseen_prediction['Label'],'Recall'))\n",
        "print('A Precisão do modelo CatBoost Classifier foi de :',check_metric(unseen_prediction['Biopsy'],unseen_prediction['Label'],'Precision'))\n",
        "print('O F1-score do modelo CatBoost Classifier foi de :',check_metric(unseen_prediction['Biopsy'],unseen_prediction['Label'],'F1'))\n",
        "print('O Kappa do modelo CatBoost Classifier foi de :',check_metric(unseen_prediction['Biopsy'],unseen_prediction['Label'],'Kappa'))"
      ],
      "metadata": {
        "id": "SWBdTlfOVQNS"
      },
      "execution_count": null,
      "outputs": []
    },
    {
      "cell_type": "markdown",
      "source": [
        "# Salvando o modelo\n",
        "Agora uma das etapas finais é salvar o modelo para depois poder carregá-lo (realizar o deploy)."
      ],
      "metadata": {
        "id": "iyGvxb5UVNcO"
      }
    },
    {
      "cell_type": "code",
      "source": [
        "save_model(final_cat, 'Final CatBoost 22Nov2020')"
      ],
      "metadata": {
        "id": "lrPOEki3VWgK"
      },
      "execution_count": null,
      "outputs": []
    },
    {
      "cell_type": "markdown",
      "source": [
        "# Carregando o modelo\n",
        "Por fim podemos 'chamar' novamente esse modelo."
      ],
      "metadata": {
        "id": "GiuTdAaIVZVx"
      }
    },
    {
      "cell_type": "code",
      "source": [
        "save_final_cat = load_model('Final CatBoost 22Nov2020')\n"
      ],
      "metadata": {
        "id": "j4V-rG3OVZID"
      },
      "execution_count": null,
      "outputs": []
    },
    {
      "cell_type": "markdown",
      "source": [
        "## Realizando previsões com o modelo salvo\n",
        "Ao gerarmos as previsões teremos os mesmo resultados que da validação, mas vamos aplicar aqui apenas para finalizar o projeto na sequência ideal."
      ],
      "metadata": {
        "id": "-B693ft5Vc49"
      }
    },
    {
      "cell_type": "code",
      "source": [
        "novas_predicoes = predict_model(save_final_cat, data=data_unseen)\n"
      ],
      "metadata": {
        "id": "FxayjKDRVdDy"
      },
      "execution_count": null,
      "outputs": []
    },
    {
      "cell_type": "markdown",
      "source": [
        "Visualizando as predições\n",
        "\n"
      ],
      "metadata": {
        "id": "zON_5cXCVhiA"
      }
    },
    {
      "cell_type": "code",
      "source": [
        "novas_predicoes[['Biopsy','Label']]\n"
      ],
      "metadata": {
        "id": "g5lcr_8iVhVB"
      },
      "execution_count": null,
      "outputs": []
    },
    {
      "cell_type": "markdown",
      "source": [
        "Vamos gerar novamente as métricas de avaliações, que são as mesmas de anteriormente."
      ],
      "metadata": {
        "id": "kZrfOdYRVm9r"
      }
    },
    {
      "cell_type": "code",
      "source": [
        "print('A Acurácia do modelo CatBoost Classifier foi de :',check_metric(novas_predicoes['Biopsy'],novas_predicoes['Label'],'Accuracy'))\n",
        "print('O AUC do modelo CatBoost Classifier foi de :',check_metric(novas_predicoes['Biopsy'],novas_predicoes['Label'],'AUC'))\n",
        "print('O Recall do modelo CatBoost Classifier foi de :',check_metric(novas_predicoes['Biopsy'],novas_predicoes['Label'],'Recall'))\n",
        "print('A Precisão do modelo CatBoost Classifier foi de :',check_metric(novas_predicoes['Biopsy'],novas_predicoes['Label'],'Precision'))\n",
        "print('O F1-score do modelo CatBoost Classifier foi de :',check_metric(novas_predicoes['Biopsy'],novas_predicoes['Label'],'F1'))\n",
        "print('O Kappa do modelo CatBoost Classifier foi de :',check_metric(novas_predicoes['Biopsy'],novas_predicoes['Label']))"
      ],
      "metadata": {
        "id": "ZteCnm3BVmY_"
      },
      "execution_count": null,
      "outputs": []
    },
    {
      "cell_type": "markdown",
      "source": [
        "Conclusão\n",
        "Nesse projeto passei pelas principais etapas de um projeto de machine learning utilizando a biblioteca PyCaret, sem aprofundar-me muito. Em outro projeto irei aplicar os métodos de transformações disponibilizados nessa biblioteca para melhoria do modelo de classificação.\n",
        "\n",
        "Observação: Em outro notebook constará a análise exploratória dos dados."
      ],
      "metadata": {
        "id": "8sTBs1VEVtQZ"
      }
    }
  ]
}